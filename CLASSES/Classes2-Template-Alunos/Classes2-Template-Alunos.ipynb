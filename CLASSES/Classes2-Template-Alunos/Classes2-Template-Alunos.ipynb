{
 "cells": [
  {
   "cell_type": "markdown",
   "id": "afbfe6d8-ee65-4a04-95b9-e5e77c0021f6",
   "metadata": {
    "deletable": false,
    "editable": false,
    "tags": []
   },
   "source": [
    "# [Prof. Dalvan Griebler](mailto:dalvan.griebler@pucrs.br)\n",
    "\n",
    "## Programação Orientada a Dados (POD) - Turma 10 (POD_98H04-06)\n",
    "\n",
    "**Atualizado**: 01/09/2021\n",
    "\n",
    "**Descrição**: Material de apoio as aulas sobre Python para POD\n",
    "\n",
    "**Copyright &copy;**: Este documento está sob a licensa da Criative Commons [BY-NC-ND 4.0](https://creativecommons.org/licenses/by-nc-nd/4.0/legalcode)"
   ]
  },
  {
   "cell_type": "markdown",
   "id": "573bf8f8-a9e3-4b6b-9e5a-cb2aac0b199c",
   "metadata": {
    "deletable": false,
    "editable": false,
    "tags": []
   },
   "source": [
    "# Classes em Python (Parte-2) "
   ]
  },
  {
   "cell_type": "markdown",
   "id": "ed746f3f-1962-4bcd-84de-0fc5043f4a02",
   "metadata": {
    "deletable": false,
    "editable": false,
    "tags": []
   },
   "source": [
    "Continuação do assunto sobre classes em Python"
   ]
  },
  {
   "cell_type": "markdown",
   "id": "4dac1d53-cdc9-41e8-9822-a76e0cd42ba1",
   "metadata": {},
   "source": [
    "## Sobrecarga de Operadores"
   ]
  },
  {
   "cell_type": "markdown",
   "id": "9916a59a-5473-4db5-b55d-bd0dc6354a5c",
   "metadata": {},
   "source": [
    "### Operadores Numéricos"
   ]
  },
  {
   "cell_type": "markdown",
   "id": "1e0ce97a-7bdd-4600-b760-f34aa3e90a92",
   "metadata": {},
   "source": [
    "| Operador         | Expressão  | Método Especial            |\n",
    "| ---------------- | ---------- | -------------------------- |\n",
    "| Adição           | Q1 + Q2    | \\_\\_add\\_\\_(self, Q2)      |\n",
    "| Subtração        | Q1 - Q2    | \\_\\_sub\\_\\_(self, Q2)      |\n",
    "| Multiplicação    | Q1 \\* Q2   | \\_\\_mul\\_\\_(self, Q2)      |\n",
    "| Potência         | Q1 \\*\\* Q2 | \\_\\_pow\\_\\_(self, Q2)      |\n",
    "| Divisão          | Q1 / Q2    | \\_\\_truediv\\_\\_(self, Q2)  |\n",
    "| Divisão Inteira  | Q1 // Q2   | \\_\\_floordiv\\_\\_(self, Q2) |\n",
    "| Resto da Divisão | Q1 % Q2    | \\_\\_mod\\_\\_(self, Q2)      |\n",
    "| \\-               | \\-Q1       | \\_\\_neg\\_\\_()              |\n",
    "| +                | +Q1        | \\_\\_pos\\_\\_()              |"
   ]
  },
  {
   "cell_type": "code",
   "execution_count": null,
   "id": "210b42f0-e21d-42ac-9398-e781f58dfc27",
   "metadata": {},
   "outputs": [],
   "source": [
    "class Quantidade:\n",
    "    def __init__(self, valor=0):\n",
    "        self.valor = valor\n",
    "        \n",
    "    def __add__(self,outro):\n",
    "        if isinstance(outro, int):\n",
    "            novo_valor=self.valor+outro\n",
    "        else:\n",
    "            novo_valor=self.valor+outro.valor\n",
    "        return novo_valor\n",
    "\n",
    "    def __sub__(self,outro):\n",
    "        if isinstance(outro, int):\n",
    "            novo_valor=self.valor-outro\n",
    "        else:\n",
    "            novo_valor=self.valor-outro.valor\n",
    "        return novo_valor\n",
    "        \n",
    "    def __str__(self):\n",
    "        return \"Quantidade(\" + str(self.valor) + \")\"\n",
    "    \n",
    "Q1=Quantidade(10)\n",
    "Q2=Quantidade(1)\n",
    "Q3=Q1+Q2\n",
    "print(\"Soma:\", Q3)\n",
    "print(\"Subtração:\", Q1-1)\n",
    "\n",
    "del Q1, Q2, Quantidade"
   ]
  },
  {
   "cell_type": "markdown",
   "id": "46fa5e1d-6b57-448d-a601-eae63bf96cd7",
   "metadata": {},
   "source": [
    "### Operadores de Comparação"
   ]
  },
  {
   "cell_type": "markdown",
   "id": "1c76d622-6399-4baa-b760-36f4894d0a16",
   "metadata": {},
   "source": [
    "| Operador             | Expressão | Método Especial    |\n",
    "| -------------------- | --------- | ------------------ |\n",
    "| Igual                | Q1 == Q2  | \\_\\_eq\\_\\_(Q1, Q2) |\n",
    "| Diferente            | Q1 != Q2  | \\_\\_ne\\_\\_(Q1, Q2) |\n",
    "| Menor que            | Q1 < Q2   | \\_\\_lt\\_\\_(Q1, Q2) |\n",
    "| Menor que ou igual a | Q1 <= Q2  | \\_\\_le\\_\\_(Q1, Q2) |\n",
    "| Maior que            | Q1 > Q2   | \\_\\_gt\\_\\_(Q1, Q2) |\n",
    "| Maior que ou igual a | Q1 >= Q2  | \\_\\_ge\\_\\_(Q1, Q2) |"
   ]
  },
  {
   "cell_type": "code",
   "execution_count": 5,
   "id": "ab24381b-1e3f-49e6-bf0d-b8a4278e7868",
   "metadata": {},
   "outputs": [
    {
     "name": "stdout",
     "output_type": "stream",
     "text": [
      "<class 'int'>\n",
      "Soma: 11\n",
      "Subtração: 11\n",
      "== False\n",
      "!= True\n"
     ]
    }
   ],
   "source": [
    "class Quantidade:\n",
    "    def __init__(self, valor=0):\n",
    "        self.valor = valor\n",
    "        \n",
    "    def __add__(self,outro):\n",
    "        if isinstance(outro, int):\n",
    "            novo_valor=self.valor+outro\n",
    "        else:\n",
    "            novo_valor=self.valor+outro.valor\n",
    "        return novo_valor\n",
    "\n",
    "    def __sub__(self,outro):\n",
    "        if isinstance(outro, int):\n",
    "            novo_valor=self.valor-outro\n",
    "        else:\n",
    "            novo_valor=self.valor-outro.valor\n",
    "        return novo_valor\n",
    "    \n",
    "    def __eq__(self, outro):\n",
    "        if isinstance(outro, int):\n",
    "            return self.valor == outro\n",
    "        else:\n",
    "            return self.valor == outro.valor\n",
    "    \n",
    "    def __ne__(self, outro):\n",
    "        if isinstance(outro, int):\n",
    "            return self.valor != outro\n",
    "        else:\n",
    "            return self.valor != outro.valor\n",
    "        \n",
    "    def __str__(self):\n",
    "        return \"Quantidade(\" + str(self.valor) + \")\"\n",
    "    \n",
    "Q1=Quantidade(10)\n",
    "Q2=Quantidade(1)\n",
    "Q3=Q1+Q2\n",
    "print(type(Q3))\n",
    "print(\"Soma:\", Q3)\n",
    "print(\"Subtração:\", Q1+Q2)\n",
    "\n",
    "print(\"==\", Q1==Q2)\n",
    "print(\"!=\", Q1!=Q3)\n",
    "\n",
    "del Q1, Q2, Quantidade"
   ]
  },
  {
   "cell_type": "markdown",
   "id": "a8424e54-e85c-4c7a-a962-2783bd9d5a5d",
   "metadata": {},
   "source": [
    "### Operadores Bitwise"
   ]
  },
  {
   "cell_type": "markdown",
   "id": "291c1860-c084-44a7-859f-b478cf13a4bd",
   "metadata": {},
   "source": [
    "| Operador                 | Expressão  | Método Especial            |\n",
    "| ------------------------ | ---------- | -------------------------- |\n",
    "| AND (bits em ambos)      | Q1 & Q2    | \\_\\_and\\_\\_(Q1, Q2)        |\n",
    "| OR (bit em qualquer)     | Q1 \\| Q2   | \\_\\_or\\_\\_(Q1, Q2)         |\n",
    "| XOR (bits em um)         | Q1 ^ Q2    | \\_\\_xor\\_\\_(Q1, Q2)        |\n",
    "| Deslocar bits a esquerda | Q1 << bits | \\_\\_lshift\\_\\_(self, bits) |\n",
    "| Deslocar bits a direita  | Q1 >> bits | \\_\\_rshift\\_\\_(self, bits) |\n",
    "| NOT (inverter bits)      | ~Q1        | \\_\\_invert\\_\\_()           |"
   ]
  },
  {
   "cell_type": "code",
   "execution_count": 9,
   "id": "ab8be31f-ee52-4e00-a508-10f1dcafd96f",
   "metadata": {},
   "outputs": [
    {
     "name": "stdout",
     "output_type": "stream",
     "text": [
      "<class 'int'>\n",
      "Soma: 35\n",
      "Subtração: 35\n",
      "== False\n",
      "!= True\n",
      "0b10100 0b1111\n",
      "& 4\n",
      "| 31\n"
     ]
    }
   ],
   "source": [
    "class Quantidade:\n",
    "    def __init__(self, valor=0):\n",
    "        self.valor = valor\n",
    "        \n",
    "    def __add__(self,outro):\n",
    "        if isinstance(outro, int):\n",
    "            novo_valor=self.valor+outro\n",
    "        else:\n",
    "            novo_valor=self.valor+outro.valor\n",
    "        return novo_valor\n",
    "\n",
    "    def __sub__(self,outro):\n",
    "        if isinstance(outro, int):\n",
    "            novo_valor=self.valor-outro\n",
    "        else:\n",
    "            novo_valor=self.valor-outro.valor\n",
    "        return novo_valor\n",
    "    \n",
    "    def __eq__(self, outro):\n",
    "        if isinstance(outro, int):\n",
    "            return self.valor == outro\n",
    "        else:\n",
    "            return self.valor == outro.valor\n",
    "    \n",
    "    def __ne__(self, outro):\n",
    "        if isinstance(outro, int):\n",
    "            return self.valor != outro\n",
    "        else:\n",
    "            return self.valor != outro.valor\n",
    "        \n",
    "    def __and__(self, outro):\n",
    "          return self.valor & outro.valor\n",
    "    \n",
    "    def __or__(self, outro):\n",
    "          return self.valor | outro.valor\n",
    "        \n",
    "    def __str__(self):\n",
    "        return \"Quantidade(\" + str(self.valor) + \")\"\n",
    "    \n",
    "Q1=Quantidade(20)\n",
    "Q2=Quantidade(15)\n",
    "Q3=Q1+Q2\n",
    "print(type(Q3))\n",
    "print(\"Soma:\", Q3)\n",
    "print(\"Subtração:\", Q1+Q2)\n",
    "print(\"==\", Q1==Q2)\n",
    "print(\"!=\", Q1!=Q3)\n",
    "print(bin(20), bin(15))\n",
    "print(\"&\", Q1&Q2)\n",
    "print(\"|\", Q1|Q2)\n",
    "\n",
    "\n",
    "\n",
    "del Q1, Q2, Quantidade"
   ]
  },
  {
   "cell_type": "markdown",
   "id": "99ec1b0f-f9de-4821-bd88-b21bfeb65ab9",
   "metadata": {},
   "source": [
    "### Operadores com atribuição"
   ]
  },
  {
   "cell_type": "markdown",
   "id": "5f03f3f7-e275-416d-9f36-4cef65c79e3d",
   "metadata": {},
   "source": [
    "| Operador com atribuição  | Expressão   | Método Especial             |\n",
    "| ------------------------ | ----------- | --------------------------- |\n",
    "| Adição                   | Q1 += Q2    | \\_\\_iadd\\_\\_(self, Q2)      |\n",
    "| Subtração                | Q1 -= Q2    | \\_\\_isub\\_\\_(self, Q2)      |\n",
    "| Multiplicação            | Q1 \\*= Q2   | \\_\\_imul\\_\\_(self, Q2)      |\n",
    "| Potência                 | Q1 \\*\\*= Q2 | \\_\\_ipow\\_\\_(self, Q2)      |\n",
    "| Divisão                  | Q1 /= Q2    | \\_\\_idiv\\_\\_(self, Q2)      |\n",
    "| Divisão Inteira          | Q1 //= Q2   | \\_\\_ifloordiv\\_\\_(self, Q2) |\n",
    "| Resto da Divisão         | Q1 %= Q2    | \\_\\_imod\\_\\_(self, Q2)      |\n",
    "| AND                      | Q1 &= Q2    | \\_\\_iand\\_\\_(Q1, Q2)        |\n",
    "| OR                       | Q1 \\|= Q2    | \\_\\_ior\\_\\_(Q1, Q2)        |\n",
    "| XOR                      | Q1 ^= Q2    | \\_\\_ixor\\_\\_(Q1, Q2)        |\n",
    "| Deslocar bits a esquerda | Q1 <<= Q2   | \\_\\_ilshift\\_\\_(self, bits) |\n",
    "| Deslocar bits a direita  | Q1 >>= Q2   | \\_\\_irshift\\_\\_(self, bits) |"
   ]
  },
  {
   "cell_type": "code",
   "execution_count": 16,
   "id": "4b676d18-119d-4ca7-9f8d-44f6d003f1e1",
   "metadata": {},
   "outputs": [
    {
     "name": "stdout",
     "output_type": "stream",
     "text": [
      "<class 'int'>\n",
      "Soma: 35\n",
      "Subtração: 35\n",
      "== False\n",
      "!= True\n",
      "0b10100 0b1111\n",
      "& 4\n",
      "| 31\n",
      "Q1+=Q2 35\n"
     ]
    }
   ],
   "source": [
    "class Quantidade:\n",
    "    def __init__(self, valor=0):\n",
    "        self.valor = valor\n",
    "        \n",
    "    def __add__(self,outro):\n",
    "        if isinstance(outro, int):\n",
    "            novo_valor=self.valor+outro\n",
    "        else:\n",
    "            novo_valor=self.valor+outro.valor\n",
    "        return novo_valor\n",
    "\n",
    "    def __sub__(self,outro):\n",
    "        if isinstance(outro, int):\n",
    "            novo_valor=self.valor-outro\n",
    "        else:\n",
    "            novo_valor=self.valor-outro.valor\n",
    "        return novo_valor\n",
    "    \n",
    "    def __eq__(self, outro):\n",
    "        if isinstance(outro, int):\n",
    "            return self.valor == outro\n",
    "        else:\n",
    "            return self.valor == outro.valor\n",
    "    \n",
    "    def __ne__(self, outro):\n",
    "        if isinstance(outro, int):\n",
    "            return self.valor != outro\n",
    "        else:\n",
    "            return self.valor != outro.valor\n",
    "        \n",
    "    def __and__(self, outro):\n",
    "          return self.valor & outro.valor\n",
    "    \n",
    "    def __or__(self, outro):\n",
    "          return self.valor | outro.valor\n",
    "        \n",
    "    def __iadd__(self,outro):\n",
    "        if isinstance(outro, int):\n",
    "            self.valor+=outro\n",
    "        else:\n",
    "            self.valor+=outro.valor\n",
    "        return self.valor \n",
    "\n",
    "    def __isub__(self,outro):\n",
    "        if isinstance(outro, int):\n",
    "            self.valor-=outro\n",
    "        else:\n",
    "            self.valor-=outro.valor\n",
    "        return self.valor\n",
    "        \n",
    "    def __str__(self):\n",
    "        return \"Quantidade(\" + str(self.valor) + \")\"\n",
    "    \n",
    "Q1=Quantidade(20)\n",
    "Q2=Quantidade(15)\n",
    "Q3=Q1+Q2\n",
    "print(type(Q3))\n",
    "print(\"Soma:\", Q3)\n",
    "print(\"Subtração:\", Q1+Q2)\n",
    "print(\"==\", Q1==Q2)\n",
    "print(\"!=\", Q1!=Q3)\n",
    "print(bin(20), bin(15))\n",
    "print(\"&\", Q1&Q2)\n",
    "print(\"|\", Q1|Q2)\n",
    "\n",
    "Q1+=Q2\n",
    "print(\"Q1+=Q2\", Q1)\n",
    "\n",
    "del Q1, Q2, Quantidade"
   ]
  },
  {
   "cell_type": "markdown",
   "id": "1a9661af-54c7-4a21-aebe-c2bfa6cfc8f9",
   "metadata": {},
   "source": [
    "### Operações em Strings"
   ]
  },
  {
   "cell_type": "code",
   "execution_count": null,
   "id": "bf62c8f4-ee21-4004-b9cb-ba044c4f7e8d",
   "metadata": {},
   "outputs": [],
   "source": [
    "Q4=Quantidade(\"POD\")\n",
    "Q5=Quantidade(\"10\")\n",
    "print(Q4+Q5)"
   ]
  },
  {
   "cell_type": "markdown",
   "id": "8b0e8e76-7b01-41cc-bb67-d826e505a61e",
   "metadata": {},
   "source": [
    "## Exercícios de Fixação: Sobrecarga de Operadores"
   ]
  },
  {
   "cell_type": "markdown",
   "id": "16868df6-9982-4123-9d35-9c1c9a778c8b",
   "metadata": {},
   "source": [
    "1. Crie uma classe chamada Distancia, que terá implementado a sobrecarga de operadores para:\n",
    "    - Adição\n",
    "    - Subtração\n",
    "    - Multiplicação\n",
    "    - Potência\n",
    "    - Divisão\n",
    "    - Divisão inteira\n",
    "    - Resto da divisão\n",
    "2. Suporte para mostrar o resultado como uma string\n",
    "3. Suporte que estas operações possam ser feitas com números da classe `int` e `float`\n",
    "4. Suporte a operação com atribuição"
   ]
  },
  {
   "cell_type": "code",
   "execution_count": null,
   "id": "8def8d1e-9fd0-432b-984f-5d58996fcbc8",
   "metadata": {},
   "outputs": [],
   "source": []
  },
  {
   "cell_type": "markdown",
   "id": "0f4b32ac-5668-427a-a28e-e6e966e0aad1",
   "metadata": {},
   "source": [
    "## Propriedades"
   ]
  },
  {
   "cell_type": "code",
   "execution_count": 18,
   "id": "f714dede-fd1c-42d8-b5e2-71d8ebceccfb",
   "metadata": {},
   "outputs": [
    {
     "name": "stdout",
     "output_type": "stream",
     "text": [
      "Caetano 18\n",
      "Caetano Muller 19\n"
     ]
    }
   ],
   "source": [
    "class Pessoa:\n",
    "    def __init__(self, nome, idade):\n",
    "        self._nome = nome\n",
    "        self._idade = idade\n",
    "P1=Pessoa(\"Caetano\", 18)\n",
    "print(P1._nome,P1._idade)\n",
    "P1._nome= \"Caetano Muller\"\n",
    "P1._idade= \"19\"\n",
    "print(P1._nome,P1._idade)\n",
    "del P1, Pessoa"
   ]
  },
  {
   "cell_type": "code",
   "execution_count": 30,
   "id": "34d896a2",
   "metadata": {},
   "outputs": [
    {
     "name": "stdout",
     "output_type": "stream",
     "text": [
      "get_idade\n",
      "Caetano possui 18 anos\n",
      "set_idade\n",
      "get_idade\n",
      "Caetano possui 19 anos\n",
      "set_idade\n",
      "get_idade\n",
      "Caetano possui 20 anos\n"
     ]
    }
   ],
   "source": [
    "class Pessoa:\n",
    "    def __init__(self, nome, idade):\n",
    "        self.__nome = nome\n",
    "        self.__idade = idade\n",
    "    def get_nome(self):\n",
    "        return self.__nome\n",
    "   \n",
    "    def get_idade(self):\n",
    "        print(\"get_idade\")\n",
    "        return self.__idade\n",
    "    \n",
    "    def set_idade(self,nova_idade):\n",
    "        print(\"set_idade\")\n",
    "        if isinstance(nova_idade,int) and nova_idade > 0 and nova_idade < 120:\n",
    "            self.__idade = nova_idade\n",
    "    \n",
    "    def del_idade(self):\n",
    "        print(\"del_idade\")\n",
    "        del self.__idade\n",
    "        \n",
    "    nome=property(get_nome, None, None, doc=\"Proprieade para o atributo idade\")\n",
    "    idade=property(get_idade, set_idade, del_idade, doc=\"Proprieade para o atributo idade\")\n",
    "    \n",
    "    def __str__(self):\n",
    "        return self.nome + \" possui \" + str(self.idade) + \" anos\"\n",
    "\n",
    "P1=Pessoa(\"Caetano\", 18)\n",
    "print(P1)\n",
    "P1.idade=19\n",
    "P1.__idade=30\n",
    "print(P1)\n",
    "P1.set_idade(20) \n",
    "print(P1)\n",
    "del P1, Pessoa"
   ]
  },
  {
   "cell_type": "code",
   "execution_count": 36,
   "id": "aaa10a1c",
   "metadata": {},
   "outputs": [
    {
     "name": "stdout",
     "output_type": "stream",
     "text": [
      "get_idade\n",
      "Caetano possui 18 anos\n",
      "set_idade\n",
      "get_idade\n",
      "Caetano possui 19 anos\n",
      "set_idade\n",
      "get_idade\n",
      "Caetano possui 20 anos\n",
      "del_idade\n"
     ]
    }
   ],
   "source": [
    "class Pessoa:\n",
    "    def __init__(self, nome, idade):\n",
    "        self.__nome = nome\n",
    "        self.__idade = idade\n",
    "    @property\n",
    "    def nome(self):\n",
    "        return self.__nome\n",
    "    @property\n",
    "    def idade(self):\n",
    "        print(\"get_idade\")\n",
    "        return self.__idade\n",
    "    @idade.setter\n",
    "    def idade(self,nova_idade):\n",
    "        print(\"set_idade\")\n",
    "        if isinstance(nova_idade,int) and nova_idade > 0 and nova_idade < 120:\n",
    "            self.__idade = nova_idade\n",
    "    @idade.deleter\n",
    "    def idade(self):\n",
    "        print(\"del_idade\")\n",
    "        del self.__idade\n",
    "        \n",
    "    def __str__(self):\n",
    "        return self.nome + \" possui \" + str(self.idade) + \" anos\"\n",
    "\n",
    "P1=Pessoa(\"Caetano\", 18)\n",
    "print(P1)\n",
    "P1.idade=19\n",
    "print(P1)\n",
    "P1.idade=20\n",
    "print(P1)\n",
    "del P1.idade, P1, Pessoa"
   ]
  },
  {
   "cell_type": "markdown",
   "id": "98bfcd78-8ace-46af-ba6c-8aaa56ca9130",
   "metadata": {},
   "source": [
    "## Métodos Especiais e Atributos Intrínsecos"
   ]
  },
  {
   "cell_type": "code",
   "execution_count": 45,
   "id": "e17a28ef-fbf3-4bde-b446-176658898d2b",
   "metadata": {},
   "outputs": [
    {
     "name": "stdout",
     "output_type": "stream",
     "text": [
      "get_idade\n",
      "Caetano possui 18 anos\n",
      "set_idade\n",
      "get_idade\n",
      "Caetano possui 19 anos\n",
      "set_idade\n",
      "get_idade\n",
      "Caetano possui 20 anos\n",
      "Nome da Classe: Pessoa\n",
      "Modulo: __main__\n",
      "DOC: Este é um exemplo de classe Pessoa\n",
      "dict: {'__module__': '__main__', '__doc__': 'Este é um exemplo de classe Pessoa', '__init__': <function Pessoa.__init__ at 0x7f0b757e77b8>, 'nome': <property object at 0x7f0b75785908>, 'idade': <property object at 0x7f0b757811d8>, '__str__': <function Pessoa.__str__ at 0x7f0b757e7400>, '__dict__': <attribute '__dict__' of 'Pessoa' objects>, '__weakref__': <attribute '__weakref__' of 'Pessoa' objects>}\n",
      "Classe: <class '__main__.Pessoa'>\n",
      "dict: {'_Pessoa__nome': 'Caetano', '_Pessoa__idade': 20}\n",
      "del_idade\n"
     ]
    }
   ],
   "source": [
    "class Pessoa:\n",
    "    \"\"\"Este é um exemplo de classe Pessoa\"\"\"\n",
    "    def __init__(self, nome, idade):\n",
    "        self.__nome = nome\n",
    "        self.__idade = idade\n",
    "    @property\n",
    "    def nome(self):\n",
    "        return self.__nome\n",
    "    @property\n",
    "    def idade(self):\n",
    "        print(\"get_idade\")\n",
    "        return self.__idade\n",
    "    @idade.setter\n",
    "    def idade(self,nova_idade):\n",
    "        print(\"set_idade\")\n",
    "        if isinstance(nova_idade,int) and nova_idade > 0 and nova_idade < 120:\n",
    "            self.__idade = nova_idade\n",
    "    @idade.deleter\n",
    "    def idade(self):\n",
    "        print(\"del_idade\")\n",
    "        del self.__idade\n",
    "        \n",
    "    def __str__(self):\n",
    "        return self.nome + \" possui \" + str(self.idade) + \" anos\"\n",
    "\n",
    "P1=Pessoa(\"Caetano\", 18)\n",
    "print(P1)\n",
    "P1.idade=19\n",
    "print(P1)\n",
    "P1.idade=20\n",
    "print(P1)\n",
    "\n",
    "print(\"Nome da Classe:\", Pessoa.__name__)\n",
    "print(\"Modulo:\", Pessoa.__module__)\n",
    "print(\"DOC:\", Pessoa.__doc__)\n",
    "print(\"dict:\", Pessoa.__dict__)\n",
    "\n",
    "print(\"Classe:\", P1.__class__)\n",
    "print(\"dict:\", P1.__dict__)\n",
    "\n",
    "del P1.idade, P1, Pessoa"
   ]
  },
  {
   "cell_type": "markdown",
   "id": "07c872e2-1f04-40f7-882d-4737337a0012",
   "metadata": {},
   "source": [
    "## Exercício Conta Bancária (Continuação 3)"
   ]
  },
  {
   "cell_type": "markdown",
   "id": "096c3ac4-dc4c-4f19-b2d5-718b4ca55ae4",
   "metadata": {},
   "source": [
    "1. Use decoradores na classe `ContaBancaria` para definir o acesso aos atributos. \n",
    "    - número da conta\n",
    "    - nome da pessoa\n",
    "    - saldo inicial (em reais)\n",
    "    - tipo de conta (corrente, poupança ou investimento)\n"
   ]
  },
  {
   "cell_type": "code",
   "execution_count": null,
   "id": "05744858-3468-45e2-991c-8c6f0b35f76f",
   "metadata": {},
   "outputs": [],
   "source": []
  }
 ],
 "metadata": {
  "kernelspec": {
   "display_name": "Python 3",
   "language": "python",
   "name": "python3"
  },
  "language_info": {
   "codemirror_mode": {
    "name": "ipython",
    "version": 3
   },
   "file_extension": ".py",
   "mimetype": "text/x-python",
   "name": "python",
   "nbconvert_exporter": "python",
   "pygments_lexer": "ipython3",
   "version": "3.6.9"
  }
 },
 "nbformat": 4,
 "nbformat_minor": 5
}
