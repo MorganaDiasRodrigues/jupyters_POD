{
 "cells": [
  {
   "cell_type": "markdown",
   "id": "317f32b1-117a-4946-bd9c-47dd37f78ef1",
   "metadata": {},
   "source": [
    "# [Prof. Dalvan Griebler](mailto:dalvan.griebler@pucrs.br)\n",
    "\n",
    "## Programação Orientada a Dados (POD) - Turma 10 (POD_98H04-06)\n",
    "\n",
    "**Atualizado**: 31/08/2021\n",
    "\n",
    "**Descrição**: Material de apoio as aulas sobre Python para POD\n",
    "\n",
    "**Copyright &copy;**: Este documento está sob a licensa da Criative Commons [BY-NC-ND 4.0](https://creativecommons.org/licenses/by-nc-nd/4.0/legalcode)"
   ]
  },
  {
   "cell_type": "markdown",
   "id": "ee86f7eb-5297-49d3-b4d1-f6824052b6fb",
   "metadata": {},
   "source": [
    "# Classes em Python"
   ]
  },
  {
   "cell_type": "markdown",
   "id": "e4bf793d-e4e3-4873-a292-70742cec42ab",
   "metadata": {},
   "source": [
    "Tudo em python é um objeto de uma classe de coisas."
   ]
  },
  {
   "cell_type": "code",
   "execution_count": null,
   "id": "d2a38b25-1b32-4582-b590-37bc74eb85b8",
   "metadata": {},
   "outputs": [],
   "source": [
    "print(type(4))\n",
    "print(type(5.6))\n",
    "print(type(True))\n",
    "print(type('Dalvan'))\n",
    "print(type([1, 2, 3, 4]))"
   ]
  },
  {
   "cell_type": "markdown",
   "id": "7a9d5820-972d-4259-8b67-4af33e1a4cb8",
   "metadata": {},
   "source": [
    "## Definição de Classes"
   ]
  },
  {
   "cell_type": "code",
   "execution_count": null,
   "id": "baccdf64-cfb2-46a3-b8d7-178624c3f3ec",
   "metadata": {},
   "outputs": [],
   "source": [
    "class Minha_Classe:\n",
    "    pass"
   ]
  },
  {
   "cell_type": "markdown",
   "id": "dd2bda27-7c46-4840-b730-1aae9b555cd7",
   "metadata": {},
   "source": [
    "## Métodos da Instância da Classe"
   ]
  },
  {
   "cell_type": "code",
   "execution_count": null,
   "id": "be127891",
   "metadata": {},
   "outputs": [],
   "source": [
    "class Pessoa:\n",
    "    def __init__(self, nome, idade):\n",
    "        self.nome = nome\n",
    "        self.idade = idade\n",
    "\n",
    "P1=Pessoa(\"Caetano\", 18)\n",
    "P2=Pessoa(\"Morgana\", 19)\n",
    "print(\"id(P1):\", id(P1))\n",
    "print(\"id(P2):\", id(P2))\n",
    "\n",
    "P=P1\n",
    "print(\"id(P):\", id(P))\n",
    "print(P1)\n",
    "print(P)\n",
    "\n",
    "print(P1.nome, P1.idade)\n",
    "print(P.nome, P.idade)\n",
    "print(P2.nome, P2.idade)\n",
    "\n",
    "\n",
    "P.nome=\"Caetano Muller\"\n",
    "\n",
    "print(P1.nome, P1.idade)\n",
    "print(P.nome, P.idade)"
   ]
  },
  {
   "cell_type": "code",
   "execution_count": null,
   "id": "62692749",
   "metadata": {},
   "outputs": [],
   "source": [
    "class Pessoa:\n",
    "    def __init__(self, nome, idade):\n",
    "        self.nome = nome\n",
    "        self.idade = idade\n",
    "    def __str__(self):\n",
    "        return self.nome + \" possui \" + str(self.idade) + \" anos de idade!\"\n",
    "\n",
    "\n",
    "P1=Pessoa(\"Caetano\", 18)\n",
    "P2=Pessoa(\"Morgana\", 19)\n",
    "print(P1)\n",
    "print(P2)"
   ]
  },
  {
   "cell_type": "code",
   "execution_count": null,
   "id": "459df80d",
   "metadata": {},
   "outputs": [],
   "source": [
    "class Pessoa:\n",
    "    def __init__(self, nome, idade):\n",
    "        self.nome = nome\n",
    "        self.idade = idade\n",
    "    def __str__(self):\n",
    "        return self.nome + \" possui \" + str(self.idade) + \" anos de idade!\"\n",
    "    def aniversario(self):\n",
    "        self.idade+=1\n",
    "\n",
    "print(P1)\n",
    "print(P2)\n",
    "P1=Pessoa(\"Caetano\", 18)\n",
    "P1.aniversario()\n",
    "P2=Pessoa(\"Morgana\", 19)\n",
    "print(P1)\n",
    "print(P2)\n",
    "del P1, P2, Pessoa"
   ]
  },
  {
   "cell_type": "markdown",
   "id": "51bf713c-f4ba-4c6c-8f9f-83d731c7bda7",
   "metadata": {},
   "source": [
    "## Gerenciamento de memória"
   ]
  },
  {
   "cell_type": "code",
   "execution_count": null,
   "id": "1f369548-91c6-45f9-88ae-1d37eab9af57",
   "metadata": {},
   "outputs": [],
   "source": [
    "del P, P1, P2, Pessoa"
   ]
  },
  {
   "cell_type": "markdown",
   "id": "98a8d993-93c8-42c4-8876-0b614844a09f",
   "metadata": {},
   "source": [
    "## Exercício Conta Bancária"
   ]
  },
  {
   "cell_type": "markdown",
   "id": "7a4b9ef1-5960-4663-a927-48b35f815834",
   "metadata": {},
   "source": [
    "1. Defina a classe `ContaBancaria`\n",
    "2. Ao instanciar a classe, forneça:\n",
    "    - número da conta\n",
    "    - nome da pessoa\n",
    "    - balanço inicia (em reais)\n",
    "    - tipo de conta (corrente, poupança ou investimento)\n",
    "3. Fornecer três métodos de instância para esta classe\n",
    "    - `deposito(quantidade)` para efetuar o depóstio\n",
    "    - `saque(quantidade)` para efetuar o saque\n",
    "    - `saldo()`   para obter o saldo da conta \n",
    "4. Monte um teste em que você realize todas as operações bancárias, segue um exemplo de teste:\n",
    "```\n",
    "conta1 = ContaBancaria('001', 'Caetano', 10.05, 'corrente')\n",
    "conta2 = ContaBancaria('002', 'Guilherme', 23.55, 'poupança')\n",
    "conta3 = ContaBancaria('003', 'Dalvan', 12.45, 'investimento')\n",
    "print(conta1)\n",
    "print(conta2)\n",
    "print(conta3)\n",
    "conta1.deposito(44.45)\n",
    "conta1.saque(33.33)\n",
    "print('Saldo:', conta1.saldo())\n",
    "```"
   ]
  },
  {
   "cell_type": "code",
   "execution_count": null,
   "id": "996561d4-41fb-4ec7-841d-f7e7f05cb6e4",
   "metadata": {},
   "outputs": [],
   "source": []
  },
  {
   "cell_type": "markdown",
   "id": "5cd1ca06-406b-4962-87c7-f2cb7bd85187",
   "metadata": {},
   "source": [
    "## Métodos da Classe"
   ]
  },
  {
   "cell_type": "code",
   "execution_count": null,
   "id": "2b1d4454-b115-48ac-a2cb-66c6e281fad1",
   "metadata": {},
   "outputs": [],
   "source": [
    "class Pessoa:\n",
    "    conta=0\n",
    "    def __init__(self, nome, idade):\n",
    "        self.nome = nome\n",
    "        self.idade = idade\n",
    "        Pessoa.incre_inst()\n",
    "    @classmethod\n",
    "    def incre_inst(cls):\n",
    "        cls.conta+=1\n",
    "    \n",
    "    def __str__(self):\n",
    "        return self.nome + \" possui \" + str(self.idade) + \" anos de idade!\"\n",
    "    def aniversario(self):\n",
    "        self.idade+=1\n",
    "\n",
    "P1=Pessoa(\"Caetano\", 18)\n",
    "P1.aniversario()\n",
    "P2=Pessoa(\"Morgana\", 19)\n",
    "print(P1)\n",
    "print(P2)\n",
    "print(Pessoa.conta)\n"
   ]
  },
  {
   "cell_type": "markdown",
   "id": "25130d2f-9839-41f5-88c4-50a11edccfe7",
   "metadata": {},
   "source": [
    "## Métodos Estáticos"
   ]
  },
  {
   "cell_type": "code",
   "execution_count": null,
   "id": "eb6321e7-6ea6-48ea-9157-d1a4731345c2",
   "metadata": {},
   "outputs": [],
   "source": [
    "class Pessoa:\n",
    "    conta=0\n",
    "    def __init__(self, nome, idade):\n",
    "        self.nome = nome\n",
    "        self.idade = idade\n",
    "        Pessoa.incre_inst()\n",
    "    @classmethod\n",
    "    def incre_inst(cls):\n",
    "        cls.conta+=1\n",
    "    \n",
    "    def __str__(self):\n",
    "        return self.nome + \" possui \" + str(self.idade) + \" anos de idade!\"\n",
    "    def aniversario(self):\n",
    "        self.idade+=1\n",
    "    \n",
    "    @staticmethod\n",
    "    def funcao_estatica():\n",
    "        print(\"Método Estático\")\n",
    "\n",
    "P1=Pessoa(\"Caetano\", 18)\n",
    "P1.aniversario()\n",
    "P2=Pessoa(\"Morgana\", 19)\n",
    "print(P1)\n",
    "print(P2)\n",
    "print(Pessoa.conta)\n",
    "Pessoa.funcao_estatica()\n",
    "del P1, P2, Pessoa"
   ]
  },
  {
   "cell_type": "markdown",
   "id": "6d7db5f1-873b-452d-beab-64bcae3f082b",
   "metadata": {},
   "source": [
    "## Exercício Conta Bancária (Continuação 1)"
   ]
  },
  {
   "cell_type": "markdown",
   "id": "c2d413e4-d11e-4e8f-9b52-4e5cd7c89632",
   "metadata": {},
   "source": [
    "1. Permita o rastreamento do número de instâncias criadas da classe `ContaBancaria`\n",
    "2. Mostre na tela uma mensagem toda vez que uma instância da classe é criada\n",
    "3. Mostre na tela a quantidade de contas criadas"
   ]
  },
  {
   "cell_type": "code",
   "execution_count": null,
   "id": "188c8e7e-fdb2-48cd-bb10-d993090948d3",
   "metadata": {},
   "outputs": [],
   "source": []
  },
  {
   "cell_type": "markdown",
   "id": "f7db7e38-f231-4119-927e-4bf67ba76eb2",
   "metadata": {},
   "source": [
    "## Herança de Classes"
   ]
  },
  {
   "cell_type": "code",
   "execution_count": 10,
   "id": "60a576d1-db2a-4d19-9d43-48f3bc1931eb",
   "metadata": {},
   "outputs": [
    {
     "name": "stdout",
     "output_type": "stream",
     "text": [
      "Caetano 19 2021\n",
      "Caetano 20 2021\n"
     ]
    }
   ],
   "source": [
    "class Pessoa:\n",
    "    \"\"\"Exemplo de classe que armazena\n",
    "    nome de pessoas e idade\"\"\"\n",
    "    def __init__(self, nome, idade):\n",
    "        self.nome = nome\n",
    "        self.idade = idade\n",
    "    def __str__(self):\n",
    "        return self.nome + \" possui \" + str(self.idade) + \" anos de idade!\"\n",
    "    def aniversario(self):\n",
    "        self.idade+=1\n",
    "\n",
    "class Estudante(Pessoa):\n",
    "    def __init__(self, nome, idade, ano):\n",
    "        super().__init__(nome, idade)\n",
    "        self.ano_ingresso=ano\n",
    "\n",
    "E = Estudante(\"Caetano\", 19, 2021)\n",
    "print(E.nome, E.idade, E.ano_ingresso)\n",
    "E.aniversario()\n",
    "print(E.nome, E.idade, E.ano_ingresso)\n",
    "del E, Empregado, Pessoa"
   ]
  },
  {
   "cell_type": "markdown",
   "id": "e2f035b0-8282-408a-a71a-04582e636577",
   "metadata": {},
   "source": [
    "## Sobrescrita de Métodos"
   ]
  },
  {
   "cell_type": "code",
   "execution_count": 11,
   "id": "17596feb-b0ce-4376-b740-4a2bd5529997",
   "metadata": {},
   "outputs": [
    {
     "name": "stdout",
     "output_type": "stream",
     "text": [
      "Caetano possui 19 anos de idade!\n",
      "Morgana possui 20 anos de idade, portador do CPF: 79954950456\n",
      "Eric possui 21 anos de idade, portador do CPF: 79954950456Atua na Região: RS\n"
     ]
    }
   ],
   "source": [
    "class Pessoa:\n",
    "    \"\"\"Exemplo de classe que armazena\n",
    "    nome de pessoas e idade\"\"\"\n",
    "    def __init__(self, nome, idade):\n",
    "        self.nome = nome\n",
    "        self.idade = idade\n",
    "    def __str__(self):\n",
    "        return self.nome + \" possui \" + str(self.idade) + \" anos de idade!\"\n",
    "    def aniversario(self):\n",
    "        self.idade+=1\n",
    "        \n",
    "class Empregado(Pessoa):\n",
    "    def __init__(self, nome, idade, CPF):\n",
    "        super().__init__(nome, idade)\n",
    "        self.CPF=CPF\n",
    "    def remuneracao(self, horas):\n",
    "        valor_hora=10.5\n",
    "        if self.idade >= 21:\n",
    "            valor_hora+=1.5\n",
    "        return valor_hora*horas\n",
    "    def __str__(self):\n",
    "        return self.nome + \" possui \" + str(self.idade) + \" anos de idade, portador do CPF: \" + str(self.CPF)\n",
    "    \n",
    "class Vendedor(Empregado):\n",
    "    def __init__(self, nome, idade, CPF, regiao, vendas):\n",
    "        super().__init__(nome, idade, CPF)\n",
    "        self.regiao=regiao\n",
    "        self.vendas=vendas\n",
    "    def comissao(self):\n",
    "        return self.vendas*0.8\n",
    "    def __str__(self):\n",
    "        return self.nome + \" possui \" + str(self.idade) + \" anos de idade, portador do CPF: \" + str(self.CPF) + \"Atua na Região: \" + str(self.regiao)\n",
    "\n",
    "P1=Pessoa(\"Caetano\", 18)\n",
    "P1.aniversario()\n",
    "E1=Empregado(\"Morgana\", 19, 79954950456)\n",
    "E1.aniversario()\n",
    "V1=Vendedor(\"Eric\", 20, 79954950456, \"RS\", 300)\n",
    "V1.aniversario()\n",
    "print(P1)\n",
    "print(E1)\n",
    "print(V1)\n",
    "del P1, E1, V1, Vendedor, Empregado, Pessoa"
   ]
  },
  {
   "cell_type": "markdown",
   "id": "36ec9e05-c149-4aa8-8e1b-c802e66c9068",
   "metadata": {},
   "source": [
    "## Extendendo Métodos da Superclasse"
   ]
  },
  {
   "cell_type": "code",
   "execution_count": null,
   "id": "3416127c-b600-40ab-a7c6-7fbe1cb440d7",
   "metadata": {},
   "outputs": [],
   "source": []
  },
  {
   "cell_type": "markdown",
   "id": "b07ed738-47c3-4bd1-838b-d17e4a82e35c",
   "metadata": {},
   "source": [
    "## Herança Múltipla de Classes"
   ]
  },
  {
   "cell_type": "code",
   "execution_count": 12,
   "id": "4afd43f1-a6c1-47c1-980d-24a25f449314",
   "metadata": {},
   "outputs": [
    {
     "name": "stdout",
     "output_type": "stream",
     "text": [
      "A\n",
      "B\n",
      "C\n",
      "D\n",
      "E\n",
      "CF\n",
      "CDadosFDados\n",
      "CG\n",
      "CDadosGDados\n"
     ]
    }
   ],
   "source": [
    "class A:\n",
    "    def __str__(self):\n",
    "        return 'A'\n",
    "    def informacao(self):\n",
    "        print('A')\n",
    "class B:\n",
    "    def __str__(self):\n",
    "        return 'B'\n",
    "class C:\n",
    "    def __str__(self):\n",
    "        return 'C'\n",
    "    def dados(self):\n",
    "        return 'CDados'\n",
    "class D:\n",
    "    def __str__(self):\n",
    "        return 'D'\n",
    "    def informacao(self):\n",
    "        print('D')\n",
    "class E:\n",
    "    def __str__(self):\n",
    "        return 'E'\n",
    "    def informacao(self):\n",
    "        print('E')\n",
    "\n",
    "class F(C, D, E):\n",
    "    def __str__(self):\n",
    "        return super().__str__() + 'F'\n",
    "    def dados(self):\n",
    "        return super().dados() + 'FDados'\n",
    "    def informacao(self):\n",
    "        print('F' + self.dados())\n",
    "\n",
    "class G(C, D, E):\n",
    "    def __str__(self):\n",
    "        return super().__str__() + 'G'\n",
    "    def dados(self):\n",
    "        return super().dados() + 'GDados'\n",
    "\n",
    "    \n",
    "a = A()\n",
    "b = B()\n",
    "c = C()\n",
    "d = D()\n",
    "e = E()\n",
    "f = F()\n",
    "g = G()\n",
    "print(a)\n",
    "print(b)\n",
    "print(c)\n",
    "print(d)\n",
    "print(e)\n",
    "print(f)\n",
    "print(f.dados())\n",
    "print(g)\n",
    "print(g.dados())"
   ]
  },
  {
   "cell_type": "markdown",
   "id": "4b571c57-61a4-471c-ba32-db9c233082e6",
   "metadata": {},
   "source": [
    "## Acessibilidade de Atributos e Membros das Classes"
   ]
  },
  {
   "cell_type": "code",
   "execution_count": 15,
   "id": "d4cb7bb5-2f06-4a2a-bbe4-6c9297d959b9",
   "metadata": {},
   "outputs": [
    {
     "name": "stdout",
     "output_type": "stream",
     "text": [
      "Caetano 19 2021 PUCRS\n",
      "Caetano 20 2021 Brasil\n"
     ]
    }
   ],
   "source": [
    "class Pessoa:\n",
    "    \"\"\"Exemplo de classe que armazena\n",
    "    nome de pessoas e idade\"\"\"\n",
    "    def __init__(self, nome, idade):\n",
    "        self.nome = nome\n",
    "        self.idade = idade\n",
    "    def __str__(self):\n",
    "        return self.nome + \" possui \" + str(self.idade) + \" anos de idade!\"\n",
    "    def _aniversario(self):\n",
    "        self.idade+=1\n",
    "\n",
    "class Estudante(Pessoa):\n",
    "    _universidade=\"PUCRS\"\n",
    "    def __init__(self, nome, idade, ano):\n",
    "        super().__init__(nome, idade)\n",
    "        self.ano_ingresso=ano\n",
    "\n",
    "E = Estudante(\"Caetano\", 19, 2021)\n",
    "print(E.nome, E.idade, E.ano_ingresso, E._universidade)\n",
    "E._aniversario()\n",
    "E._universidade=\"Brasil\"\n",
    "print(E.nome, E.idade, E.ano_ingresso, E._universidade)\n",
    "del E, Estudante, Pessoa"
   ]
  },
  {
   "cell_type": "code",
   "execution_count": 16,
   "id": "f516bdc3",
   "metadata": {},
   "outputs": [
    {
     "ename": "AttributeError",
     "evalue": "'Estudante' object has no attribute '_universidade'",
     "output_type": "error",
     "traceback": [
      "\u001b[0;31m---------------------------------------------------------------------------\u001b[0m",
      "\u001b[0;31mAttributeError\u001b[0m                            Traceback (most recent call last)",
      "\u001b[0;32m<ipython-input-16-e47d372c1b94>\u001b[0m in \u001b[0;36m<module>\u001b[0;34m\u001b[0m\n\u001b[1;32m     17\u001b[0m \u001b[0;34m\u001b[0m\u001b[0m\n\u001b[1;32m     18\u001b[0m \u001b[0mE\u001b[0m \u001b[0;34m=\u001b[0m \u001b[0mEstudante\u001b[0m\u001b[0;34m(\u001b[0m\u001b[0;34m\"Caetano\"\u001b[0m\u001b[0;34m,\u001b[0m \u001b[0;36m19\u001b[0m\u001b[0;34m,\u001b[0m \u001b[0;36m2021\u001b[0m\u001b[0;34m)\u001b[0m\u001b[0;34m\u001b[0m\u001b[0;34m\u001b[0m\u001b[0m\n\u001b[0;32m---> 19\u001b[0;31m \u001b[0mprint\u001b[0m\u001b[0;34m(\u001b[0m\u001b[0mE\u001b[0m\u001b[0;34m.\u001b[0m\u001b[0mnome\u001b[0m\u001b[0;34m,\u001b[0m \u001b[0mE\u001b[0m\u001b[0;34m.\u001b[0m\u001b[0midade\u001b[0m\u001b[0;34m,\u001b[0m \u001b[0mE\u001b[0m\u001b[0;34m.\u001b[0m\u001b[0mano_ingresso\u001b[0m\u001b[0;34m,\u001b[0m \u001b[0mE\u001b[0m\u001b[0;34m.\u001b[0m\u001b[0m_universidade\u001b[0m\u001b[0;34m)\u001b[0m\u001b[0;34m\u001b[0m\u001b[0;34m\u001b[0m\u001b[0m\n\u001b[0m\u001b[1;32m     20\u001b[0m \u001b[0mE\u001b[0m\u001b[0;34m.\u001b[0m\u001b[0m__aniversario\u001b[0m\u001b[0;34m(\u001b[0m\u001b[0;34m)\u001b[0m\u001b[0;34m\u001b[0m\u001b[0;34m\u001b[0m\u001b[0m\n\u001b[1;32m     21\u001b[0m \u001b[0mE\u001b[0m\u001b[0;34m.\u001b[0m\u001b[0m__universidade\u001b[0m\u001b[0;34m=\u001b[0m\u001b[0;34m\"Brasil\"\u001b[0m\u001b[0;34m\u001b[0m\u001b[0;34m\u001b[0m\u001b[0m\n",
      "\u001b[0;31mAttributeError\u001b[0m: 'Estudante' object has no attribute '_universidade'"
     ]
    }
   ],
   "source": [
    "class Pessoa:\n",
    "    \"\"\"Exemplo de classe que armazena\n",
    "    nome de pessoas e idade\"\"\"\n",
    "    def __init__(self, nome, idade):\n",
    "        self.nome = nome\n",
    "        self.idade = idade\n",
    "    def __str__(self):\n",
    "        return self.nome + \" possui \" + str(self.idade) + \" anos de idade!\"\n",
    "    def __aniversario(self):\n",
    "        self.idade+=1\n",
    "\n",
    "class Estudante(Pessoa):\n",
    "    __universidade=\"PUCRS\"\n",
    "    def __init__(self, nome, idade, ano):\n",
    "        super().__init__(nome, idade)\n",
    "        self.ano_ingresso=ano\n",
    "\n",
    "E = Estudante(\"Caetano\", 19, 2021)\n",
    "print(E.nome, E.idade, E.ano_ingresso, E._universidade)\n",
    "E.__aniversario()\n",
    "E.__universidade=\"Brasil\"\n",
    "print(E.nome, E.idade, E.ano_ingresso, E._universidade)\n",
    "del E, Estudante, Pessoa"
   ]
  },
  {
   "cell_type": "markdown",
   "id": "3d2181a9-e0a1-4a9b-ad8e-7f759aaa4a72",
   "metadata": {},
   "source": [
    "## Exercício Conta Bancária (Continuação 2)"
   ]
  },
  {
   "cell_type": "markdown",
   "id": "f3c5b740-64b1-4847-919c-1f997bf43a6b",
   "metadata": {},
   "source": [
    "O objetivo é estender a classe `ContaBancaria` fornecendo três Subclasses (`ContaDeposito`, `ContaCorrente`, `ContaInvestimento`)\n",
    "1. `ContaCorrente` precisa ter um limite de saque e redefinir o método para sacar do dinheiro. Este método precisa tratar se o saque for maior que o saldo.\n",
    "2. `ContaDeposito` precisa ter uma taxa de juros associado \n",
    "3. `ContaInvestimento` precisa ter um atributo que identifica o tipo de investimento (ex. baixo risco e alto risco)\n",
    "4. Testar o funcionamento"
   ]
  },
  {
   "cell_type": "code",
   "execution_count": null,
   "id": "2886d09b-a00f-4e5b-b750-8a672b20b7f7",
   "metadata": {},
   "outputs": [],
   "source": []
  }
 ],
 "metadata": {
  "kernelspec": {
   "display_name": "Python 3",
   "language": "python",
   "name": "python3"
  },
  "language_info": {
   "codemirror_mode": {
    "name": "ipython",
    "version": 3
   },
   "file_extension": ".py",
   "mimetype": "text/x-python",
   "name": "python",
   "nbconvert_exporter": "python",
   "pygments_lexer": "ipython3",
   "version": "3.6.9"
  }
 },
 "nbformat": 4,
 "nbformat_minor": 5
}
