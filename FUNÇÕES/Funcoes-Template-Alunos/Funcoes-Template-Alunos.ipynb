{
 "cells": [
  {
   "cell_type": "markdown",
   "id": "217af2ca-6a17-4b6b-8085-4df7ca86c35d",
   "metadata": {
    "deletable": false,
    "editable": false,
    "tags": []
   },
   "source": [
    "# [Prof. Dalvan Griebler](mailto:dalvan.griebler@pucrs.br)\n",
    "\n",
    "## Programação Orientada a Dados (POD) - Turma 10 (POD_98H04-06)\n",
    "\n",
    "**Atualizado**: 22/08/2021\n",
    "\n",
    "**Descrição**: Material de apoio as aulas sobre Python para POD\n",
    "\n",
    "**Copyright &copy;**: Este documento está sob a licensa da Criative Commons [BY-NC-ND 4.0](https://creativecommons.org/licenses/by-nc-nd/4.0/legalcode)"
   ]
  },
  {
   "cell_type": "markdown",
   "id": "6a03ff92-2d39-4f06-9b30-94debc55cc17",
   "metadata": {
    "deletable": false,
    "editable": false,
    "tags": []
   },
   "source": [
    "# Funções em Python"
   ]
  },
  {
   "cell_type": "markdown",
   "id": "16cd8a5b-8851-4d8d-8cfc-bb9d5587e1f6",
   "metadata": {},
   "source": [
    "## Definição e Documentação de Funções"
   ]
  },
  {
   "cell_type": "code",
   "execution_count": 3,
   "id": "efdcd266-4531-4335-9098-7030739a2703",
   "metadata": {},
   "outputs": [
    {
     "name": "stdout",
     "output_type": "stream",
     "text": [
      "Uma mensagem\n",
      "Esta função vai mostrar uma mensagem na Tela\n"
     ]
    }
   ],
   "source": [
    "def print_msg():\n",
    "    \"\"\"Esta função vai mostrar uma mensagem na Tela\"\"\"\n",
    "    print(\"Uma mensagem\")\n",
    "    \n",
    "print_msg()\n",
    "print(print_msg.__doc__)"
   ]
  },
  {
   "cell_type": "code",
   "execution_count": 6,
   "id": "d29405ff-d13a-48a6-80c8-5a924bba77e5",
   "metadata": {},
   "outputs": [],
   "source": [
    "def print_msg():\n",
    "    pass\n",
    "    \n",
    "print_msg()"
   ]
  },
  {
   "cell_type": "markdown",
   "id": "db96e76d-2489-4e0d-b02c-51f64ca51e66",
   "metadata": {},
   "source": [
    "## Parâmetros vs Argumentos"
   ]
  },
  {
   "cell_type": "code",
   "execution_count": 17,
   "id": "db49d368-f5ef-4e42-94a3-c9e83cfd25ec",
   "metadata": {},
   "outputs": [
    {
     "name": "stdout",
     "output_type": "stream",
     "text": [
      "x= 10 y= 30 aula= POD\n",
      "x= 20 y= 31 aula= POD-10\n",
      "x= 20 y= 31 aula= POD-10\n",
      "x= 31 y= 20 aula= POD-10\n"
     ]
    }
   ],
   "source": [
    "def minha_func(x=10, y=30, aula=\"POD\"):\n",
    "    print(\"x=\", x, \"y=\", y, \"aula=\", aula)\n",
    "\n",
    "minha_func()\n",
    "minha_func(20, 31, \"POD-10\")\n",
    "minha_func(20, aula=\"POD-10\", y=31)\n",
    "minha_func(aula=\"POD-10\", y=20, x=31)"
   ]
  },
  {
   "cell_type": "code",
   "execution_count": 27,
   "id": "75c2cf0d-31cb-4bfc-89b1-73228125b898",
   "metadata": {},
   "outputs": [
    {
     "name": "stdout",
     "output_type": "stream",
     "text": [
      "<class 'int'>\n",
      "Antes: 5\n",
      "Depois: 5\n"
     ]
    }
   ],
   "source": [
    "def altera_valor(var):\n",
    "    var+=10\n",
    "\n",
    "var=5\n",
    "print(type(var))\n",
    "print(\"Antes:\", var)\n",
    "altera_valor(var)\n",
    "print(\"Depois:\", var)"
   ]
  },
  {
   "cell_type": "code",
   "execution_count": 29,
   "id": "37e38a2f-8731-48d1-a0ff-2f3c6a218c35",
   "metadata": {},
   "outputs": [
    {
     "name": "stdout",
     "output_type": "stream",
     "text": [
      "<class 'list'>\n",
      "Antes: [2, 10, 11]\n",
      "Depois: [2, 10, 11, 30]\n"
     ]
    }
   ],
   "source": [
    "def altera_lista(var):\n",
    "    var.append(30)\n",
    "\n",
    "lista=[2,10,11]\n",
    "print(type(lista))\n",
    "print(\"Antes:\", lista)\n",
    "altera_lista(lista)\n",
    "print(\"Depois:\", lista)"
   ]
  },
  {
   "cell_type": "markdown",
   "id": "f46cdf64-2170-4503-be20-6a8461c4f4d7",
   "metadata": {},
   "source": [
    "## Retorno de Valores"
   ]
  },
  {
   "cell_type": "code",
   "execution_count": 31,
   "id": "c2435d43-3854-4a30-aad7-7f20b8fc731b",
   "metadata": {},
   "outputs": [
    {
     "name": "stdout",
     "output_type": "stream",
     "text": [
      "25\n",
      "Ainda é menor que 30\n"
     ]
    }
   ],
   "source": [
    "def multiplica_n(n):\n",
    "    return n*n\n",
    "\n",
    "res=multiplica_n(5)\n",
    "print(res)\n",
    "if multiplica_n(5) < 30:\n",
    "    print(\"Ainda é menor que 30\")"
   ]
  },
  {
   "cell_type": "code",
   "execution_count": 41,
   "id": "d9465266-25de-43b3-ab24-19f5ba8f9754",
   "metadata": {},
   "outputs": [
    {
     "name": "stdout",
     "output_type": "stream",
     "text": [
      "Griebler , Dalvan\n",
      "Dalvan , Griebler\n",
      "<class 'str'> <class 'str'>\n"
     ]
    }
   ],
   "source": [
    "def troca(a,b):\n",
    "    return b, a\n",
    "\n",
    "A=\"Griebler\"\n",
    "B=\"Dalvan\"\n",
    "print(A,\",\",B)\n",
    "A,B = troca(A,B)\n",
    "print(A,\",\",B)\n",
    "print(type(A), type(B))"
   ]
  },
  {
   "cell_type": "code",
   "execution_count": 42,
   "id": "d0eefbeb-fd9d-422d-88fd-23dd4e233ba0",
   "metadata": {},
   "outputs": [
    {
     "name": "stdout",
     "output_type": "stream",
     "text": [
      "('Dalvan', 'Griebler')\n",
      "<class 'tuple'>\n"
     ]
    }
   ],
   "source": [
    "Z = troca(B,A)\n",
    "print(Z)\n",
    "print(type(Z))"
   ]
  },
  {
   "cell_type": "code",
   "execution_count": 47,
   "id": "6b464147-b1e6-41fb-af3b-9b2c27645ccd",
   "metadata": {},
   "outputs": [
    {
     "name": "stdout",
     "output_type": "stream",
     "text": [
      "POD , 10\n",
      "(10, 'POD')\n"
     ]
    }
   ],
   "source": [
    "def tipo_dif():\n",
    "    return \"POD\", 10\n",
    "\n",
    "A,B = tipo_dif()\n",
    "print(A,\",\",B)\n",
    "Z = troca(A,B)\n",
    "print(Z)"
   ]
  },
  {
   "cell_type": "markdown",
   "id": "b2b40a6b-6bb5-4605-82f6-0d4bb6c87ebd",
   "metadata": {},
   "source": [
    "## Número Arbitrários de Argumentos"
   ]
  },
  {
   "cell_type": "code",
   "execution_count": 50,
   "id": "d5c56920-1be4-4ed5-99bc-a3ee3afd9d1f",
   "metadata": {},
   "outputs": [
    {
     "name": "stdout",
     "output_type": "stream",
     "text": [
      "valor: Dalvan\n",
      "valor: Caetano\n",
      "valor: Guilherme\n",
      "valor: C++ melhor que python\n",
      "valor: Luis\n",
      "valor: 10\n",
      "valor: 3.5\n",
      "valor: (5+6j)\n",
      "valor: (5, 'POD')\n",
      "valor: True\n"
     ]
    }
   ],
   "source": [
    "def func_args(*args):\n",
    "    for valor in args:\n",
    "        print(\"valor:\", valor)\n",
    "\n",
    "func_args(\"Dalvan\", \"Caetano\", \"Guilherme\", \"C++ melhor que python\")\n",
    "func_args(\"Luis\", 10, 3.5, complex(5,6), (5,\"POD\"), True)"
   ]
  },
  {
   "cell_type": "markdown",
   "id": "a4fce4c1-e0fc-4641-bc99-97b91163237b",
   "metadata": {},
   "source": [
    "### Argumentos com Nomes (chave-valor)"
   ]
  },
  {
   "cell_type": "code",
   "execution_count": 52,
   "id": "7fadb152-4ce2-4624-9f6c-968f295ebab7",
   "metadata": {},
   "outputs": [
    {
     "name": "stdout",
     "output_type": "stream",
     "text": [
      "Chave: nome1 Valor: Dalvan\n",
      "Chave: nome2 Valor: Caetano\n",
      "Chave: nome3 Valor: Guilherme\n",
      "Chave: minha_string Valor: C++ melhor que python\n",
      "Chave: nome Valor: Luis\n",
      "Chave: inteiro Valor: 10\n",
      "Chave: flutuante Valor: 3.5\n",
      "Chave: complexo Valor: (5+6j)\n",
      "Chave: tupla Valor: (5, 'POD')\n",
      "Chave: booleano Valor: True\n"
     ]
    }
   ],
   "source": [
    "def func_args(**cvargs):\n",
    "    for chave in cvargs.keys():\n",
    "        print(\"Chave:\", chave, \"Valor:\", cvargs[chave])\n",
    "\n",
    "func_args(nome1=\"Dalvan\", nome2=\"Caetano\", nome3=\"Guilherme\", minha_string=\"C++ melhor que python\")\n",
    "func_args(nome=\"Luis\", inteiro=10, flutuante=3.5, complexo=complex(5,6), tupla=(5,\"POD\"), booleano=True)"
   ]
  },
  {
   "cell_type": "markdown",
   "id": "18556e32-7437-49cc-90c2-75c417df1d4b",
   "metadata": {},
   "source": [
    "### Argumentos Posicionais e Chave-valor Combinados"
   ]
  },
  {
   "cell_type": "code",
   "execution_count": 54,
   "id": "d294b08f-0c31-4168-92ac-10ad26374159",
   "metadata": {},
   "outputs": [
    {
     "name": "stdout",
     "output_type": "stream",
     "text": [
      "P-valor: Dalvan\n",
      "CV-Chave: nome2 Valor: Caetano\n",
      "CV-Chave: nome3 Valor: Guilherme\n",
      "CV-Chave: minha_string Valor: C++ melhor que python\n"
     ]
    }
   ],
   "source": [
    "def func_args(*args, **cvargs):\n",
    "    for valor in args:\n",
    "        print(\"P-valor:\", valor)\n",
    "    for chave in cvargs.keys():\n",
    "        print(\"CV-Chave:\", chave, \"Valor:\", cvargs[chave])\n",
    "        \n",
    "func_args(\"Dalvan\", nome2=\"Caetano\", nome3=\"Guilherme\", minha_string=\"R melhor que python\")"
   ]
  },
  {
   "cell_type": "markdown",
   "id": "15519855-7559-4ded-8f1e-d0c516547645",
   "metadata": {},
   "source": [
    "## Ciclo de Vida e Escopo das Variáveis"
   ]
  },
  {
   "cell_type": "code",
   "execution_count": 63,
   "id": "67f5fa90-b9bd-48a6-882a-47e1ed095e23",
   "metadata": {},
   "outputs": [
    {
     "name": "stdout",
     "output_type": "stream",
     "text": [
      "12\n",
      "10\n"
     ]
    }
   ],
   "source": [
    "var=10\n",
    "def main():\n",
    "    if(var==10):\n",
    "        YY=12\n",
    "    print(YY)\n",
    "main()\n",
    "print(var)"
   ]
  },
  {
   "cell_type": "code",
   "execution_count": 68,
   "id": "9ca052bb-fb73-4cf6-b3d7-e97f38599382",
   "metadata": {},
   "outputs": [
    {
     "name": "stdout",
     "output_type": "stream",
     "text": [
      "12\n",
      "12\n",
      "10\n"
     ]
    }
   ],
   "source": [
    "var=10\n",
    "def main():\n",
    "    if(var==10):\n",
    "        global YYY\n",
    "        YYY=12\n",
    "    print(YYY)\n",
    "main()\n",
    "print (YYY)\n",
    "print(var)"
   ]
  },
  {
   "cell_type": "code",
   "execution_count": 72,
   "id": "d8c48478-2203-4489-b197-bf007eaf7561",
   "metadata": {},
   "outputs": [
    {
     "name": "stdout",
     "output_type": "stream",
     "text": [
      "12\n",
      "10\n"
     ]
    }
   ],
   "source": [
    "def func_ex():\n",
    "   XX = 10\n",
    "   def func_in():\n",
    "        XX = 12\n",
    "        print(XX)\n",
    "   func_in() \n",
    "   print(XX)\n",
    "func_ex()"
   ]
  },
  {
   "cell_type": "code",
   "execution_count": 73,
   "id": "881eb3af-dd92-4df3-b80c-ef1747fa5629",
   "metadata": {},
   "outputs": [
    {
     "name": "stdout",
     "output_type": "stream",
     "text": [
      "12\n",
      "12\n"
     ]
    }
   ],
   "source": [
    "def func_ex():\n",
    "   XXX = 10\n",
    "   def func_in():\n",
    "        nonlocal XXX\n",
    "        XXX = 12\n",
    "        print(XXX)\n",
    "   func_in() \n",
    "   print(XXX)\n",
    "func_ex()"
   ]
  },
  {
   "cell_type": "markdown",
   "id": "5cfe4ee2-5971-4469-b6ab-e432c62a6238",
   "metadata": {},
   "source": [
    "## Funções Anônimas"
   ]
  },
  {
   "cell_type": "code",
   "execution_count": 69,
   "id": "27aca0a8-3961-4758-ac21-0ab0d09ef4e5",
   "metadata": {},
   "outputs": [
    {
     "name": "stdout",
     "output_type": "stream",
     "text": [
      "sem argumentos\n",
      "50\n",
      "25\n"
     ]
    }
   ],
   "source": [
    "func1 = lambda: print(\"sem argumentos\")\n",
    "func2 = lambda x: x * 10\n",
    "func3 = lambda x,y: x * y\n",
    "func1()\n",
    "print(func2(5))\n",
    "print(func3(5,5))"
   ]
  },
  {
   "cell_type": "markdown",
   "id": "453552cb-3827-46cf-9710-30d68828c3b4",
   "metadata": {},
   "source": [
    "## Funções Recursivas"
   ]
  },
  {
   "cell_type": "code",
   "execution_count": 75,
   "id": "e5a583b8-1514-42e0-9f2a-478a16cba601",
   "metadata": {},
   "outputs": [
    {
     "name": "stdout",
     "output_type": "stream",
     "text": [
      "5 4 3 2 1 0 "
     ]
    }
   ],
   "source": [
    "def func_decre_imp(N):\n",
    "    for i in range(N,-1,-1):\n",
    "        print(i, end=\" \")\n",
    "func_decre_imp(5)"
   ]
  },
  {
   "cell_type": "code",
   "execution_count": 78,
   "id": "29aed168-ef2c-4bd3-9101-40e8efa73448",
   "metadata": {},
   "outputs": [
    {
     "name": "stdout",
     "output_type": "stream",
     "text": [
      "\t Chamada da func_decre( 4 )\n",
      "\t\t Chamada da func_decre( 3 )\n",
      "\t\t\t Chamada da func_decre( 2 )\n",
      "\t\t\t\t Chamada da func_decre( 1 )\n",
      "\t\t\t\t\t Retorna 0\n",
      "0 "
     ]
    }
   ],
   "source": [
    "def func_decre(N, nivel=1):\n",
    "    #print(N, end=\" \")\n",
    "    if N==1:\n",
    "        print(\"\\t\"*nivel, \"Retorna 0\")\n",
    "        return 0 \n",
    "    else:\n",
    "        print(\"\\t\" * nivel, \"Chamada da func_decre(\", N-1, \")\")\n",
    "        return func_decre(N-1, nivel+1) \n",
    "print(func_decre(5), end=\" \")"
   ]
  },
  {
   "cell_type": "markdown",
   "id": "a975cfa0-da88-42fe-9e22-5138d3abc585",
   "metadata": {},
   "source": [
    "## Exercícios de Fixação sobre Funções"
   ]
  },
  {
   "cell_type": "markdown",
   "id": "890166ae-3dec-43fd-b320-1c5f4c1aee1e",
   "metadata": {},
   "source": [
    "1. Crie uma pequena calculadora com operações de soma, subtração, multiplicação e divisão (explore ao máximo o uso de funções)\n",
    "    - Use uma função para oferecer um menu de operações \n",
    "    - Cada operação matemática é uma função\n",
    "    - Faça uma função para testar a saída do programa\n",
    "    - Criei uma função que leia os números digitados\n",
    "    - Documente todas as funções criadas\n",
    "\n",
    "_Obs: neste exercício você pode usar o método `isnumeric()` para testar se o que usuário digitou é um número pra garantir que a operação funcione._"
   ]
  },
  {
   "cell_type": "code",
   "execution_count": null,
   "id": "f4838647-6c28-4ad3-8579-ec12b6bbf0c9",
   "metadata": {},
   "outputs": [],
   "source": [
    "#declarar aqui uma função para cada operação, por exemplo.\n",
    "def adicao(x,y):\n",
    "    pass\n",
    "\n",
    "def testa_fim():\n",
    "    # implementar aqui\n",
    "    return True\n",
    "\n",
    "def obter_op_escolhida():\n",
    "    # Implementar aqui\n",
    "    pass\n",
    "\n",
    "def obter_dois_numeros():\n",
    "    # Implementar aqui\n",
    "    return None, None\n",
    "\n",
    "def computar(*args):\n",
    "    # Implementar aqui, note que podemos exercitar o uso de vários argumentos\n",
    "    return None\n",
    "\n",
    "fim = False\n",
    "while not fim:\n",
    "    res = 0\n",
    "    # obter a escolha da operação planejada\n",
    "    opcao=obter_op_escolhida()\n",
    "    # obter os número digitados pelo usuário\n",
    "    num1, num2 = obter_dois_numeros()\n",
    "    # computar a operação escolhida\n",
    "    res=computar(num1, num2, opcao)\n",
    "    print('Resultado:', res)\n",
    "    print(('-'*20))\n",
    "    # determinar/testar se usuário terminou\n",
    "    fim=testa_fim()\n",
    "print('Fim')"
   ]
  },
  {
   "cell_type": "markdown",
   "id": "76ddf724-d5af-4906-acf4-363b21e23316",
   "metadata": {},
   "source": [
    "2. Diga se um número é primo com uma função recursiva\n",
    "    - A função deve retornar **True** (é primo) ou **False** (não é primo)"
   ]
  },
  {
   "cell_type": "code",
   "execution_count": null,
   "id": "c77f3a76-697a-4c5c-b25d-d4eaa342ad35",
   "metadata": {},
   "outputs": [],
   "source": []
  }
 ],
 "metadata": {
  "kernelspec": {
   "display_name": "Python 3",
   "language": "python",
   "name": "python3"
  },
  "language_info": {
   "codemirror_mode": {
    "name": "ipython",
    "version": 3
   },
   "file_extension": ".py",
   "mimetype": "text/x-python",
   "name": "python",
   "nbconvert_exporter": "python",
   "pygments_lexer": "ipython3",
   "version": "3.6.9"
  }
 },
 "nbformat": 4,
 "nbformat_minor": 5
}
