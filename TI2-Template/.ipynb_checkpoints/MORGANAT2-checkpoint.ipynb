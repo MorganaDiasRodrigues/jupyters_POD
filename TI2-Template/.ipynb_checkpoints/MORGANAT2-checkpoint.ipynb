{
 "cells": [
  {
   "cell_type": "markdown",
   "id": "bbbb237d",
   "metadata": {},
   "source": [
    "# [Prof. Dalvan Griebler](mailto:dalvan.griebler@pucrs.br)\n",
    "\n",
    "## Programação Orientada a Dados (POD) - Turma 10 (POD_98H04-06)\n",
    "\n",
    "**Atualizado**: 24/10/2021\n",
    "\n",
    "**Descrição**: Trabalho Individual: Programação Funcional\n",
    "\n",
    "**Copyright &copy;**: Este documento está sob a licensa da Criative Commons [BY-NC-ND 4.0](https://creativecommons.org/licenses/by-nc-nd/4.0/legalcode)"
   ]
  },
  {
   "cell_type": "markdown",
   "id": "d3470421",
   "metadata": {},
   "source": [
    "**_Atenção: Todas as função devem ser documentadas através de `docstring`, onde descreve-se o funcionamento da mesma. Você será também avaliado por esta explicação._**"
   ]
  },
  {
   "cell_type": "markdown",
   "id": "ccd18aa3",
   "metadata": {},
   "source": [
    "# Trabalho realizado por:\n",
    "Morgana Dias Rodrigues"
   ]
  },
  {
   "cell_type": "markdown",
   "id": "c7c67464",
   "metadata": {},
   "source": []
  },
  {
   "cell_type": "markdown",
   "id": "f28f148d",
   "metadata": {},
   "source": [
    "1. Implemente aqui funções auxiliares que serão usadas nas próximas questões:\n",
    "    1. Crie uma função pura que transforma uma lista normal em uma lista encadeada\n",
    "        - `[1,2,3]` $->$ `(1,(2,(3, None)))`\n",
    "    2. Crie uma função pura `primo` que retorna verdadeiro se o número for primo.\n",
    "    3. Faça uma função pura `factFun`, que calcule o fatorial de um número."
   ]
  },
  {
   "cell_type": "code",
   "execution_count": 76,
   "id": "071318dd",
   "metadata": {},
   "outputs": [
    {
     "name": "stdout",
     "output_type": "stream",
     "text": [
      "6\n"
     ]
    }
   ],
   "source": [
    "def faz_lista_encadeada(lista):\n",
    "    \"\"\"Retorna uma lista encadeada\n",
    "    :type lista: list()\n",
    "    Como na definição de lista encadeadas temos que os seus elementos\n",
    "    são compostos de um nodo e um ponteiro denominado next que sempre\n",
    "    aponta para o próximo nodo, precisamos que a lista tenha pelo menos\n",
    "    um componente. Caso ela esteja vazia, retornamos None.\n",
    "    Caso ela esteja preenchida, pegamos o conteúdo da primeira posição\n",
    "    e chamamos de nodo. Após, retornamos o nodo e uma chamada recursiva\n",
    "    da própria função passando agora o restante da lista. Ou seja, quando\n",
    "    o restante da lista chega na função, o que era antes a posição n, agora\n",
    "    será a posição n-1. E assim vamos fazendo tuplas dos elementos que estiverem\n",
    "    dentro da lista até o final, finalizando com todos os elementos encadeados\n",
    "    através de tuplas.\"\"\"\n",
    "    if not lista:\n",
    "        return None\n",
    "    else:\n",
    "        nodo = lista[0]\n",
    "        return (nodo, faz_lista_encadeada(lista[1:]))\n",
    "    \n",
    "def primo(n):\n",
    "    \"\"\"Retorna True se for primo e False se não for primo.\n",
    "    :type n: int \n",
    "    Esta função apresenta 3 condições. A primeira é se n for igual \n",
    "    a 2, retornamos True, pois 2 é o único número par e primo.\n",
    "    Se o nosso número terminar com zero significa que automaticamente ele\n",
    "    já tem mais de 2 divisores pois todos os números terminados em 0 podem\n",
    "    ser divididos por 5, por 1 e por ele mesmo.\n",
    "    Se não for nenhum dos casos, pegamos o n e dividimos por todos os números\n",
    "    entre 1 e 9. Caso o resto da divisão por algum deles seja 0, adicionamos\n",
    "    1 no total_divisores.\n",
    "    Se n for um número com ou mais de 2 algarismos, também verificamos se o\n",
    "    resto da divisão por ele mesmo é 0. Se for, adicionamos 1 ao total_divisores.\n",
    "    Se, após feitas as divisões, n apresentar total_divisores igual a 2, então\n",
    "    ele é primo. Caso apresente menos ou mais do que isso, ele não é primo.\"\"\"\n",
    "    if n == 2:\n",
    "        return True\n",
    "    if str(n).endswith('0'):\n",
    "        return False\n",
    "    else:\n",
    "        total_divisores = 0\n",
    "        for m in [1,2,3,4,5,6,7,8,9]:\n",
    "            if n%m == 0: # é dvisível\n",
    "                total_divisores += 1\n",
    "        if len(str(n)) >= 2:\n",
    "            if n%n == 0: # é divisível por ele mesmo\n",
    "                total_divisores +=1\n",
    "        if total_divisores == 2:\n",
    "            return True\n",
    "        else:\n",
    "            return False\n",
    "        \n",
    "def factFun(n):\n",
    "    \"\"\"Retorna o fatorial de um número.\n",
    "    :type n: int\n",
    "    Fatorial de um número é o resultado da multiplicação entre\n",
    "    todos os seus antecessores, incluso ele mesmo.\n",
    "    Nesta função verificamos primeiro se n é igual a 1. Se for, retornamos\n",
    "    ele mesmo.\n",
    "    Caso não seja, retornamos n multiplicado pelo valor da chamada recursiva\n",
    "    da função passando n-1. Isso irá fazer com que n seja multiplicado até chegar\n",
    "    no último antecessor, ou seja, até o número 1.\"\"\"\n",
    "    if n == 1:\n",
    "        return n\n",
    "    else:\n",
    "        return n * factFun(n-1)\n",
    "    \n",
    "print(factFun(3))"
   ]
  },
  {
   "cell_type": "markdown",
   "id": "b2e37b74",
   "metadata": {},
   "source": [
    "## **Exemplo de Resultado Esperado**\n",
    "```bash\n",
    "LISTA: [1, 2, 3, 4]\n",
    "LISTA_ENCADEADA: (1, (2, (3, (4, None))))\n",
    "primo(3): True\n",
    "factFun(3): 6\n",
    "```"
   ]
  },
  {
   "cell_type": "markdown",
   "id": "23f49898",
   "metadata": {},
   "source": [
    "2. Implemente uma função pura chamada `filterLL` de alta ordem, que recebe uma lista encadeada `L` e uma função `F`, de modo que produza uma nova lista com cada elemento de `L` que seja verdade para `F`. Depois use ela para:\n",
    "    1. Filtrar os elementos ímpares de uma lista encadeada. Usar função `lambda`.\n",
    "    2. Filtrar os elementos que são do tipo string de uma lista encadeada. Usar função `lambda`.\n",
    "    3. Filtrar os elementos de uma lista encadeada que são primos. Usar a função criada anteriormente."
   ]
  },
  {
   "cell_type": "code",
   "execution_count": null,
   "id": "eff5488d",
   "metadata": {},
   "outputs": [],
   "source": []
  },
  {
   "cell_type": "markdown",
   "id": "28d0cf4e",
   "metadata": {},
   "source": [
    "**Exemplo de Resultado Esperado**\n",
    "```bash\n",
    "L1: (1, (2, (3, (4, (5, None)))))\n",
    "L2: (1, ('2', ('3', (4, ('5', None)))))\n",
    "L3: (2, (3, (4, (5, (6, None)))))\n",
    "filterLL-Ímpares-L1 (1, (3, (5, None)))\n",
    "filterLL-str-L2 ('2', ('3', ('5', None)))\n",
    "filterLL-primo-L3 (2, (3, (5, None)))\n",
    "```"
   ]
  },
  {
   "cell_type": "markdown",
   "id": "3dea7b7b",
   "metadata": {},
   "source": [
    "3. Implemente uma função pura chamada de `appendLL`, que recebe duas listas encadeadas e retorne a lista resultante da concatenação."
   ]
  },
  {
   "cell_type": "code",
   "execution_count": null,
   "id": "f33fd880",
   "metadata": {},
   "outputs": [],
   "source": []
  },
  {
   "cell_type": "markdown",
   "id": "3827a1a1",
   "metadata": {},
   "source": [
    "**Exemplo de Resultado Esperado**\n",
    "```bash\n",
    "L1: (1, (5, (3, None)))\n",
    "L2: (4, (5, (10, None)))\n",
    "appendLL(L1,L2): (1, (5, (3, (4, (5, (10, None))))))\n",
    "```"
   ]
  },
  {
   "cell_type": "markdown",
   "id": "b89229c9",
   "metadata": {},
   "source": [
    "4. Escreva uma função pura `QuickSortLL`, que recebe uma lista encadeada `L` e retorne uma nova lista encadeada com os elementos de `L` ordenados em ordem ascendente.\n",
    "\n",
    "_Dica: aproveite as funções `appendLL` e `filterLL` criadas anteriormente._"
   ]
  },
  {
   "cell_type": "code",
   "execution_count": null,
   "id": "6bb3e87f",
   "metadata": {},
   "outputs": [],
   "source": []
  },
  {
   "cell_type": "markdown",
   "id": "54b7b6bf",
   "metadata": {},
   "source": [
    "**Exemplo de Resultado Esperado**\n",
    "```bash\n",
    "L1: (1, (4, (7, (2, (3, None)))))\n",
    "QuickSortLL(L1): (1, (2, (3, (4, (7, None)))))\n",
    "```"
   ]
  },
  {
   "cell_type": "markdown",
   "id": "cb4ba026",
   "metadata": {},
   "source": [
    "5. Implemente uma função pura `mapLL` de alta ordem, de forma que ela receba e aplique uma função `F` sob cada elemento de uma lista encadeada `L` que é passada como parâmetro (`mapLL(L,F)`), retornando uma nova lista. Depois, use `mapLL`:\n",
    "    1. Para calcular o fatorial de cada elemento de uma lista encadeada.\n",
    "    2. Para converter em string cada elemento de uma lista encadeada.\n",
    "    3. Para incrementar +1 cada elemento de uma lista encadeada. Use função lambda."
   ]
  },
  {
   "cell_type": "code",
   "execution_count": null,
   "id": "3678a09a",
   "metadata": {},
   "outputs": [],
   "source": []
  },
  {
   "cell_type": "markdown",
   "id": "b38506a0",
   "metadata": {},
   "source": [
    "**Exemplo de Resultado Esperado**\n",
    "```bash\n",
    "L1: (1, (2, (3, (4, (5, None)))))\n",
    "L2: (1, ('2', ('3', (4, ('5', None)))))\n",
    "L3: (2, (3, (4, (5, (6, None)))))\n",
    "mapL-factorial-L1: (1, (2, (6, (24, (120, None)))))\n",
    "mapL-string-L2: ('1', ('2', ('3', ('4', ('5', None)))))\n",
    "mapL-incrementa-L3: (3, (4, (5, (6, (7, None)))))\n",
    "```"
   ]
  }
 ],
 "metadata": {
  "kernelspec": {
   "display_name": "Python 3",
   "language": "python",
   "name": "python3"
  },
  "language_info": {
   "codemirror_mode": {
    "name": "ipython",
    "version": 3
   },
   "file_extension": ".py",
   "mimetype": "text/x-python",
   "name": "python",
   "nbconvert_exporter": "python",
   "pygments_lexer": "ipython3",
   "version": "3.9.6"
  }
 },
 "nbformat": 4,
 "nbformat_minor": 5
}
