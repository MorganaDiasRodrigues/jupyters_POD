{
 "cells": [
  {
   "cell_type": "markdown",
   "id": "bbbb237d",
   "metadata": {},
   "source": [
    "# [Prof. Dalvan Griebler](mailto:dalvan.griebler@pucrs.br)\n",
    "\n",
    "## Programação Orientada a Dados (POD) - Turma 10 (POD_98H04-06)\n",
    "\n",
    "**Atualizado**: 24/10/2021\n",
    "\n",
    "**Descrição**: Trabalho Individual: Programação Funcional\n",
    "\n",
    "**Copyright &copy;**: Este documento está sob a licensa da Criative Commons [BY-NC-ND 4.0](https://creativecommons.org/licenses/by-nc-nd/4.0/legalcode)"
   ]
  },
  {
   "cell_type": "markdown",
   "id": "d3470421",
   "metadata": {},
   "source": [
    "**_Atenção: Todas as função devem ser documentadas através de `docstring`, onde descreve-se o funcionamento da mesma. Você será também avaliado por esta explicação._**"
   ]
  },
  {
   "cell_type": "markdown",
   "id": "ccd18aa3",
   "metadata": {},
   "source": [
    "# Trabalho realizado por:\n",
    "Morgana Dias Rodrigues"
   ]
  },
  {
   "cell_type": "markdown",
   "id": "c7c67464",
   "metadata": {},
   "source": []
  },
  {
   "cell_type": "markdown",
   "id": "f28f148d",
   "metadata": {},
   "source": [
    "1. Implemente aqui funções auxiliares que serão usadas nas próximas questões:\n",
    "    1. Crie uma função pura que transforma uma lista normal em uma lista encadeada\n",
    "        - `[1,2,3]` $->$ `(1,(2,(3, None)))`\n",
    "    2. Crie uma função pura `primo` que retorna verdadeiro se o número for primo.\n",
    "    3. Faça uma função pura `factFun`, que calcule o fatorial de um número."
   ]
  },
  {
   "cell_type": "code",
   "execution_count": 1,
   "id": "071318dd",
   "metadata": {},
   "outputs": [],
   "source": [
    "\"\"\"Retorna o primeiro nodo da lista encadeada, a \"cabeça\" dela.\"\"\"\n",
    "def head(LL):\n",
    "    return LL[0]\n",
    "\"\"\"Retorna a calda da lista encadeada.\"\"\"\n",
    "def tail(LL):\n",
    "    return LL[1]\n",
    "\n",
    "def faz_lista_encadeada(lista):\n",
    "    \"\"\"Retorna uma lista encadeada\n",
    "    :type lista: list()\n",
    "    Como na definição de lista encadeadas temos que os seus elementos\n",
    "    são compostos de um nodo e um ponteiro denominado next que sempre\n",
    "    aponta para o próximo nodo, precisamos que a lista tenha pelo menos\n",
    "    um componente. Caso ela esteja vazia, retornamos None.\n",
    "    Caso ela esteja preenchida, pegamos o conteúdo da primeira posição\n",
    "    e chamamos de nodo. Após, retornamos o nodo e uma chamada recursiva\n",
    "    da própria função passando agora o restante da lista. Ou seja, quando\n",
    "    o restante da lista chega na função, o que era antes a posição n, agora\n",
    "    será a posição n-1. E assim vamos fazendo tuplas dos elementos que estiverem\n",
    "    dentro da lista até o final, finalizando com todos os elementos encadeados\n",
    "    através de tuplas.\"\"\"\n",
    "    if not lista:\n",
    "        return None\n",
    "    else:\n",
    "        nodo = lista[0]\n",
    "        return (nodo, faz_lista_encadeada(lista[1:]))\n",
    "    \n",
    "def primo(n):\n",
    "    \"\"\"Retorna True se for primo e False se não for primo.\n",
    "    :type n: int \n",
    "    Esta função apresenta 3 condições. A primeira é se n for igual \n",
    "    a 2, retornamos True, pois 2 é o único número par e primo.\n",
    "    Se o nosso número terminar com zero significa que automaticamente ele\n",
    "    já tem mais de 2 divisores pois todos os números terminados em 0 podem\n",
    "    ser divididos por 5, por 1 e por ele mesmo.\n",
    "    Se não for nenhum dos casos, pegamos o n e dividimos por todos os números\n",
    "    entre 1 e 9. Caso o resto da divisão por algum deles seja 0, adicionamos\n",
    "    1 no total_divisores.\n",
    "    Se n for um número com ou mais de 2 algarismos, também verificamos se o\n",
    "    resto da divisão por ele mesmo é 0. Se for, adicionamos 1 ao total_divisores.\n",
    "    Se, após feitas as divisões, n apresentar total_divisores igual a 2, então\n",
    "    ele é primo. Caso apresente menos ou mais do que isso, ele não é primo.\"\"\"\n",
    "    if n == 2:\n",
    "        return True\n",
    "    if str(n).endswith('0'):\n",
    "        return False\n",
    "    else:\n",
    "        total_divisores = 0\n",
    "        for m in [1,2,3,4,5,6,7,8,9]:\n",
    "            if n%m == 0:\n",
    "                total_divisores += 1\n",
    "        if len(str(n)) >= 2:\n",
    "            if n%n == 0:\n",
    "                total_divisores +=1\n",
    "        if total_divisores == 2:\n",
    "            return True\n",
    "        else:\n",
    "            return False\n",
    "        \n",
    "def factFun(n):\n",
    "    \"\"\"Retorna o fatorial de um número.\n",
    "    :type n: int\n",
    "    Fatorial de um número é o resultado da multiplicação entre\n",
    "    todos os seus antecessores, incluso ele mesmo.\n",
    "    Nesta função verificamos primeiro se n é igual a 1. Se for, retornamos\n",
    "    ele mesmo.\n",
    "    Caso não seja, retornamos n mu\"\"\"\n",
    "    if n == 1:\n",
    "        return n\n",
    "    else:\n",
    "        return n * factFun(n-1)"
   ]
  },
  {
   "cell_type": "markdown",
   "id": "b2e37b74",
   "metadata": {},
   "source": [
    "## **Exemplo de Resultado Esperado**\n",
    "```bash\n",
    "LISTA: [1, 2, 3, 4]\n",
    "LISTA_ENCADEADA: (1, (2, (3, (4, None))))\n",
    "primo(3): True\n",
    "factFun(3): 6\n",
    "```"
   ]
  },
  {
   "cell_type": "markdown",
   "id": "23f49898",
   "metadata": {},
   "source": [
    "2. Implemente uma função pura chamada `filterLL` de alta ordem, que recebe uma lista encadeada `L` e uma função `F`, de modo que produza uma nova lista com cada elemento de `L` que seja verdade para `F`. Depois use ela para:\n",
    "    1. Filtrar os elementos ímpares de uma lista encadeada. Usar função `lambda`.\n",
    "    2. Filtrar os elementos que são do tipo string de uma lista encadeada. Usar função `lambda`.\n",
    "    3. Filtrar os elementos de uma lista encadeada que são primos. Usar a função criada anteriormente."
   ]
  },
  {
   "cell_type": "code",
   "execution_count": null,
   "id": "eff5488d",
   "metadata": {
    "collapsed": true
   },
   "outputs": [],
   "source": [
    "\"\"\"Função lambda que retorna True caso o resto da divisão de x por 2 seja diferente de 0.\"\"\"\n",
    "filtra_impares = lambda x: x % 2 != 0\n",
    "\"\"\"Função lambda que retorna True caso x seja do tipo str.\"\"\"\n",
    "filtra_str = lambda x: isinstance(x, str)\n",
    "\"\"\"Função lambda que retorna True caso x seja número primo acordo com a função primo().\"\"\"\n",
    "filtra_primos = lambda x: primo(x)\n",
    "\n",
    "\"\"\"Retorna uma lista encadeada com os elementos passados de acordo com uma função.\n",
    "   Pegamos a lista encadeada pelos parâmetros e verificamos se ela existe. Caso não\n",
    "   exista, retornamos None.\n",
    "   Outro caso, atribuimos para H e T, respectivamente, head e tail da nossa lista \n",
    "   encadeada. Como H contém o primeiro elemento da lista encadeada sempre, podemos\n",
    "   testar a função F recebida no elemento H. Caso retorne True, chamamos recursi-\n",
    "   vamente H e a função filterLL mandando como parâmetros nosso T (que agora é a \n",
    "   nossa lista encadeada) e uma função lambda chamando a F em x. Caso retorne \n",
    "   False, mandamos recursivamente a função FilterLL passando nosso T e a função\n",
    "   lambda chamando a F em x, já que nosso H não serve para as condições de F.\"\"\"\n",
    "def filterLL(LL, F):\n",
    "    if not LL:\n",
    "        return None\n",
    "    else:\n",
    "        H = head(LL)\n",
    "        T = tail(LL)\n",
    "        if F(H) == True:\n",
    "            return H, filterLL(T, lambda x: F(x))\n",
    "        else:\n",
    "            return filterLL(T, lambda x: F(x))"
   ]
  },
  {
   "cell_type": "markdown",
   "id": "28d0cf4e",
   "metadata": {},
   "source": [
    "**Exemplo de Resultado Esperado**\n",
    "```bash\n",
    "L1: (1, (2, (3, (4, (5, None)))))\n",
    "L2: (1, ('2', ('3', (4, ('5', None)))))\n",
    "L3: (2, (3, (4, (5, (6, None)))))\n",
    "filterLL-Ímpares-L1 (1, (3, (5, None)))\n",
    "filterLL-str-L2 ('2', ('3', ('5', None)))\n",
    "filterLL-primo-L3 (2, (3, (5, None)))\n",
    "```"
   ]
  },
  {
   "cell_type": "markdown",
   "id": "3dea7b7b",
   "metadata": {},
   "source": [
    "3. Implemente uma função pura chamada de `appendLL`, que recebe duas listas encadeadas e retorne a lista resultante da concatenação."
   ]
  },
  {
   "cell_type": "code",
   "execution_count": null,
   "id": "f33fd880",
   "metadata": {},
   "outputs": [],
   "source": [
    "\"\"\"Retorna uma lista encadeada a partir de duas litas encadeadas.\n",
    "   Recebemos por parâmetro duas listas encadeadas, LL1 e LL2, onde\n",
    "   primeiro verificamos se LL2 existe, e caso não, retornamos None.\n",
    "   Também verificamos se LL1 é None, o que signifca que não há ele-\n",
    "   mentos dentro da lista para usarmos, então passamos para H a head\n",
    "   de LL2 e T a tail de LL2 e mandamos recursivamente nosso H e a\n",
    "   própria função appendLL passando como parâmetro None (que será a\n",
    "   nossa LL1) e T (a calda de LL2) que será nossa nova LL2. A ordem \n",
    "   dos parâmetros aqui é importante pois se não mandamos LL1 como None,\n",
    "   não poderemos pegar o restante dos elementos quen ficaram em T por\n",
    "   conta da condição LL1 ser None. Já em outro caso, ou seja, LL1 não\n",
    "   é None, passamos para H e T a head e tail de LL1, respectivamente.\n",
    "   Após, mandamos recursivamente H e nossa função appendLL mandando T\n",
    "   (tail de LL1) e nossa LL2 (recebida como parâmetro e que será usada\n",
    "   assim que LL1 for None por conta da chamada recursiva).\"\"\"\n",
    "\n",
    "def appendLL(LL1, LL2):\n",
    "    if not LL2:\n",
    "        return None\n",
    "\n",
    "    if LL1 == None:\n",
    "        H = head(LL2)\n",
    "        T = tail(LL2)\n",
    "        return (H, appendLL(None, T))\n",
    "\n",
    "    else:\n",
    "        H = head(LL1)\n",
    "        T = tail(LL1)\n",
    "        return (H, appendLL(T, LL2))"
   ]
  },
  {
   "cell_type": "markdown",
   "id": "3827a1a1",
   "metadata": {},
   "source": [
    "**Exemplo de Resultado Esperado**\n",
    "```bash\n",
    "L1: (1, (5, (3, None)))\n",
    "L2: (4, (5, (10, None)))\n",
    "appendLL(L1,L2): (1, (5, (3, (4, (5, (10, None))))))\n",
    "```"
   ]
  },
  {
   "cell_type": "markdown",
   "id": "b89229c9",
   "metadata": {},
   "source": [
    "4. Escreva uma função pura `QuickSortLL`, que recebe uma lista encadeada `L` e retorne uma nova lista encadeada com os elementos de `L` ordenados em ordem ascendente.\n",
    "\n",
    "_Dica: aproveite as funções `appendLL` e `filterLL` criadas anteriormente._"
   ]
  },
  {
   "cell_type": "code",
   "execution_count": null,
   "id": "6bb3e87f",
   "metadata": {},
   "outputs": [],
   "source": [
    "\"\"\"Retorna uma lista encadeada ordenada de forma crescente.\n",
    "   Recebemos por parâmetro uma lista encadeada e verificamos\n",
    "   se ela existe. Caso não, retornamos None. Outro caso,\n",
    "   atribuimos H a head de LL, iniciamos as variáveis greaters\n",
    "   e smallers que representam os números maiores que H e os\n",
    "   menores que H, respectivamente e fazemos duas condições:\n",
    "   se a função FilterLL passando como parâmetro a calda de LL\n",
    "   e uma função lambda para verificar se x é maior ou igual a\n",
    "   nossa H (neste caso, x será a head da tail de LL, por conta\n",
    "   da função FilterLL. Estaremos, em resumo, comparando os dois\n",
    "   primeiros elementos da lista encadeada LL) retorar True,\n",
    "   atribuimos a greaters o resultado da chamada recursiva da\n",
    "   QuickSortLL passando como parâmetro o resultado da FilterLL\n",
    "   que falamos anteriormente, que será nada mais que uma outra\n",
    "   lista encadeada feita somente com os elementos de acordo com\n",
    "   a nossa função lambda. O mesmo processo ocorre para a variável\n",
    "   smallers, porém com a condição inversa de greaters. Após as duas\n",
    "   condições feitas, retornamos uma nova lista encadeada com a função\n",
    "   appendLL passando smallers, H e greaters.\"\"\"\n",
    "\n",
    "def QuickSortLL(LL):\n",
    "    if not LL:\n",
    "        return None\n",
    "    else:\n",
    "        H = head(LL)\n",
    "        greaters = None\n",
    "        smallers = None\n",
    "        if filterLL(tail(LL), lambda x: x >= H):\n",
    "            greaters = QuickSortLL(filterLL(tail(LL), lambda x: x >= H))\n",
    "        if filterLL(tail(LL), lambda x: x < H):\n",
    "            smallers = QuickSortLL(filterLL(tail(LL), lambda x: x < H))\n",
    "        return appendLL(smallers, (H, greaters))"
   ]
  },
  {
   "cell_type": "markdown",
   "id": "54b7b6bf",
   "metadata": {},
   "source": [
    "**Exemplo de Resultado Esperado**\n",
    "```bash\n",
    "L1: (1, (4, (7, (2, (3, None)))))\n",
    "QuickSortLL(L1): (1, (2, (3, (4, (7, None)))))\n",
    "```"
   ]
  },
  {
   "cell_type": "markdown",
   "id": "cb4ba026",
   "metadata": {},
   "source": [
    "5. Implemente uma função pura `mapLL` de alta ordem, de forma que ela receba e aplique uma função `F` sob cada elemento de uma lista encadeada `L` que é passada como parâmetro (`mapLL(L,F)`), retornando uma nova lista. Depois, use `mapLL`:\n",
    "    1. Para calcular o fatorial de cada elemento de uma lista encadeada.\n",
    "    2. Para converter em string cada elemento de uma lista encadeada.\n",
    "    3. Para incrementar +1 cada elemento de uma lista encadeada. Use função lambda."
   ]
  },
  {
   "cell_type": "code",
   "execution_count": null,
   "id": "3678a09a",
   "metadata": {},
   "outputs": [],
   "source": [
    "\"\"\"Retorna x em formato str.\"\"\"\n",
    "converte_para_str = lambda x: str(x)\n",
    "\"\"\"Retorna x com ser valor acrescentando mais 1 unidade.\"\"\"\n",
    "incrementador = lambda x: x+1\n",
    "\n",
    "\"\"\"Retorna uma lista encadeada conforme pede a função F.\n",
    "   Recebemos por parâmetro uma lista encadeada e uma função\n",
    "   F. Verificamos se LL existe. Caso não, retornamos None.\n",
    "   Outro caso, atribuimos a H e T a head e a tail de LL, \n",
    "   respectivamente. Após, chamamos recursivamente em tupla\n",
    "   a nossa função F em H e a própria função mapLL passando\n",
    "   como parâmetro a nossa T e nossa função F. Assim, nossa\n",
    "   T se tornará a nova lista encadeada, seu primeiro elemen-\n",
    "   to será a nova head H e o seu restante será a nova T, até\n",
    "   que LL se torne None.\"\"\"\n",
    "def mapLL(LL, F):\n",
    "    if not LL:\n",
    "        return None\n",
    "    else:\n",
    "        H = head(LL)\n",
    "        T = tail(LL)\n",
    "        return (F(H), mapLL(T, F))"
   ]
  },
  {
   "cell_type": "markdown",
   "id": "b38506a0",
   "metadata": {},
   "source": [
    "**Exemplo de Resultado Esperado**\n",
    "```bash\n",
    "L1: (1, (2, (3, (4, (5, None)))))\n",
    "L2: (1, ('2', ('3', (4, ('5', None)))))\n",
    "L3: (2, (3, (4, (5, (6, None)))))\n",
    "mapL-factorial-L1: (1, (2, (6, (24, (120, None)))))\n",
    "mapL-string-L2: ('1', ('2', ('3', ('4', ('5', None)))))\n",
    "mapL-incrementa-L3: (3, (4, (5, (6, (7, None)))))\n",
    "```"
   ]
  },
  {
   "cell_type": "markdown",
   "id": "9a8f1cff",
   "metadata": {},
   "source": []
  }
 ],
 "metadata": {
  "interpreter": {
   "hash": "8e612d4add3058ac65bbaef81902a3ac32644747f2687d6842f0ddda15ddd962"
  },
  "kernelspec": {
   "display_name": "Python 3.8.8 64-bit ('base': conda)",
   "name": "python3"
  },
  "language_info": {
   "codemirror_mode": {
    "name": "ipython",
    "version": 3
   },
   "file_extension": ".py",
   "mimetype": "text/x-python",
   "name": "python",
   "nbconvert_exporter": "python",
   "pygments_lexer": "ipython3",
   "version": "3.8.8"
  }
 },
 "nbformat": 4,
 "nbformat_minor": 5
}
