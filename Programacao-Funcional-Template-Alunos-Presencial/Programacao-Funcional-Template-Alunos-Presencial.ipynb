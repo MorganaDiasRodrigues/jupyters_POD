{
 "cells": [
  {
   "cell_type": "markdown",
   "id": "6dd0dcb9",
   "metadata": {},
   "source": [
    "# [Prof. Dalvan Griebler](mailto:dalvan.griebler@pucrs.br)\n",
    "\n",
    "## Programação Orientada a Dados (POD) - Turma 10 (POD_98H04-06)\n",
    "\n",
    "**Atualizado**: 10/10/2021\n",
    "\n",
    "**Descrição**: Material de apoio as aulas sobre Python para POD\n",
    "\n",
    "**Copyright &copy;**: Este documento está sob a licensa da Criative Commons [BY-NC-ND 4.0](https://creativecommons.org/licenses/by-nc-nd/4.0/legalcode)"
   ]
  },
  {
   "cell_type": "markdown",
   "id": "333a7769",
   "metadata": {},
   "source": [
    "# Programação Funcional em Python"
   ]
  },
  {
   "cell_type": "markdown",
   "id": "92b2a84b",
   "metadata": {},
   "source": [
    "## Modelo de Re-escrita de Texto"
   ]
  },
  {
   "cell_type": "code",
   "execution_count": 12,
   "id": "7b152e54",
   "metadata": {},
   "outputs": [
    {
     "name": "stdout",
     "output_type": "stream",
     "text": [
      "3  * factFun( 2 )\n",
      "2  * factFun( 1 )\n",
      "1\n",
      "6\n"
     ]
    }
   ],
   "source": [
    "def factFun(n):\n",
    "    if n > 1:\n",
    "        print(n, \" * factFun(\", n-1, \")\")\n",
    "        return n * factFun(n-1)\n",
    "    else:\n",
    "        print(n)\n",
    "        return 1\n",
    "\n",
    "print(factFun(3))"
   ]
  },
  {
   "cell_type": "markdown",
   "id": "8f4089d5",
   "metadata": {},
   "source": [
    "## Conceito de Programação Declarativa"
   ]
  },
  {
   "cell_type": "code",
   "execution_count": 13,
   "id": "89343695",
   "metadata": {},
   "outputs": [
    {
     "name": "stdout",
     "output_type": "stream",
     "text": [
      "[2, 4, 6, 8, 10, 12, 14, 16, 18, 20]\n"
     ]
    }
   ],
   "source": [
    "L = []\n",
    "for i in range(1, 11):\n",
    "    L.append(i*2)\n",
    "print(L)"
   ]
  },
  {
   "cell_type": "code",
   "execution_count": 14,
   "id": "74c35367",
   "metadata": {},
   "outputs": [
    {
     "name": "stdout",
     "output_type": "stream",
     "text": [
      "[2, 4, 6, 8, 10, 12, 14, 16, 18, 20]\n"
     ]
    }
   ],
   "source": [
    "L = [i*2 for i in range(1, 11)]\n",
    "print(L)"
   ]
  },
  {
   "cell_type": "markdown",
   "id": "5cb6021e",
   "metadata": {},
   "source": [
    "## Conceito de Funções Puras"
   ]
  },
  {
   "cell_type": "code",
   "execution_count": 15,
   "id": "31c5d364",
   "metadata": {},
   "outputs": [
    {
     "name": "stdout",
     "output_type": "stream",
     "text": [
      "a= [1, 2, 3]\n",
      "b= [4, 5, 6]\n",
      "c= [1, 2, 3, 4, 5, 6]\n",
      "a= [1, 2, 3, 4, 5, 6]\n",
      "b= [4, 5, 6]\n"
     ]
    }
   ],
   "source": [
    "def appendImpuro(L1, L2):\n",
    "    L1 += L2\n",
    "    \n",
    "def appendPuro(L1, L2):\n",
    "    return L1 + L2\n",
    "\n",
    "a = [1,2,3]\n",
    "b = [4,5,6]\n",
    "c = appendPuro(a,b)\n",
    "print(\"a=\", a)\n",
    "print(\"b=\", b)\n",
    "print(\"c=\", c)\n",
    "appendImpuro(a,b)\n",
    "print(\"a=\", a)\n",
    "print(\"b=\", b)"
   ]
  },
  {
   "cell_type": "markdown",
   "id": "306ba342",
   "metadata": {},
   "source": [
    "## Conceito de Transparência Referencial"
   ]
  },
  {
   "cell_type": "code",
   "execution_count": 16,
   "id": "bec09481",
   "metadata": {},
   "outputs": [
    {
     "name": "stdout",
     "output_type": "stream",
     "text": [
      "6\n",
      "7\n"
     ]
    }
   ],
   "source": [
    "# interferência externa mudando a base do cálculo\n",
    "quantidade = 1\n",
    "def incre(num):\n",
    "    return num + quantidade\n",
    "\n",
    "print(incre(5))\n",
    "quantidade=2\n",
    "print(incre(5))"
   ]
  },
  {
   "cell_type": "code",
   "execution_count": 17,
   "id": "5ddd8bd3",
   "metadata": {},
   "outputs": [
    {
     "name": "stdout",
     "output_type": "stream",
     "text": [
      "6\n",
      "6\n"
     ]
    }
   ],
   "source": [
    "# sem interferência externa\n",
    "def incre(num):\n",
    "    return num + 1\n",
    "\n",
    "print(incre(5))\n",
    "print(incre(5))"
   ]
  },
  {
   "cell_type": "markdown",
   "id": "40afea67",
   "metadata": {},
   "source": [
    "## Exemplo: Listas Encadeadas"
   ]
  },
  {
   "cell_type": "code",
   "execution_count": 18,
   "id": "4acf1de4",
   "metadata": {},
   "outputs": [
    {
     "name": "stdout",
     "output_type": "stream",
     "text": [
      "(None,)\n",
      "(0, (1, (2, None)))\n",
      "0\n",
      "(1, (2, None))\n",
      "((1, (2, None)),)\n",
      "((0, (1, (2, None))), -1)\n",
      "(-1, ((0, (1, (2, None))), -1))\n",
      "-1\n",
      "((0, (1, (2, None))), -1)\n"
     ]
    }
   ],
   "source": [
    "LL=(None,)\n",
    "print(LL)\n",
    "\n",
    "LL=(0,(1,(2,None)))\n",
    "\n",
    "print(LL)\n",
    "print(LL[0])\n",
    "print(LL[1])\n",
    "\n",
    "print(LL[1:])\n",
    "LL1=(LL,-1)\n",
    "print(LL1)\n",
    "\n",
    "LL2=(-1, LL1)\n",
    "print(LL2)\n",
    "\n",
    "def head(L):\n",
    "    return L[0]\n",
    "\n",
    "def tail(L):\n",
    "    return L[1]\n",
    "\n",
    "print (head(LL2))\n",
    "print (tail(LL2))"
   ]
  },
  {
   "cell_type": "markdown",
   "id": "d01cbdfa",
   "metadata": {},
   "source": [
    "## Exercício de Fixação: Programação Funcional"
   ]
  },
  {
   "cell_type": "markdown",
   "id": "e3867987",
   "metadata": {},
   "source": [
    "1. Crie uma função pura que transforma uma lista normal em uma lista encadeada\n",
    "2. Crie uma função pura que transforma uma lista encadeada em uma lista normal\n",
    "3. Crie uma função pura que retorne a quantidade de elementos de uma lista encadeada\n",
    "4. Desenvolva o algoritmo Merge Sort com lista encadeada imutável. \n",
    "    1. Crie uma função pura `split(L)`, que retorna duas listas (`L1`, `L2`)\n",
    "    2. Crie uma função pura `sorted(L)`, que retorna `True` se estiver ordenado, caso contrário `False`\n",
    "    3. Crie uma função pura `merge(L1, L2)`, que recebe duas listas e retorne uma lista `L`\n",
    "    4. Crie a função pura `mergeSort(L)`, que rebe uma lista `L` desordenada e retorna a lista `LS` ordenada. (Aproveite o conhecimento e as funções puras criadas anteriormente)"
   ]
  },
  {
   "cell_type": "markdown",
   "id": "5de4f9e2",
   "metadata": {},
   "source": [
    "### 1. Transformando uma lista em uma lista encadeada (linked)"
   ]
  },
  {
   "cell_type": "code",
   "execution_count": 19,
   "id": "e5a69aba",
   "metadata": {},
   "outputs": [
    {
     "name": "stdout",
     "output_type": "stream",
     "text": [
      "(1, (2, (3, (4, None))))\n"
     ]
    }
   ],
   "source": [
    "def l2ll(L):\n",
    "    if not L:\n",
    "        return None\n",
    "    else:\n",
    "        #print(L[0], L[1:])\n",
    "        return (L[0], l2ll(L[1:]))\n",
    "\n",
    "print(l2ll([1,2,3,4]))"
   ]
  },
  {
   "cell_type": "markdown",
   "id": "d26a6a6e",
   "metadata": {},
   "source": [
    "\n",
    "### 2. Transformando uma lista encadeada (linked) em lista"
   ]
  },
  {
   "cell_type": "code",
   "execution_count": 20,
   "id": "2593ceb0",
   "metadata": {},
   "outputs": [
    {
     "name": "stdout",
     "output_type": "stream",
     "text": [
      "(0, (1, (2, None)))\n",
      "[0, 1, 2]\n"
     ]
    }
   ],
   "source": [
    "def ll2l(L):\n",
    "    if not L:\n",
    "        return []\n",
    "    else:\n",
    "        H = head(L)\n",
    "        T = tail(L)\n",
    "        return [H] + ll2l(T)\n",
    "    \n",
    "L=ll2l(LL)\n",
    "print(LL)\n",
    "print(L)"
   ]
  },
  {
   "cell_type": "markdown",
   "id": "71649b1d",
   "metadata": {},
   "source": [
    "### 3. Função que retorna a quantidade de elementos"
   ]
  },
  {
   "cell_type": "code",
   "execution_count": 21,
   "id": "b7c9b61e",
   "metadata": {},
   "outputs": [
    {
     "name": "stdout",
     "output_type": "stream",
     "text": [
      "(0, (1, (2, None)))\n",
      "2\n",
      "3\n"
     ]
    }
   ],
   "source": [
    "print(LL)\n",
    "print(len(LL))\n",
    "def llSize(L):\n",
    "    if not L:\n",
    "        return 0\n",
    "    else:\n",
    "        return 1 + llSize(tail(L))\n",
    "    \n",
    "print(llSize(LL))"
   ]
  },
  {
   "cell_type": "markdown",
   "id": "4ce3ca1a",
   "metadata": {},
   "source": [
    "### 4. MergeSort para Lista Encadeadas"
   ]
  },
  {
   "cell_type": "markdown",
   "id": "6496282e",
   "metadata": {},
   "source": [
    "#### A. Função Split\n",
    "\n",
    "Escreva uma função pura `split`, que receba uma lista `L` e retorne duas listas (`L1` e `L2`) tal que as seguinte propriedades sejam verdadeiras.\n",
    "- $elem$ in `L` $->$  $elem$ in `L1` $||$ `L2`\n",
    "- `size(L)` $==$ `size(L1)` $+$ `size(L2)`  (não pode ter duplicação)\n",
    "- `abs(size(L1)` - `size(L2))` $<=$ `1`"
   ]
  },
  {
   "cell_type": "code",
   "execution_count": 22,
   "id": "174a745d",
   "metadata": {},
   "outputs": [
    {
     "ename": "IndentationError",
     "evalue": "unexpected indent (<ipython-input-22-1862ea883812>, line 9)",
     "output_type": "error",
     "traceback": [
      "\u001b[1;36m  File \u001b[1;32m\"<ipython-input-22-1862ea883812>\"\u001b[1;36m, line \u001b[1;32m9\u001b[0m\n\u001b[1;33m    H1=head(L)\u001b[0m\n\u001b[1;37m    ^\u001b[0m\n\u001b[1;31mIndentationError\u001b[0m\u001b[1;31m:\u001b[0m unexpected indent\n"
     ]
    }
   ],
   "source": [
    "def split(L):\n",
    "    # vazio\n",
    "    if not L:\n",
    "        return (None, None)\n",
    "    # apenas um elemento\n",
    "    if not tail(L):\n",
    "        return (L, None)\n",
    "    else:1\n",
    "        H1=head(L)\n",
    "        H2=head(tail(L))\n",
    "        (T1,T2) = split(tail(tail(L)))\n",
    "        return ((H1,T1), (H2, T2))\n",
    "\n",
    "LL=l2ll([1,2,3,4,5])\n",
    "print(split(LL))"
   ]
  },
  {
   "cell_type": "markdown",
   "id": "04b3a5b1",
   "metadata": {},
   "source": [
    "#### B. Função sorted em ascendente\n",
    "\n",
    "Escrever uma função pura `sorted`, que retorne `True` quando `L` for uma lista ordenada em ordem ascendente e `False` caso contrário."
   ]
  },
  {
   "cell_type": "code",
   "execution_count": null,
   "id": "ad119af6",
   "metadata": {},
   "outputs": [
    {
     "name": "stdout",
     "output_type": "stream",
     "text": [
      "H:  True\n",
      "T:  True\n",
      "H:  False\n",
      "T:  True\n",
      "H:  True\n",
      "T:  False\n",
      "H:  False\n",
      "T:  False\n"
     ]
    }
   ],
   "source": [
    "def issorted(L):\n",
    "    if not L:\n",
    "        return True\n",
    "    elif not tail(L):\n",
    "        return True\n",
    "    else:\n",
    "        H = head(L) <= head(tail(L))\n",
    "        T = issorted(tail(L))\n",
    "        print ('H: ', H)\n",
    "        print ('T: ', T)\n",
    "        return H and T\n",
    "\n",
    "L = (10, (4, (7, (2, (3, None)))))\n",
    "A = issorted(L)"
   ]
  },
  {
   "cell_type": "markdown",
   "id": "ad92ff41",
   "metadata": {},
   "source": [
    "#### C. Função merge\n",
    " Escreva uma função pura `merge`, que receba duas listas (`L1`, `L2`) e retorne uma lista `L`, tal que as seguintes proprieades sejam verdadeiras.\n",
    " \n",
    "- $elem$ in `L1` $||$ `L2` $->$ $elem$ in `L` \n",
    "- `size(L1)` $+$ `size(L2)` $==$ `size(L)` \n",
    "- `sorted(L1)` $&&$ `sorted(L2)` $->$ `sorted(L)`"
   ]
  },
  {
   "cell_type": "code",
   "execution_count": null,
   "id": "f6e17590",
   "metadata": {},
   "outputs": [
    {
     "name": "stdout",
     "output_type": "stream",
     "text": [
      "(6, (5, (5, None)))\n",
      "(4, (4, None))\n",
      "(4, (4, (6, (5, (5, None)))))\n"
     ]
    }
   ],
   "source": [
    "def merge(L1,L2):\n",
    "    if not L1:\n",
    "        return L2\n",
    "    if not L2:\n",
    "        return L1\n",
    "    else:\n",
    "        H1 = head(L1)\n",
    "        H2 = head(L2)        \n",
    "        T1 = tail(L1)\n",
    "        T2 = tail(L2)\n",
    "        if H1 < H2:\n",
    "            return (H1, merge(T1,L2))\n",
    "        else:\n",
    "            return (H2, merge(L1, T2))\n",
    "\n",
    "LL=l2ll([6,4,5,4,5])\n",
    "LL1, LL2 = split(LL)\n",
    "print(LL1)\n",
    "print(LL2)\n",
    "LL3=merge(LL1, LL2)\n",
    "print(LL3)"
   ]
  },
  {
   "cell_type": "markdown",
   "id": "135e147b",
   "metadata": {},
   "source": [
    "#### D. Função mergeSort\n",
    "\n",
    "Escreva uma função pura `mergeSort`, que receba uma lista `L` e retorne uma lista ordenada `LS`, tal que as seguintes propriedades sejam verdadeiras\n",
    "\n",
    "- $elem$ in `L` $<->$ $elem$ in `LL` (preserva os elementos)\n",
    "- `sorted(LL)`\n"
   ]
  },
  {
   "cell_type": "code",
   "execution_count": null,
   "id": "2c9f0cd3",
   "metadata": {},
   "outputs": [],
   "source": [
    "  "
   ]
  }
 ],
 "metadata": {
  "interpreter": {
   "hash": "fdbb68677885ba47621c07f5ecc3dad46c62c2dc4cf7063e4dbb7e5204c74778"
  },
  "kernelspec": {
   "display_name": "Python 3",
   "language": "python",
   "name": "python3"
  },
  "language_info": {
   "codemirror_mode": {
    "name": "ipython",
    "version": 3
   },
   "file_extension": ".py",
   "mimetype": "text/x-python",
   "name": "python",
   "nbconvert_exporter": "python",
   "pygments_lexer": "ipython3",
   "version": "3.9.6"
  }
 },
 "nbformat": 4,
 "nbformat_minor": 5
}
