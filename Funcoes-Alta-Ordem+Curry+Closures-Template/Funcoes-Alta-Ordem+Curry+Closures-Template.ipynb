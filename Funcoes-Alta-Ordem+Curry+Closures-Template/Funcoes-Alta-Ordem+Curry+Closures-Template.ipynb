{
 "cells": [
  {
   "cell_type": "markdown",
   "id": "8f82236e",
   "metadata": {},
   "source": [
    "# [Prof. Dalvan Griebler](mailto:dalvan.griebler@pucrs.br)\n",
    "\n",
    "## Programação Orientada a Dados (POD) - Turma 10 (POD_98H04-06)\n",
    "\n",
    "**Atualizado**: 10/10/2021\n",
    "\n",
    "**Descrição**: Material de apoio as aulas sobre Python para POD\n",
    "\n",
    "**Copyright &copy;**: Este documento está sob a licensa da Criative Commons [BY-NC-ND 4.0](https://creativecommons.org/licenses/by-nc-nd/4.0/legalcode)"
   ]
  },
  {
   "cell_type": "markdown",
   "id": "e0905887",
   "metadata": {},
   "source": [
    "# Funções de Alta Ordem em Python"
   ]
  },
  {
   "cell_type": "code",
   "execution_count": 4,
   "id": "82fe7c85",
   "metadata": {},
   "outputs": [
    {
     "name": "stdout",
     "output_type": "stream",
     "text": [
      "Aula de POD!\n",
      "<function retorna_msg at 0x0000025D525498B0>\n",
      "Aula de POD!\n"
     ]
    }
   ],
   "source": [
    "def retorna_msg():\n",
    "    return \"Aula de POD!\"\n",
    "\n",
    "print(retorna_msg())\n",
    "msg = retorna_msg\n",
    "print(msg)\n",
    "print(msg())"
   ]
  },
  {
   "cell_type": "code",
   "execution_count": 8,
   "id": "7aa239b3",
   "metadata": {},
   "outputs": [
    {
     "name": "stdout",
     "output_type": "stream",
     "text": [
      "50\n",
      "Morgana\n"
     ]
    }
   ],
   "source": [
    "def computar(valor, func):\n",
    "    res = func(valor)\n",
    "    return res\n",
    "\n",
    "def mult(valor):\n",
    "    return valor * 5\n",
    "\n",
    "print(computar(10, mult))\n",
    "computar(\"Morgana\", print)"
   ]
  },
  {
   "cell_type": "code",
   "execution_count": 10,
   "id": "5a4419d1",
   "metadata": {},
   "outputs": [
    {
     "name": "stdout",
     "output_type": "stream",
     "text": [
      "40.0\n",
      "80.0\n"
     ]
    }
   ],
   "source": [
    "def calculadora_taxa(salario):\n",
    "    return salario * 0.04\n",
    "\n",
    "def calcula_taxa(salario, func):\n",
    "    return func(salario)\n",
    "\n",
    "print(calcula_taxa(1000, calculadora_taxa))\n",
    "\n",
    "#lambda\n",
    "print(calcula_taxa(2000, lambda v: v*0.04))"
   ]
  },
  {
   "cell_type": "code",
   "execution_count": 12,
   "id": "7054758a",
   "metadata": {},
   "outputs": [
    {
     "name": "stdout",
     "output_type": "stream",
     "text": [
      "True\n",
      "True\n",
      "False\n"
     ]
    }
   ],
   "source": [
    "def retorna_func_tester(s):\n",
    "    if s == 'par':\n",
    "        return lambda n: n % 2 == 0\n",
    "    elif s == 'positivo':\n",
    "            return lambda n: n >= 0\n",
    "    elif s == 'negativo':\n",
    "            return lambda n: n < 0\n",
    "    else:\n",
    "        raise ValueError(\"Parâmetro desconhecido\")\n",
    "        \n",
    "par = retorna_func_tester('par')\n",
    "positivo = retorna_func_tester('positivo')\n",
    "negativo = retorna_func_tester('negativo')\n",
    "\n",
    "print(par(10))\n",
    "print(positivo(10))\n",
    "print(negativo(10))"
   ]
  },
  {
   "cell_type": "markdown",
   "id": "ddaac46f",
   "metadata": {},
   "source": [
    "# Funções Curry em Python"
   ]
  },
  {
   "cell_type": "code",
   "execution_count": 17,
   "id": "49dc380d",
   "metadata": {},
   "outputs": [
    {
     "name": "stdout",
     "output_type": "stream",
     "text": [
      "9\n",
      "3\n",
      "13\n"
     ]
    }
   ],
   "source": [
    "somar = lambda x: lambda y: x + y\n",
    "print(somar(2)(7))\n",
    "inc = somar(1)\n",
    "print(inc(2))\n",
    "inc = somar(10)\n",
    "print(inc(3))"
   ]
  },
  {
   "cell_type": "code",
   "execution_count": 29,
   "id": "1b0c3120",
   "metadata": {},
   "outputs": [
    {
     "name": "stdout",
     "output_type": "stream",
     "text": [
      "10\n",
      "Dobro(10) 20\n",
      "Triplo(10) 30\n"
     ]
    }
   ],
   "source": [
    "def mult(a, b):\n",
    "    return a * b\n",
    "\n",
    "print(mult(2,5))\n",
    "\n",
    "def mult_por(func, num):\n",
    "    return lambda y: func(num, y)\n",
    "\n",
    "dobro = mult_por(mult, 2)\n",
    "triplo = mult_por(mult, 3)\n",
    "\n",
    "print('Dobro(10)', dobro(10))\n",
    "print('Triplo(10)', triplo(10))"
   ]
  },
  {
   "cell_type": "markdown",
   "id": "f0d69cf6",
   "metadata": {},
   "source": [
    "# Conceito de Closure em Python"
   ]
  },
  {
   "cell_type": "code",
   "execution_count": 34,
   "id": "b9e2b240",
   "metadata": {},
   "outputs": [
    {
     "name": "stdout",
     "output_type": "stream",
     "text": [
      "11\n",
      "12\n",
      "13\n"
     ]
    }
   ],
   "source": [
    "def cria_incrementador(n):\n",
    "    def inc(x):\n",
    "        return x + n\n",
    "    return inc\n",
    "\n",
    "meu_inc = cria_incrementador(1)\n",
    "print(meu_inc(10))\n",
    "\n",
    "# lambda\n",
    "def cria_incrementador2(n):\n",
    "    return lambda x: x + n\n",
    "\n",
    "meu_inc2 = cria_incrementador2(2)\n",
    "print(meu_inc2(10))\n",
    "\n",
    "cria_incrementador3 = lambda n: lambda x: x + n\n",
    "\n",
    "meu_inc3 = cria_incrementador3(3)\n",
    "print(meu_inc3(10))"
   ]
  },
  {
   "cell_type": "code",
   "execution_count": 20,
   "id": "d26b2583",
   "metadata": {},
   "outputs": [
    {
     "name": "stdout",
     "output_type": "stream",
     "text": [
      "3\n",
      "12\n"
     ]
    }
   ],
   "source": [
    "def incrementar(num):\n",
    "    return num + 1\n",
    "\n",
    "def redefine_incrementa (valor_base):\n",
    "    global incrementar\n",
    "    base = valor_base\n",
    "    def aux(num):\n",
    "        return num + base\n",
    "    incrementar = aux\n",
    "\n",
    "print(incrementar(2))\n",
    "redefine_incrementa(10)\n",
    "print(incrementar(2))"
   ]
  },
  {
   "cell_type": "markdown",
   "id": "e602b290",
   "metadata": {},
   "source": [
    "# Aquecimento para os exercícios"
   ]
  },
  {
   "cell_type": "code",
   "execution_count": 27,
   "id": "c5cf01a8",
   "metadata": {},
   "outputs": [],
   "source": [
    "def test(nome_test, valor, esperado):\n",
    "    print(nome_test, \"->\", str(valor))\n",
    "    if valor == esperado:\n",
    "        print(\"Passou!\")\n",
    "    else:\n",
    "        print(\"Falhou!\")"
   ]
  },
  {
   "cell_type": "code",
   "execution_count": 40,
   "id": "3be71352",
   "metadata": {},
   "outputs": [
    {
     "name": "stdout",
     "output_type": "stream",
     "text": [
      "incrL -> (2, (3, (4, None)))\n",
      "Passou!\n"
     ]
    }
   ],
   "source": [
    "def incrL(L):\n",
    "    if not L:\n",
    "        return None\n",
    "    else:\n",
    "        return (L[0]+1, incrL(L[1]))\n",
    "test('incrL', incrL((1, (2, (3, None)))), (2, (3, (4, None))))"
   ]
  },
  {
   "cell_type": "markdown",
   "id": "8b87688b",
   "metadata": {},
   "source": [
    "# Exercícios de Fixação "
   ]
  },
  {
   "cell_type": "markdown",
   "id": "c76dc627",
   "metadata": {},
   "source": [
    "1. Use o conceito de funções curry para converter uma quantidade de uma moeda em outra dado uma taxa de conversão.\n",
    "    - Crie uma função chamada `curry()` que recebe como argumento uma função.\n",
    "    - Defina uma função que será usada para converter uma quantidade em outra quantidade baseado na taxa de conversão. Essa função apenas multiplica a quantidade pela taxa.\n",
    "    - Agora você pode criar um conjunto de funções que serão usadas para converter uma determinada quantidade de uma moeda em uma quantidade de outra moeda. Queremos evitar de especificar toda vez a taxa de conversão e apenas chamar a função com o quantidade.\n",
    "2. Faça uma função pura `factL`, que calcule o fatorial para cada elemento de uma lista encadeada e retorne uma nova lista encadeada. Use a função de teste criada anteriormente.\n",
    "3. Faça uma função pura `strL`, que converte em string cada elemento de uma lista encadeada, retornando uma nova lista. Use a função de teste criada anteriormente."
   ]
  },
  {
   "cell_type": "code",
   "execution_count": 48,
   "id": "3e91dbe2",
   "metadata": {},
   "outputs": [
    {
     "ename": "TypeError",
     "evalue": "'int' object is not callable",
     "output_type": "error",
     "traceback": [
      "\u001b[1;31m---------------------------------------------------------------------------\u001b[0m",
      "\u001b[1;31mTypeError\u001b[0m                                 Traceback (most recent call last)",
      "\u001b[1;32m<ipython-input-48-f05c950f8731>\u001b[0m in \u001b[0;36m<module>\u001b[1;34m\u001b[0m\n\u001b[0;32m      5\u001b[0m     \u001b[1;32mreturn\u001b[0m \u001b[0mnum\u001b[0m \u001b[1;33m*\u001b[0m \u001b[1;36m10\u001b[0m\u001b[1;33m\u001b[0m\u001b[1;33m\u001b[0m\u001b[0m\n\u001b[0;32m      6\u001b[0m \u001b[1;33m\u001b[0m\u001b[0m\n\u001b[1;32m----> 7\u001b[1;33m \u001b[0mmeu_curry\u001b[0m \u001b[1;33m=\u001b[0m \u001b[0mcurry\u001b[0m\u001b[1;33m(\u001b[0m\u001b[0mbase_10\u001b[0m\u001b[1;33m(\u001b[0m\u001b[1;36m2\u001b[0m\u001b[1;33m)\u001b[0m\u001b[1;33m)\u001b[0m\u001b[1;33m\u001b[0m\u001b[1;33m\u001b[0m\u001b[0m\n\u001b[0m\u001b[0;32m      8\u001b[0m \u001b[0mprint\u001b[0m\u001b[1;33m(\u001b[0m\u001b[0mmeu_curry\u001b[0m\u001b[1;33m)\u001b[0m\u001b[1;33m\u001b[0m\u001b[1;33m\u001b[0m\u001b[0m\n",
      "\u001b[1;32m<ipython-input-48-f05c950f8731>\u001b[0m in \u001b[0;36mcurry\u001b[1;34m(func)\u001b[0m\n\u001b[0;32m      1\u001b[0m \u001b[1;32mdef\u001b[0m \u001b[0mcurry\u001b[0m\u001b[1;33m(\u001b[0m\u001b[0mfunc\u001b[0m\u001b[1;33m)\u001b[0m\u001b[1;33m:\u001b[0m\u001b[1;33m\u001b[0m\u001b[1;33m\u001b[0m\u001b[0m\n\u001b[1;32m----> 2\u001b[1;33m     \u001b[0mfunc\u001b[0m\u001b[1;33m(\u001b[0m\u001b[1;33m)\u001b[0m\u001b[1;33m\u001b[0m\u001b[1;33m\u001b[0m\u001b[0m\n\u001b[0m\u001b[0;32m      3\u001b[0m \u001b[1;33m\u001b[0m\u001b[0m\n\u001b[0;32m      4\u001b[0m \u001b[1;32mdef\u001b[0m \u001b[0mbase_10\u001b[0m\u001b[1;33m(\u001b[0m\u001b[0mnum\u001b[0m\u001b[1;33m)\u001b[0m\u001b[1;33m:\u001b[0m\u001b[1;33m\u001b[0m\u001b[1;33m\u001b[0m\u001b[0m\n\u001b[0;32m      5\u001b[0m     \u001b[1;32mreturn\u001b[0m \u001b[0mnum\u001b[0m \u001b[1;33m*\u001b[0m \u001b[1;36m10\u001b[0m\u001b[1;33m\u001b[0m\u001b[1;33m\u001b[0m\u001b[0m\n",
      "\u001b[1;31mTypeError\u001b[0m: 'int' object is not callable"
     ]
    }
   ],
   "source": [
    "def curry(func):\n",
    "    return lambda y: func(num, y)\n",
    "    \n",
    "def base_10(num):\n",
    "    return num * 10\n",
    "\n",
    "meu_curry = curry(base_10(2))\n",
    "print(meu_curry)"
   ]
  },
  {
   "cell_type": "code",
   "execution_count": null,
   "id": "b778b9f1",
   "metadata": {},
   "outputs": [],
   "source": []
  }
 ],
 "metadata": {
  "kernelspec": {
   "display_name": "Python 3",
   "language": "python",
   "name": "python3"
  },
  "language_info": {
   "codemirror_mode": {
    "name": "ipython",
    "version": 3
   },
   "file_extension": ".py",
   "mimetype": "text/x-python",
   "name": "python",
   "nbconvert_exporter": "python",
   "pygments_lexer": "ipython3",
   "version": "3.9.6"
  }
 },
 "nbformat": 4,
 "nbformat_minor": 5
}
