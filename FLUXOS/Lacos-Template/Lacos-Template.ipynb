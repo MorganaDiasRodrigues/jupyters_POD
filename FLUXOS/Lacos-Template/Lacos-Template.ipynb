{
 "cells": [
  {
   "cell_type": "markdown",
   "id": "0d04d4d5-4a84-4c2a-a4ec-096be99896dc",
   "metadata": {},
   "source": [
    "# [Prof. Dalvan Griebler](mailto:dalvan.griebler@pucrs.br)\n",
    "\n",
    "## Programação Orientada a Dados (POD) - Turma 10 (POD_98H04-06)\n",
    "\n",
    "**Atualizado**: 22/08/2021\n",
    "\n",
    "**Descrição**: Material de apoio as aulas sobre Python para POD\n",
    "\n",
    "**Copyright &copy;**: Este documento está sob a licensa da Criative Commons [BY-NC-ND 4.0](https://creativecommons.org/licenses/by-nc-nd/4.0/legalcode)"
   ]
  },
  {
   "cell_type": "markdown",
   "id": "0bf421a3-5f98-4421-8c80-3c104aa0600d",
   "metadata": {},
   "source": [
    "# Laços em Python"
   ]
  },
  {
   "cell_type": "markdown",
   "id": "9b0f951a-024d-4a22-9ff4-335b0e928478",
   "metadata": {},
   "source": [
    "## Laços `while`"
   ]
  },
  {
   "cell_type": "code",
   "execution_count": 1,
   "id": "6f418575-3dae-401a-8153-cc12a9dee894",
   "metadata": {},
   "outputs": [
    {
     "name": "stdout",
     "output_type": "stream",
     "text": [
      "ANTES DO LAÇO\n",
      "0  1  2  3  4  5  6  7  8  9  \n",
      "DEPOIS DO LAÇO\n"
     ]
    }
   ],
   "source": [
    "contador = 0\n",
    "print(\"ANTES DO LAÇO\")\n",
    "while contador < 10:\n",
    "    print(contador, \" \", end=\"\")\n",
    "    contador+=1\n",
    "print(\"\")\n",
    "\n",
    "print(\"DEPOIS DO LAÇO\")"
   ]
  },
  {
   "cell_type": "markdown",
   "id": "91c5207d-874e-416a-a3cc-b8900ccd9496",
   "metadata": {},
   "source": [
    "### Usando `break`"
   ]
  },
  {
   "cell_type": "code",
   "execution_count": 2,
   "id": "7b8e3aa1-c728-487a-baba-20b7db6b6670",
   "metadata": {},
   "outputs": [
    {
     "name": "stdout",
     "output_type": "stream",
     "text": [
      "ANTES DO LAÇO\n",
      "1  2  3  4  6  7  8  9  10  \n",
      "DEPOIS DO LAÇO\n"
     ]
    }
   ],
   "source": [
    "contador = 0\n",
    "print(\"ANTES DO LAÇO\")\n",
    "while contador < 10:\n",
    "    contador+=1\n",
    "    if (contador == 5):\n",
    "        continue\n",
    "    print(contador, \" \", end=\"\")\n",
    "print(\"\")\n",
    "\n",
    "print(\"DEPOIS DO LAÇO\")"
   ]
  },
  {
   "cell_type": "markdown",
   "id": "15362d0c-07d5-4fd9-b857-f62421fdcec1",
   "metadata": {},
   "source": [
    "### Usando `continue`"
   ]
  },
  {
   "cell_type": "code",
   "execution_count": null,
   "id": "8d49627e-0a08-4e89-a7fc-34d78edd56b4",
   "metadata": {},
   "outputs": [],
   "source": []
  },
  {
   "cell_type": "markdown",
   "id": "4f39aa6f-67b5-47c5-825a-4d3ff090fb65",
   "metadata": {},
   "source": [
    "### Usando `else`"
   ]
  },
  {
   "cell_type": "code",
   "execution_count": null,
   "id": "1c1d7f12-f31f-48f9-aa85-55351aa3c769",
   "metadata": {},
   "outputs": [],
   "source": []
  },
  {
   "cell_type": "markdown",
   "id": "19c89cee-4cfe-42df-bd37-8f160e38fa77",
   "metadata": {},
   "source": [
    "### Usando laços `while` aninhados"
   ]
  },
  {
   "cell_type": "code",
   "execution_count": 4,
   "id": "24c0f023-9548-4b66-a224-c70f7974c288",
   "metadata": {},
   "outputs": [
    {
     "name": "stdout",
     "output_type": "stream",
     "text": [
      "ANTES DO LAÇO\n",
      "0  1  2  3  4  5  6  7  8  9  \n",
      "0  1  2  3  4  5  6  7  8  9  \n",
      "0  1  2  3  4  5  6  7  8  9  \n"
     ]
    }
   ],
   "source": [
    "contador1 = 0\n",
    "print(\"ANTES DO LAÇO\")\n",
    "while contador1 < 3:\n",
    "    contador2=0\n",
    "    contador1+=1\n",
    "    while contador2 < 10:\n",
    "        print(contador2, \" \", end=\"\")\n",
    "        contador2+=1\n",
    "    print()\n"
   ]
  },
  {
   "cell_type": "markdown",
   "id": "035de18e-28f1-4a05-9bb6-99a03f131864",
   "metadata": {},
   "source": [
    "## Laços `for`"
   ]
  },
  {
   "cell_type": "code",
   "execution_count": 5,
   "id": "1809fd9d-1f33-42fd-8ad0-f88071e6323b",
   "metadata": {},
   "outputs": [
    {
     "name": "stdout",
     "output_type": "stream",
     "text": [
      "ANTES DO LAÇO\n",
      "0  1  2  3  4  5  6  7  8  9  \n"
     ]
    }
   ],
   "source": [
    "print(\"ANTES DO LAÇO\")\n",
    "for i in range(10):\n",
    "    print(i, \" \", end=\"\")\n",
    "print()"
   ]
  },
  {
   "cell_type": "code",
   "execution_count": 6,
   "id": "7987590c",
   "metadata": {},
   "outputs": [
    {
     "name": "stdout",
     "output_type": "stream",
     "text": [
      "ANTES DO LAÇO\n",
      "2  3  4  5  6  7  8  9  \n"
     ]
    }
   ],
   "source": [
    "print(\"ANTES DO LAÇO\")\n",
    "for i in range(2, 10):\n",
    "    print(i, \" \", end=\"\")\n",
    "print()"
   ]
  },
  {
   "cell_type": "markdown",
   "id": "f66cb6d1-f87c-40ec-a141-f559718984ff",
   "metadata": {},
   "source": [
    "### Listas"
   ]
  },
  {
   "cell_type": "code",
   "execution_count": 8,
   "id": "548c6470-3e8e-4cb0-939e-5d9260a1da34",
   "metadata": {},
   "outputs": [
    {
     "name": "stdout",
     "output_type": "stream",
     "text": [
      "ANTES DO LAÇO\n",
      "0  1  2  3  4  5  \n"
     ]
    }
   ],
   "source": [
    "print(\"ANTES DO LAÇO\")\n",
    "lista = [0,1,2,3,4,5]\n",
    "for i in lista:\n",
    "    print(i, \" \", end=\"\")\n",
    "print()"
   ]
  },
  {
   "cell_type": "code",
   "execution_count": 9,
   "id": "992a7b4b",
   "metadata": {},
   "outputs": [
    {
     "name": "stdout",
     "output_type": "stream",
     "text": [
      "ANTES DO LAÇO\n",
      "ZERO  UM  DOIS  \n"
     ]
    }
   ],
   "source": [
    "print(\"ANTES DO LAÇO\")\n",
    "lista = [\"ZERO\", \"UM\", \"DOIS\"]\n",
    "for i in lista:\n",
    "    print(i, \" \", end=\"\")\n",
    "print()"
   ]
  },
  {
   "cell_type": "markdown",
   "id": "16ebe6ab-0b3b-4d86-b2bd-8d07b0edadef",
   "metadata": {},
   "source": [
    "### Usando `pass`"
   ]
  },
  {
   "cell_type": "code",
   "execution_count": 10,
   "id": "d0b7c823-d4dc-4b87-b7a2-fc2119fd64eb",
   "metadata": {},
   "outputs": [
    {
     "name": "stdout",
     "output_type": "stream",
     "text": [
      "ANTES DO LAÇO\n",
      "\n"
     ]
    }
   ],
   "source": [
    "print(\"ANTES DO LAÇO\")\n",
    "for i in range(10):\n",
    "    pass\n",
    "print()"
   ]
  },
  {
   "cell_type": "markdown",
   "id": "103e40da-373d-430c-ba12-db2a0873fd17",
   "metadata": {},
   "source": [
    "### Laços anônimos"
   ]
  },
  {
   "cell_type": "code",
   "execution_count": 11,
   "id": "5533de92-9a73-4601-b151-3b9983f9c914",
   "metadata": {},
   "outputs": [
    {
     "name": "stdout",
     "output_type": "stream",
     "text": [
      "ANTES DO LAÇO\n",
      "== == == == == == == == == == == == == == == == == == == == \n"
     ]
    }
   ],
   "source": [
    "print(\"ANTES DO LAÇO\")\n",
    "for _ in range(20):\n",
    "    print(\"== \", end=\"\")\n",
    "print()"
   ]
  },
  {
   "cell_type": "markdown",
   "id": "be0725f3-4366-4639-a8fc-ef8120b42b5d",
   "metadata": {},
   "source": [
    "### Usando `break`"
   ]
  },
  {
   "cell_type": "code",
   "execution_count": 12,
   "id": "a078edd6-8ed3-4934-8f4a-7ee50aae2c95",
   "metadata": {},
   "outputs": [
    {
     "name": "stdout",
     "output_type": "stream",
     "text": [
      "ANTES DO LAÇO\n",
      "0  1  2  3  \n"
     ]
    }
   ],
   "source": [
    "print(\"ANTES DO LAÇO\")\n",
    "for i in range(20):\n",
    "    if i==4:\n",
    "        break\n",
    "    print(i,\" \", end=\"\")\n",
    "print()"
   ]
  },
  {
   "cell_type": "markdown",
   "id": "29e56978-9320-4749-b420-e6f203c54307",
   "metadata": {},
   "source": [
    "### Usando `continue`"
   ]
  },
  {
   "cell_type": "code",
   "execution_count": 13,
   "id": "1b5409ff-3a6f-4353-abd2-bf0d5cd9429d",
   "metadata": {},
   "outputs": [
    {
     "name": "stdout",
     "output_type": "stream",
     "text": [
      "ANTES DO LAÇO\n",
      "0  1  2  3  5  6  7  8  9  10  11  12  13  14  15  16  17  18  19  \n"
     ]
    }
   ],
   "source": [
    "print(\"ANTES DO LAÇO\")\n",
    "for i in range(20):\n",
    "    if i==4:\n",
    "        continue\n",
    "    print(i,\" \", end=\"\")\n",
    "print()"
   ]
  },
  {
   "cell_type": "markdown",
   "id": "a17a1abf-0b2a-4652-ab2c-1c04378e833d",
   "metadata": {},
   "source": [
    "### Usando `else`"
   ]
  },
  {
   "cell_type": "code",
   "execution_count": 14,
   "id": "56c1bf5e-1e91-40f9-8c04-ce15d5e8ddc4",
   "metadata": {},
   "outputs": [
    {
     "name": "stdout",
     "output_type": "stream",
     "text": [
      "ANTES DO LAÇO\n",
      "0  1  2  3  4  5  6  7  8  9  10  11  12  13  14  15  16  17  18  19  \n",
      "Oi\n",
      "DEPOIS DOS LAÇOS\n"
     ]
    }
   ],
   "source": [
    "print(\"ANTES DO LAÇO\")\n",
    "for i in range(20):\n",
    "  print(i, \" \", end=\"\")\n",
    "else:\n",
    "    print()\n",
    "    print(\"Oi\")\n",
    "print(\"DEPOIS DOS LAÇOS\")"
   ]
  },
  {
   "cell_type": "markdown",
   "id": "cf8c5adb-b04c-4676-a900-1ddef84ffffa",
   "metadata": {},
   "source": [
    "### Usando laços `for` aninhados"
   ]
  },
  {
   "cell_type": "code",
   "execution_count": 16,
   "id": "76baf554-3f45-4022-9053-7928b89dd4a3",
   "metadata": {},
   "outputs": [
    {
     "ename": "IndentationError",
     "evalue": "unindent does not match any outer indentation level (<tokenize>, line 4)",
     "output_type": "error",
     "traceback": [
      "\u001b[1;36m  File \u001b[1;32m\"<tokenize>\"\u001b[1;36m, line \u001b[1;32m4\u001b[0m\n\u001b[1;33m    print(i, \" \", end=\"\")\u001b[0m\n\u001b[1;37m    ^\u001b[0m\n\u001b[1;31mIndentationError\u001b[0m\u001b[1;31m:\u001b[0m unindent does not match any outer indentation level\n"
     ]
    }
   ],
   "source": [
    "print(\"ANTES DO LAÇO\")\n",
    "for j in range(3):\n",
    "    for i in range(10):\n",
    "  print(i, \" \", end=\"\")\n",
    "    print()\n",
    "print(\"DEPOIS DOS LAÇOS\")"
   ]
  },
  {
   "cell_type": "markdown",
   "id": "3a1e3b09-8993-400b-b23c-b83d147dd45c",
   "metadata": {},
   "source": [
    "# Exercícios de Fixação sobre Laços"
   ]
  },
  {
   "cell_type": "markdown",
   "id": "c9a3573e-dfa1-4956-82a6-7d10ae4b2867",
   "metadata": {},
   "source": [
    "1. Escreva um programa que calcula os números primos em um intervalo de 1 até o número especificado pelo usuário (dica: laços `for`):\n",
    "    - Ler do usuário um número inteiro.\n",
    "    - Se o usuário colocar um número menor que 2, mostre uma mensagem de erro.\n",
    "    - Teste cada um dos número deste intervalo e mostre na tela apenas se o número for primo."
   ]
  },
  {
   "cell_type": "code",
   "execution_count": null,
   "id": "6afe477e-d08c-483d-b5ef-dbc2c41e63d0",
   "metadata": {},
   "outputs": [],
   "source": []
  },
  {
   "cell_type": "markdown",
   "id": "45edc488-de0a-4ab0-8e3a-279077e79ad7",
   "metadata": {},
   "source": [
    "2. Calcule o fatorial de um número (dica: laços `while`)\n",
    "    - Ler do usuário um número.\n",
    "    - Testar se o número é menor que zero para mostrar uma mensagem de erro, pois não é possível o cálculo.\n",
    "    - Testar se o número é zero para mostrar 1.\n",
    "    - Se não for nenhuma destas opções, você pode usar o laço para calcular e mostrar o resultado."
   ]
  },
  {
   "cell_type": "code",
   "execution_count": null,
   "id": "20d35bcb-d434-4c5f-9a28-07d20597aa80",
   "metadata": {},
   "outputs": [],
   "source": []
  }
 ],
 "metadata": {
  "kernelspec": {
   "display_name": "Python 3",
   "language": "python",
   "name": "python3"
  },
  "language_info": {
   "codemirror_mode": {
    "name": "ipython",
    "version": 3
   },
   "file_extension": ".py",
   "mimetype": "text/x-python",
   "name": "python",
   "nbconvert_exporter": "python",
   "pygments_lexer": "ipython3",
   "version": "3.9.6"
  }
 },
 "nbformat": 4,
 "nbformat_minor": 5
}
