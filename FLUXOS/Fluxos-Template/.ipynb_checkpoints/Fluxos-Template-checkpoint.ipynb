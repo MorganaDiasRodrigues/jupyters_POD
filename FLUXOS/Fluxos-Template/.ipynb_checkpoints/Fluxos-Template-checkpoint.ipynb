{
 "cells": [
  {
   "cell_type": "markdown",
   "id": "e9c15469-c7dc-4db3-a9d5-d9e5aa5ff31c",
   "metadata": {},
   "source": [
    "# [Prof. Dalvan Griebler](mailto:dalvan.griebler@pucrs.br)\n",
    "\n",
    "## Programação Orientada a Dados (POD) - Turma 10 (POD_98H04-06)\n",
    "\n",
    "**Atualizado**: 22/08/2021\n",
    "\n",
    "**Descrição**: Material de apoio as aulas sobre Python para POD\n",
    "\n",
    "**Copyright &copy;**: Este documento está sob a licensa da Criative Commons [BY-NC-ND 4.0](https://creativecommons.org/licenses/by-nc-nd/4.0/legalcode)"
   ]
  },
  {
   "cell_type": "markdown",
   "id": "ccd41ed4-63ce-4635-a26a-303324057502",
   "metadata": {},
   "source": [
    "# Controle de Fluxo em Python"
   ]
  },
  {
   "cell_type": "markdown",
   "id": "69f7759a-589b-4d2a-884e-ffebf126b184",
   "metadata": {},
   "source": [
    "## Condição `if`"
   ]
  },
  {
   "cell_type": "code",
   "execution_count": null,
   "id": "792384cf-4737-461a-a107-5599c3cc2319",
   "metadata": {},
   "outputs": [],
   "source": [
    "  num = int(input(\"DIGITE UM NÚMERO: \"))\n",
    "    if num < 0"
   ]
  },
  {
   "cell_type": "markdown",
   "id": "57db04dc-e810-40f3-b8a7-b337e732468d",
   "metadata": {},
   "source": [
    "## Condições `if` e `else`"
   ]
  },
  {
   "cell_type": "code",
   "execution_count": null,
   "id": "8a9fc1d0-8d7d-4986-b095-47e7689c7703",
   "metadata": {},
   "outputs": [],
   "source": []
  },
  {
   "cell_type": "markdown",
   "id": "604cd08b-6a2d-4a1a-ac5d-aaa4d29b1b25",
   "metadata": {},
   "source": [
    "## Condições `elif`"
   ]
  },
  {
   "cell_type": "code",
   "execution_count": null,
   "id": "445a6fdf-2e25-46a4-b77d-b84e66041966",
   "metadata": {},
   "outputs": [],
   "source": []
  },
  {
   "cell_type": "markdown",
   "id": "3e678d53-a667-4d50-9088-9d754769e5ed",
   "metadata": {},
   "source": [
    "## Aninhamento de condições"
   ]
  },
  {
   "cell_type": "code",
   "execution_count": null,
   "id": "2fb42c0b-d006-48de-8759-b5966f341feb",
   "metadata": {},
   "outputs": [],
   "source": [
    "    "
   ]
  },
  {
   "cell_type": "markdown",
   "id": "c31b3c35-919e-4581-8f21-77d7da0c20c7",
   "metadata": {},
   "source": [
    "## Expressões"
   ]
  },
  {
   "cell_type": "code",
   "execution_count": null,
   "id": "007833d7-9d64-45d1-a30e-e5d62ee497ea",
   "metadata": {},
   "outputs": [],
   "source": []
  },
  {
   "cell_type": "markdown",
   "id": "d0eb13b8-e20e-48b3-9869-a3ee518b1335",
   "metadata": {},
   "source": [
    "# Exercícios de Fixação sobre Fluxos de Controle"
   ]
  },
  {
   "cell_type": "markdown",
   "id": "6636bda3-c341-4747-a6d1-95da5a7e7cdf",
   "metadata": {},
   "source": [
    "1. Verifique se um número é positivo ou negativo e se é zero\n",
    "    - Ler um número digitado pelo usuário\n",
    "    - Testar se é positivo ou negativo\n",
    "    - Testar se é zero\n",
    "    - Mostrar na tela o resultado (se é positivo, negativo ou zero)\n"
   ]
  },
  {
   "cell_type": "code",
   "execution_count": null,
   "id": "7fe92ad4-b6cb-4dec-ab31-3bd03b031195",
   "metadata": {},
   "outputs": [],
   "source": []
  },
  {
   "cell_type": "markdown",
   "id": "bccc249e-9ced-4029-8d1e-c1c3b4bd134e",
   "metadata": {},
   "source": [
    "2. Verifique se um número é par ou ímpar\n",
    "    - Ler um número digitado pelo usuário\n",
    "    - Testar se ele é par ou ímpar\n",
    "    - Mostrar na tela o resultado\n"
   ]
  },
  {
   "cell_type": "code",
   "execution_count": null,
   "id": "3de8b76a-f5a6-4ad2-9dd7-8ea9673063f6",
   "metadata": {},
   "outputs": [],
   "source": []
  }
 ],
 "metadata": {
  "kernelspec": {
   "display_name": "Python 3",
   "language": "python",
   "name": "python3"
  },
  "language_info": {
   "codemirror_mode": {
    "name": "ipython",
    "version": 3
   },
   "file_extension": ".py",
   "mimetype": "text/x-python",
   "name": "python",
   "nbconvert_exporter": "python",
   "pygments_lexer": "ipython3",
   "version": "3.9.6"
  }
 },
 "nbformat": 4,
 "nbformat_minor": 5
}
