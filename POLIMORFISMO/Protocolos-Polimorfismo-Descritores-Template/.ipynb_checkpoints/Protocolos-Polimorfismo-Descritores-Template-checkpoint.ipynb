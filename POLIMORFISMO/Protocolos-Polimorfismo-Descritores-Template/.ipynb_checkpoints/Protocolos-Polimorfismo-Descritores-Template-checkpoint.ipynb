{
 "cells": [
  {
   "cell_type": "markdown",
   "id": "e546f5c8",
   "metadata": {},
   "source": [
    "# [Prof. Dalvan Griebler](mailto:dalvan.griebler@pucrs.br)\n",
    "\n",
    "## Programação Orientada a Dados (POD) - Turma 10 (POD_98H04-06)\n",
    "\n",
    "**Atualizado**: 15/09/2021\n",
    "\n",
    "**Descrição**: Material de apoio as aulas sobre Python para POD\n",
    "\n",
    "**Copyright &copy;**: Este documento está sob a licensa da Criative Commons [BY-NC-ND 4.0](https://creativecommons.org/licenses/by-nc-nd/4.0/legalcode)"
   ]
  },
  {
   "cell_type": "markdown",
   "id": "907f6acb",
   "metadata": {},
   "source": [
    "# Protocolos, Polimorfismo e Descritores em Python"
   ]
  },
  {
   "cell_type": "code",
   "execution_count": 3,
   "id": "46e43145",
   "metadata": {},
   "outputs": [
    {
     "name": "stdout",
     "output_type": "stream",
     "text": [
      "9.58\n"
     ]
    }
   ],
   "source": [
    "class Calculadora:\n",
    "    def add(self, x, y):\n",
    "        return x + y\n",
    "    \n",
    "c = Calculadora()\n",
    "print(c.add(4.58, 5))"
   ]
  },
  {
   "cell_type": "markdown",
   "id": "ad71b39a",
   "metadata": {},
   "source": [
    "## Protocolos"
   ]
  },
  {
   "cell_type": "code",
   "execution_count": null,
   "id": "c55c5fa8",
   "metadata": {},
   "outputs": [],
   "source": []
  },
  {
   "cell_type": "markdown",
   "id": "c313be3f",
   "metadata": {},
   "source": [
    "## Polimorfismo"
   ]
  },
  {
   "cell_type": "code",
   "execution_count": null,
   "id": "a1ef362c",
   "metadata": {},
   "outputs": [],
   "source": []
  },
  {
   "cell_type": "markdown",
   "id": "8e5d3890",
   "metadata": {},
   "source": [
    "## Protocolo Descritor"
   ]
  },
  {
   "cell_type": "code",
   "execution_count": null,
   "id": "916b83e9",
   "metadata": {},
   "outputs": [],
   "source": []
  },
  {
   "cell_type": "markdown",
   "id": "f9f63f15",
   "metadata": {},
   "source": [
    "# Exercício de Fixação: Conta Bancária (Cont-7)"
   ]
  },
  {
   "cell_type": "markdown",
   "id": "f909070d",
   "metadata": {},
   "source": [
    "O objetivo é implementar o protocolo de gerenciamento de contexto.\n",
    "- Modifique a classe `ContaBancaria` para permitir este protocolo\n",
    "- Note que estes métodos especiais implementados serão herdados pelas subclasses `ContaCorrente`, `ContaInvestimento`, `ContaPoupanca`.\n",
    "- Exemplo de teste:\n",
    "```python\n",
    "with ContaCorrente(\"343\", \"Ceatano\", 20.50, 115.50) as c:\n",
    "\tc.deposito(20.30)\n",
    "\tc.saque(15.20)\n",
    "\tprint(c.saldo)\n",
    "```"
   ]
  },
  {
   "cell_type": "code",
   "execution_count": null,
   "id": "fabaadc2",
   "metadata": {},
   "outputs": [],
   "source": []
  }
 ],
 "metadata": {
  "kernelspec": {
   "display_name": "Python 3",
   "language": "python",
   "name": "python3"
  },
  "language_info": {
   "codemirror_mode": {
    "name": "ipython",
    "version": 3
   },
   "file_extension": ".py",
   "mimetype": "text/x-python",
   "name": "python",
   "nbconvert_exporter": "python",
   "pygments_lexer": "ipython3",
   "version": "3.9.6"
  }
 },
 "nbformat": 4,
 "nbformat_minor": 5
}
