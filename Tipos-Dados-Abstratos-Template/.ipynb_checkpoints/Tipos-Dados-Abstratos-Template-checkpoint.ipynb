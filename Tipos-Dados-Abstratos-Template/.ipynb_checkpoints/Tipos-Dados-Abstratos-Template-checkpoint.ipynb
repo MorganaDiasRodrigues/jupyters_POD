{
 "cells": [
  {
   "cell_type": "markdown",
   "id": "cb01325f",
   "metadata": {},
   "source": [
    "# [Prof. Dalvan Griebler](mailto:dalvan.griebler@pucrs.br)\n",
    "\n",
    "## Programação Orientada a Dados (POD) - Turma 10 (POD_98H04-06)\n",
    "\n",
    "**Atualizado**: 25/09/2021\n",
    "\n",
    "**Descrição**: Material de apoio as aulas sobre Python para POD\n",
    "\n",
    "**Copyright &copy;**: Este documento está sob a licensa da Criative Commons [BY-NC-ND 4.0](https://creativecommons.org/licenses/by-nc-nd/4.0/legalcode)"
   ]
  },
  {
   "cell_type": "markdown",
   "id": "e30a64e1",
   "metadata": {},
   "source": [
    "# Tipos Abstratos em Python"
   ]
  },
  {
   "cell_type": "markdown",
   "id": "55226043",
   "metadata": {},
   "source": [
    "## Filas"
   ]
  },
  {
   "cell_type": "code",
   "execution_count": 4,
   "id": "45665f50",
   "metadata": {},
   "outputs": [
    {
     "name": "stdout",
     "output_type": "stream",
     "text": [
      "['e1', 'e2', 'e3', 'e4']\n"
     ]
    }
   ],
   "source": [
    "fila = list()\n",
    "fila.append('e1')\n",
    "fila.append('e2')\n",
    "fila.append('e3')\n",
    "fila.append('e4')\n",
    "print(fila)"
   ]
  },
  {
   "cell_type": "markdown",
   "id": "81499cc8",
   "metadata": {},
   "source": [
    "### Classe que implementa uma fila"
   ]
  },
  {
   "cell_type": "code",
   "execution_count": null,
   "id": "1eb50123",
   "metadata": {},
   "outputs": [],
   "source": [
    "class Fila():\n",
    "    def "
   ]
  },
  {
   "cell_type": "markdown",
   "id": "cfda5c09",
   "metadata": {},
   "source": [
    "## Pilhas"
   ]
  },
  {
   "cell_type": "code",
   "execution_count": null,
   "id": "0207fef9",
   "metadata": {},
   "outputs": [],
   "source": []
  },
  {
   "cell_type": "markdown",
   "id": "f46e4d7d",
   "metadata": {},
   "source": [
    "### Classe que implementa uma pilha"
   ]
  },
  {
   "cell_type": "code",
   "execution_count": null,
   "id": "df8ad0b4",
   "metadata": {},
   "outputs": [],
   "source": []
  }
 ],
 "metadata": {
  "kernelspec": {
   "display_name": "Python 3",
   "language": "python",
   "name": "python3"
  },
  "language_info": {
   "codemirror_mode": {
    "name": "ipython",
    "version": 3
   },
   "file_extension": ".py",
   "mimetype": "text/x-python",
   "name": "python",
   "nbconvert_exporter": "python",
   "pygments_lexer": "ipython3",
   "version": "3.9.6"
  }
 },
 "nbformat": 4,
 "nbformat_minor": 5
}
