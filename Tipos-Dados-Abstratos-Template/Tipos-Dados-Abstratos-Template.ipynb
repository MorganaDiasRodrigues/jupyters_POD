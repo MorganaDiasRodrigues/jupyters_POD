{
 "cells": [
  {
   "cell_type": "markdown",
   "id": "cb01325f",
   "metadata": {},
   "source": [
    "# [Prof. Dalvan Griebler](mailto:dalvan.griebler@pucrs.br)\n",
    "\n",
    "## Programação Orientada a Dados (POD) - Turma 10 (POD_98H04-06)\n",
    "\n",
    "**Atualizado**: 25/09/2021\n",
    "\n",
    "**Descrição**: Material de apoio as aulas sobre Python para POD\n",
    "\n",
    "**Copyright &copy;**: Este documento está sob a licensa da Criative Commons [BY-NC-ND 4.0](https://creativecommons.org/licenses/by-nc-nd/4.0/legalcode)"
   ]
  },
  {
   "cell_type": "markdown",
   "id": "e30a64e1",
   "metadata": {},
   "source": [
    "# Tipos Abstratos em Python"
   ]
  },
  {
   "cell_type": "markdown",
   "id": "55226043",
   "metadata": {},
   "source": [
    "## Filas"
   ]
  },
  {
   "cell_type": "code",
   "execution_count": 4,
   "id": "45665f50",
   "metadata": {},
   "outputs": [
    {
     "name": "stdout",
     "output_type": "stream",
     "text": [
      "['e1', 'e2', 'e3', 'e4']\n"
     ]
    }
   ],
   "source": [
    "fila = list()\n",
    "fila.append('e1')\n",
    "fila.append('e2')\n",
    "fila.append('e3')\n",
    "fila.append('e4')\n",
    "print(fila)"
   ]
  },
  {
   "cell_type": "markdown",
   "id": "81499cc8",
   "metadata": {},
   "source": [
    "### Classe que implementa uma fila"
   ]
  },
  {
   "cell_type": "code",
   "execution_count": 51,
   "id": "1eb50123",
   "metadata": {},
   "outputs": [
    {
     "name": "stdout",
     "output_type": "stream",
     "text": [
      "Fila: ['elemento1', 'elemento2', 'elemento3']\n",
      "elemento1\n"
     ]
    }
   ],
   "source": [
    "class Fila():\n",
    "    def __init__(self):\n",
    "        self.__fila = []\n",
    "        \n",
    "        \n",
    "    def enqueue(self, elemento):\n",
    "        self.__fila.append(elemento)\n",
    "        \n",
    "        \n",
    "    def dequeue():\n",
    "        self.__fila.pop(0)\n",
    "        \n",
    "        \n",
    "    def peek(self):\n",
    "        return self.__fila[0]\n",
    "    \n",
    "    def __len__(self):\n",
    "        return len(self.__fila)\n",
    "\n",
    "\n",
    "    def is_empty():\n",
    "        item = 0\n",
    "        for item in self.__fila:\n",
    "            item += 1\n",
    "            if item > 0:\n",
    "                return False\n",
    "            else:\n",
    "                return True\n",
    "            \n",
    "    def __str__(self):\n",
    "        return \"Fila: \" + str(self.__fila)\n",
    "            \n",
    "        \n",
    "        \n",
    "        \n",
    "f = Fila()\n",
    "f.enqueue(\"elemento1\")\n",
    "f.enqueue(\"elemento2\")\n",
    "f.enqueue(\"elemento3\")\n",
    "print(f)\n",
    "print(f.peek())"
   ]
  },
  {
   "cell_type": "markdown",
   "id": "cfda5c09",
   "metadata": {},
   "source": [
    "## Pilhas"
   ]
  },
  {
   "cell_type": "code",
   "execution_count": null,
   "id": "0207fef9",
   "metadata": {},
   "outputs": [],
   "source": []
  },
  {
   "cell_type": "markdown",
   "id": "f46e4d7d",
   "metadata": {},
   "source": [
    "### Classe que implementa uma pilha"
   ]
  },
  {
   "cell_type": "code",
   "execution_count": null,
   "id": "df8ad0b4",
   "metadata": {},
   "outputs": [],
   "source": []
  },
  {
   "cell_type": "code",
   "execution_count": null,
   "id": "344d23ea",
   "metadata": {},
   "outputs": [],
   "source": []
  },
  {
   "cell_type": "code",
   "execution_count": null,
   "id": "1e062ffc",
   "metadata": {},
   "outputs": [],
   "source": []
  },
  {
   "cell_type": "code",
   "execution_count": null,
   "id": "5ae5fa7f",
   "metadata": {},
   "outputs": [],
   "source": []
  },
  {
   "cell_type": "code",
   "execution_count": null,
   "id": "e6b9d09e",
   "metadata": {},
   "outputs": [],
   "source": []
  },
  {
   "cell_type": "code",
   "execution_count": null,
   "id": "5ba2c8ab",
   "metadata": {},
   "outputs": [],
   "source": []
  },
  {
   "cell_type": "code",
   "execution_count": null,
   "id": "1a3c7909",
   "metadata": {},
   "outputs": [],
   "source": []
  },
  {
   "cell_type": "code",
   "execution_count": null,
   "id": "5f50326d",
   "metadata": {},
   "outputs": [],
   "source": []
  },
  {
   "cell_type": "code",
   "execution_count": null,
   "id": "4f92540b",
   "metadata": {},
   "outputs": [],
   "source": []
  }
 ],
 "metadata": {
  "kernelspec": {
   "display_name": "Python 3",
   "language": "python",
   "name": "python3"
  },
  "language_info": {
   "codemirror_mode": {
    "name": "ipython",
    "version": 3
   },
   "file_extension": ".py",
   "mimetype": "text/x-python",
   "name": "python",
   "nbconvert_exporter": "python",
   "pygments_lexer": "ipython3",
   "version": "3.9.6"
  }
 },
 "nbformat": 4,
 "nbformat_minor": 5
}
