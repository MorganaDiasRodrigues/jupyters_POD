{
 "cells": [
  {
   "cell_type": "markdown",
   "id": "d3b155c2",
   "metadata": {
    "deletable": false,
    "editable": false,
    "tags": []
   },
   "source": [
    "# [Prof. Dalvan Griebler](mailto:dalvan.griebler@pucrs.br)\n",
    "\n",
    "## Programação Orientada a Dados (POD) - Turma 10 (POD_98H04-06)\n",
    "\n",
    "**Atualizado**: 03/09/2021\n",
    "\n",
    "**Descrição**: Trabalho em Grupo: operadores e estruturas sintáticas para programação orientada a dados\n",
    "\n",
    "**Referência**: Adaptação da lista de exercícios do Prof. Felipe Meneguzzi (PUCRS).\n",
    "\n",
    "**Copyright &copy;**: Este documento está sob a licensa da Criative Commons [BY-NC-ND 4.0](https://creativecommons.org/licenses/by-nc-nd/4.0/legalcode)"
   ]
  },
  {
   "cell_type": "markdown",
   "id": "642e4c99",
   "metadata": {
    "deletable": false,
    "editable": false,
    "tags": []
   },
   "source": [
    "**_Obs: só use funções e rotinas que foram autorizadas. Caso contrário, a solução será considerada errada!_**"
   ]
  },
  {
   "cell_type": "markdown",
   "id": "a564ed3a",
   "metadata": {
    "deletable": false,
    "editable": false,
    "tags": []
   },
   "source": [
    "## Trabalho realizado por:"
   ]
  },
  {
   "cell_type": "markdown",
   "id": "76ae57f7",
   "metadata": {
    "deletable": false,
    "tags": []
   },
   "source": [
    "- Morgana Rodrigues\n",
    "- Pedro Pagnussat\n",
    "- Giuliano Barbosa"
   ]
  },
  {
   "cell_type": "markdown",
   "id": "0a6d3d9c",
   "metadata": {
    "deletable": false,
    "editable": false,
    "tags": []
   },
   "source": [
    "1. Conhecendo-se um valor em reais, deve-se determinar a menor quantidade de notas de 100, 50, 10, 5 e 1 a serem usadas para pagar este valor."
   ]
  },
  {
   "cell_type": "code",
   "execution_count": 103,
   "id": "f75560e8",
   "metadata": {
    "deletable": false,
    "tags": []
   },
   "outputs": [
    {
     "name": "stdout",
     "output_type": "stream",
     "text": [
      "Serão nescessaria: 34 de 100, 0 de 50, 2 de 10, 0 de 5, 1 de 1\n"
     ]
    }
   ],
   "source": [
    "nota100 = notas50 = notas10 = notas5 = notas1 = 0\n",
    "valor = 3421\n",
    "\n",
    "nota100 = int(valor / 100)\n",
    "valor -= nota100 * 100\n",
    "\n",
    "nota50 = int(valor / 50)\n",
    "valor -= nota50 * 50\n",
    "\n",
    "nota10 = int(valor / 10)\n",
    "valor -= nota10 * 10\n",
    "\n",
    "nota5 = int(valor / 5)\n",
    "valor -= nota5 * 5 \n",
    "\n",
    "nota1 = int(valor / 1)\n",
    "valor -= nota1 * 1\n",
    "\n",
    "print(\"Serão nescessaria:\", nota100, \"de 100,\", nota50, \"de 50,\", nota10, \"de 10,\", nota5, \"de 5,\", nota1, \"de 1\")"
   ]
  },
  {
   "cell_type": "markdown",
   "id": "7d60f2a2",
   "metadata": {
    "deletable": false,
    "editable": false,
    "tags": []
   },
   "source": [
    "2. O índice de massa corporal de uma pessoa pode ser calculado dividindo-se seu peso (em kgs) pelo quadrado da altura (em métros). Escreva um programa que faz este cálculo a partir do peso e altura informados e informe a situação do usuário em relação a seu peso (abaixo, ideal, acima etc).\n",
    "\n",
    "IMC    | Classificação\n",
    ":----: | :-------------\n",
    "abaixo de 18.5 | abaixo do peso\n",
    "entre 18.6 e 24.9 | Peso ideal\n",
    "entre 25.0 e 29.9 | Sobrepeso\n",
    "entre 30.0 e 34.9 | Obesidade grau I\n",
    "entre 35.0 e 39.9 | Obesidade grau II (severa)\n",
    "acima de 40.0     | Obesidade grau III (mórbida)\n",
    " "
   ]
  },
  {
   "cell_type": "code",
   "execution_count": 105,
   "id": "6e91f0fe",
   "metadata": {
    "deletable": false,
    "tags": []
   },
   "outputs": [
    {
     "name": "stdout",
     "output_type": "stream",
     "text": [
      "Insira o peso em KGS, com o separador deciamal: 62.5\n",
      "Insira a altura em METROS, com o separador deciamal: 1.65\n",
      "Peso ideal\n"
     ]
    }
   ],
   "source": [
    "kgs = float(input(\"Insira o peso em KGS, com o separador deciamal: \"))\n",
    "altura = float(input(\"Insira a altura em METROS, com o separador deciamal: \"))\n",
    "\n",
    "imc = kgs / (altura ** 2)\n",
    "\n",
    "if imc >= 40: print('Obesidade grau III (mórbida)')\n",
    "elif imc >= 35: print('Obesidade grau II (severa)')\n",
    "elif imc >= 30: print('Obesidade grau I')\n",
    "elif imc >= 25: print(\"Sobre peso\")\n",
    "elif imc > 18.6: print(\"Peso ideal\")\n",
    "else: print(\"Abaixo do peso\")"
   ]
  },
  {
   "cell_type": "markdown",
   "id": "3ed443b8",
   "metadata": {
    "deletable": false,
    "editable": false,
    "tags": []
   },
   "source": [
    "3. Dado que se informam $3$ valores inteiros, verificar se eles formam os lados de um triangulo retângulo."
   ]
  },
  {
   "cell_type": "code",
   "execution_count": 106,
   "id": "d209c447",
   "metadata": {
    "deletable": false,
    "tags": []
   },
   "outputs": [
    {
     "name": "stdout",
     "output_type": "stream",
     "text": [
      "Insira o primeiro lado: 3\n",
      "Insira o segundo lado: 4\n",
      "Insira o terceiro lado: 5\n",
      "É um tringulo reangulo\n"
     ]
    }
   ],
   "source": [
    "lado1 = int(input(\"Insira o primeiro lado: \"))\n",
    "lado2 = int(input(\"Insira o segundo lado: \"))\n",
    "lado3 = int(input(\"Insira o terceiro lado: \"))\n",
    "maior = a = b =  0\n",
    "\n",
    "if lado1 > lado2 and lado1 > lado3:\n",
    "    maior = lado1\n",
    "    a = lado2\n",
    "    b = lado3\n",
    "    \n",
    "elif lado2 > lado1 and lado2 > lado3:\n",
    "    maior = lado2\n",
    "    a = lado1\n",
    "    b = lado2\n",
    "    \n",
    "elif lado3 > lado1 and lado3 > lado2:\n",
    "    maior = lado3\n",
    "    a = lado1\n",
    "    b = lado2\n",
    "\n",
    "if (maior ** 2) == (a **2 + b ** 2):\n",
    "        print(\"É um tringulo reangulo\")\n",
    "else: print(\"Não é um tringulo retangulo\")"
   ]
  },
  {
   "cell_type": "markdown",
   "id": "48ea241f",
   "metadata": {
    "deletable": false,
    "editable": false,
    "tags": []
   },
   "source": [
    "4. Dado que é fornecida uma quantidade de valores positivos não determinada antecipadamente (a sequencia é encerrada pelo valor $-1$), a cada valor informado deve-se fornecer a media dos valores informados até então."
   ]
  },
  {
   "cell_type": "code",
   "execution_count": 109,
   "id": "4b2ff6cf",
   "metadata": {
    "deletable": false,
    "tags": []
   },
   "outputs": [
    {
     "ename": "KeyboardInterrupt",
     "evalue": "Interrupted by user",
     "output_type": "error",
     "traceback": [
      "\u001b[1;31m---------------------------------------------------------------------------\u001b[0m",
      "\u001b[1;31mKeyboardInterrupt\u001b[0m                         Traceback (most recent call last)",
      "\u001b[1;32m~\\AppData\\Local\\Temp/ipykernel_8516/1408330716.py\u001b[0m in \u001b[0;36m<module>\u001b[1;34m\u001b[0m\n\u001b[0;32m      1\u001b[0m \u001b[0mtotal\u001b[0m \u001b[1;33m=\u001b[0m \u001b[0mcontador\u001b[0m \u001b[1;33m=\u001b[0m \u001b[1;36m0\u001b[0m\u001b[1;33m\u001b[0m\u001b[1;33m\u001b[0m\u001b[0m\n\u001b[1;32m----> 2\u001b[1;33m \u001b[0mnum\u001b[0m \u001b[1;33m=\u001b[0m \u001b[0mint\u001b[0m\u001b[1;33m(\u001b[0m\u001b[0minput\u001b[0m\u001b[1;33m(\u001b[0m\u001b[1;34m\"Digite um nuremo: \"\u001b[0m\u001b[1;33m)\u001b[0m\u001b[1;33m)\u001b[0m\u001b[1;33m\u001b[0m\u001b[1;33m\u001b[0m\u001b[0m\n\u001b[0m\u001b[0;32m      3\u001b[0m \u001b[1;32mwhile\u001b[0m\u001b[1;33m(\u001b[0m\u001b[0mnum\u001b[0m \u001b[1;33m!=\u001b[0m \u001b[1;33m-\u001b[0m\u001b[1;36m1\u001b[0m\u001b[1;33m)\u001b[0m\u001b[1;33m:\u001b[0m\u001b[1;33m\u001b[0m\u001b[1;33m\u001b[0m\u001b[0m\n\u001b[0;32m      4\u001b[0m     \u001b[0mcontador\u001b[0m \u001b[1;33m+=\u001b[0m \u001b[1;36m1\u001b[0m\u001b[1;33m\u001b[0m\u001b[1;33m\u001b[0m\u001b[0m\n\u001b[0;32m      5\u001b[0m     \u001b[0mtotal\u001b[0m \u001b[1;33m+=\u001b[0m \u001b[0mnum\u001b[0m\u001b[1;33m\u001b[0m\u001b[1;33m\u001b[0m\u001b[0m\n",
      "\u001b[1;32m~\\Anaconda3\\envs\\web_data_science\\lib\\site-packages\\ipykernel\\kernelbase.py\u001b[0m in \u001b[0;36mraw_input\u001b[1;34m(self, prompt)\u001b[0m\n\u001b[0;32m    979\u001b[0m                 \u001b[1;34m\"raw_input was called, but this frontend does not support input requests.\"\u001b[0m\u001b[1;33m\u001b[0m\u001b[1;33m\u001b[0m\u001b[0m\n\u001b[0;32m    980\u001b[0m             )\n\u001b[1;32m--> 981\u001b[1;33m         return self._input_request(\n\u001b[0m\u001b[0;32m    982\u001b[0m             \u001b[0mstr\u001b[0m\u001b[1;33m(\u001b[0m\u001b[0mprompt\u001b[0m\u001b[1;33m)\u001b[0m\u001b[1;33m,\u001b[0m\u001b[1;33m\u001b[0m\u001b[1;33m\u001b[0m\u001b[0m\n\u001b[0;32m    983\u001b[0m             \u001b[0mself\u001b[0m\u001b[1;33m.\u001b[0m\u001b[0m_parent_ident\u001b[0m\u001b[1;33m[\u001b[0m\u001b[1;34m\"shell\"\u001b[0m\u001b[1;33m]\u001b[0m\u001b[1;33m,\u001b[0m\u001b[1;33m\u001b[0m\u001b[1;33m\u001b[0m\u001b[0m\n",
      "\u001b[1;32m~\\Anaconda3\\envs\\web_data_science\\lib\\site-packages\\ipykernel\\kernelbase.py\u001b[0m in \u001b[0;36m_input_request\u001b[1;34m(self, prompt, ident, parent, password)\u001b[0m\n\u001b[0;32m   1024\u001b[0m             \u001b[1;32mexcept\u001b[0m \u001b[0mKeyboardInterrupt\u001b[0m\u001b[1;33m:\u001b[0m\u001b[1;33m\u001b[0m\u001b[1;33m\u001b[0m\u001b[0m\n\u001b[0;32m   1025\u001b[0m                 \u001b[1;31m# re-raise KeyboardInterrupt, to truncate traceback\u001b[0m\u001b[1;33m\u001b[0m\u001b[1;33m\u001b[0m\u001b[1;33m\u001b[0m\u001b[0m\n\u001b[1;32m-> 1026\u001b[1;33m                 \u001b[1;32mraise\u001b[0m \u001b[0mKeyboardInterrupt\u001b[0m\u001b[1;33m(\u001b[0m\u001b[1;34m\"Interrupted by user\"\u001b[0m\u001b[1;33m)\u001b[0m \u001b[1;32mfrom\u001b[0m \u001b[1;32mNone\u001b[0m\u001b[1;33m\u001b[0m\u001b[1;33m\u001b[0m\u001b[0m\n\u001b[0m\u001b[0;32m   1027\u001b[0m             \u001b[1;32mexcept\u001b[0m \u001b[0mException\u001b[0m\u001b[1;33m:\u001b[0m\u001b[1;33m\u001b[0m\u001b[1;33m\u001b[0m\u001b[0m\n\u001b[0;32m   1028\u001b[0m                 \u001b[0mself\u001b[0m\u001b[1;33m.\u001b[0m\u001b[0mlog\u001b[0m\u001b[1;33m.\u001b[0m\u001b[0mwarning\u001b[0m\u001b[1;33m(\u001b[0m\u001b[1;34m\"Invalid Message:\"\u001b[0m\u001b[1;33m,\u001b[0m \u001b[0mexc_info\u001b[0m\u001b[1;33m=\u001b[0m\u001b[1;32mTrue\u001b[0m\u001b[1;33m)\u001b[0m\u001b[1;33m\u001b[0m\u001b[1;33m\u001b[0m\u001b[0m\n",
      "\u001b[1;31mKeyboardInterrupt\u001b[0m: Interrupted by user"
     ]
    }
   ],
   "source": [
    "total = contador = 0\n",
    "num = int(input(\"Digite um nuremo: \"))\n",
    "while(num != -1):\n",
    "    contador += 1\n",
    "    total += num\n",
    "    media = total / contador\n",
    "    print(\"A média dos numeros informados é:\", media)\n",
    "    print(\" \")\n",
    "    num = int(input(\"Digite um nuremo: \"))"
   ]
  },
  {
   "cell_type": "markdown",
   "id": "e6b0f5d1",
   "metadata": {
    "deletable": false,
    "editable": false,
    "tags": []
   },
   "source": [
    "5. Qualquer número natural de quatro algarismos pode ser dividido em duas dezenas formadas pelos seus dois primeiros e dois últimos dígitos.\n",
    "\n",
    "Exemplos:\n",
    "\n",
    "- $1297$: $12$ e $97$.\n",
    "- $5314$: $53$ e $14$.\n",
    "\n",
    "    - Escreva um programa que imprime todos os milhares ($4$ algarismos) cuja raiz quadrada seja a soma das dezenas formadas pela divisão acima.\n",
    "\n",
    "> Exemplo: raiz de $9801 = 99 = 98 + 01$. \n",
    "\n",
    "> Portanto $9801$ é um dos números a ser impresso.\n",
    "\n",
    "_Obs: Neste exercício, você pode usar a função `math.sqrt()` para calcular a raíz ao importar a biblioteca matemática padrão do python no topo da célula de código `import math`._"
   ]
  },
  {
   "cell_type": "code",
   "execution_count": 108,
   "id": "5f382b12",
   "metadata": {
    "deletable": false,
    "tags": []
   },
   "outputs": [
    {
     "name": "stdout",
     "output_type": "stream",
     "text": [
      "2025\n",
      "3025\n",
      "9801\n"
     ]
    }
   ],
   "source": [
    "import math\n",
    "\n",
    "for num in range(1000, 10000):\n",
    "    num = str(num)\n",
    "    aux = int(num)\n",
    "    primeira = int(num[:2])\n",
    "    segunda = int(num[2:])\n",
    "    final = primeira + segunda\n",
    "    if final == math.sqrt(aux):\n",
    "        print(num)"
   ]
  },
  {
   "cell_type": "markdown",
   "id": "42a76de3",
   "metadata": {
    "deletable": false,
    "editable": false,
    "tags": []
   },
   "source": [
    "6. Escreva um programa que solicita um valor inteiro em reais ($r \\in [1;1000]$) para o usuário e o escreve por extenso.\n",
    "\n",
    "Exemplo: R\\$ 519.00 para: Quinhentos e dezenove reais."
   ]
  },
  {
   "cell_type": "code",
   "execution_count": 110,
   "id": "e120a973",
   "metadata": {
    "deletable": false,
    "tags": []
   },
   "outputs": [
    {
     "name": "stdout",
     "output_type": "stream",
     "text": [
      "DIGITE O VALOR: R$134\n",
      "CENTO E  TRINTA E QUATRO REAIS\n"
     ]
    }
   ],
   "source": [
    "valor = int(input(\"DIGITE O VALOR: R$\"))\n",
    "unidade = \"\"\n",
    "dezena = \"\"\n",
    "centena = \"\"\n",
    "milhar = \"\"\n",
    "str_valor = str(valor)\n",
    "\n",
    "if len(str_valor) == 4:\n",
    "    if str_valor[-3] == \"0\" and str_valor[-2] == \"0\" and str_valor[-1] == \"0\": #e os 3 últimos forem 0\n",
    "        milhar = \"MIL\"\n",
    "    else:\n",
    "        milhar = \"MIL E \"\n",
    "\n",
    "if len(str_valor) >= 3:\n",
    "    if str_valor[-3] == \"1\" and str_valor[-2] == \"0\" and str_valor[-1] == \"0\":\n",
    "        centena = \"CEM\"\n",
    "    elif str_valor[-3] == \"1\":\n",
    "        centena = \"CENTO E \"\n",
    "    elif str_valor[-3] == \"2\" and str_valor[-2] and str_valor[-1] == \"0\":\n",
    "        centena = \"DUZENTOS\"\n",
    "    elif str_valor[-3] == \"2\":\n",
    "        centena = \"DUZENTOS E \"\n",
    "    elif str_valor[-3] == \"3\" and str_valor[-2] and str_valor[-1] == \"0\":\n",
    "        centena = \"TREZENTOS E\"\n",
    "    elif str_valor[-3] == \"3\":\n",
    "        centena = \"TREZENTOS E \"\n",
    "    elif str_valor[-3] == \"4\" and str_valor[-2] and str_valor[-1] == \"0\":\n",
    "        centena = \"QUATROCENTOS\"\n",
    "    elif str_valor[-3] == \"4\":\n",
    "        centena = \"QUATROCENTOS E \"\n",
    "    elif str_valor[-3] == \"5\" and str_valor[-2] and str_valor[-1] == \"0\":\n",
    "        centena = \"QUINHENTOS\"\n",
    "    elif str_valor[-3] == \"5\":\n",
    "        centena = \"QUINHENTOS E \"\n",
    "    elif str_valor[-3] == \"6\" and str_valor[-2] and str_valor[-1] == \"0\":\n",
    "        centena = \"SEISCENTOS\"\n",
    "    elif str_valor[-3] == \"6\":\n",
    "        centena = \"SEISCENTOS E \"\n",
    "    elif str_valor[-3] == \"7\" and str_valor[-2] and str_valor[-1] == \"0\":\n",
    "        centena = \"SETECENTOS\"\n",
    "    elif str_valor[-3] == \"7\":\n",
    "        centena = \"SETECENTOS E \"\n",
    "    elif str_valor[-3] == \"8\" and str_valor[-2] and str_valor[-1] == \"0\":\n",
    "        centena = \"OITOCENTOS\"\n",
    "    elif str_valor[-3] == \"8\":\n",
    "        centena = \"OITOCENTOS E \"\n",
    "    elif str_valor[-3] == \"9\" and str_valor[-2] and str_valor[-1] == \"0\":\n",
    "        centena = \"NOVECENTOS\"\n",
    "    elif str_valor[-3] == \"9\":\n",
    "        centena = \"NOVECENTOS E \"\n",
    "        \n",
    "if len(str_valor) >= 2:\n",
    "    if str_valor[-2] == \"1\":\n",
    "        if str_valor[-1] == \"0\":\n",
    "            dezena = \"DEZ\"\n",
    "        elif str_valor[-1] == \"1\":\n",
    "            dezena = \"ONZE\"\n",
    "        elif str_valor[-1] == \"2\":\n",
    "            dezena = \"DOZE\"\n",
    "        elif str_valor[-1] == \"3\":\n",
    "            dezena = \"TREZE\"\n",
    "        elif str_valor[-1] == \"4\":\n",
    "            dezena = \"QUATORZE\"\n",
    "        elif str_valor[-1] == \"5\":\n",
    "            dezena = \"QUINZE\"\n",
    "        elif str_valor[-1] == \"6\":\n",
    "            dezena = \"DEZESSEIS\"\n",
    "        elif str_valor[-1] == \"7\":\n",
    "            dezena = \"DEZESSETE\"\n",
    "        elif str_valor[-1] == \"8\":\n",
    "            dezena = \"DEZOITO\"\n",
    "        elif str_valor[-1] == \"9\":\n",
    "            dezena = \"DEZENOVE\"\n",
    "    else:\n",
    "        if str_valor[-2] == \"2\" and str_valor[-1] == \"0\":\n",
    "            dezena = \"VINTE\"\n",
    "        elif str_valor[-2] == \"2\":\n",
    "            dezena = \" VINTE E\"\n",
    "        elif str_valor[-2] == \"3\" and str_valor[-1] == \"0\":\n",
    "            dezena = \"TRINTA\"\n",
    "        elif str_valor[-2] == \"3\":\n",
    "            dezena = \" TRINTA E\"\n",
    "        elif str_valor[-2] == \"4\" and str_valor[-1] == \"0\":\n",
    "            dezena = \"QUARENTA\"\n",
    "        elif str_valor[-2] == \"4\":\n",
    "            dezena = \" QUARENTA E\"\n",
    "        elif str_valor[-2] == \"5\" and str_valor[-1] == \"0\":\n",
    "            dezena = \"CINQUENTA\"\n",
    "        elif str_valor[-2] == \"5\":\n",
    "            dezena = \" CINQUENTA E\"\n",
    "        elif str_valor[-2] == \"6\" and str_valor[-1] == \"0\":\n",
    "            dezena = \"SESSENTA\"\n",
    "        elif str_valor[-2] == \"6\":\n",
    "            dezena = \" SESSENTA E\"\n",
    "        elif str_valor[-2] == \"7\" and str_valor[-1] == \"0\":\n",
    "            dezena = \"SETENTA\"\n",
    "        elif str_valor[-2] == \"7\":\n",
    "            dezena = \" SETENTA E\"\n",
    "        elif str_valor[-2] == \"8\" and str_valor[-1] == \"0\":\n",
    "            dezena = \"OITENTA\"\n",
    "        elif str_valor[-2] == \"8\":\n",
    "            dezena = \" OITENTA E\"\n",
    "        elif str_valor[-2] == \"9\" and str_valor[-1] == \"0\":\n",
    "            dezena = \"NOVENTA\"\n",
    "        elif str_valor[-2] == \"9\":\n",
    "            dezena = \" NOVENTA E\"\n",
    "if len(str_valor) > 1 and str_valor[-2] != '1':\n",
    "    if str_valor[-1] == \"1\":\n",
    "        unidade = \" UM\"\n",
    "    if str_valor[-1] == \"2\":\n",
    "        unidade = \" DOIS\"\n",
    "    if str_valor[-1] == \"3\":\n",
    "        unidade = \" TRÊS\"\n",
    "    if str_valor[-1] == \"4\":\n",
    "        unidade = \" QUATRO\"\n",
    "    if str_valor[-1] == \"5\":\n",
    "        unidade = \" CINCO\"\n",
    "    if str_valor[-1] == \"6\":\n",
    "        unidade = \" SEIS\"\n",
    "    if str_valor[-1] == \"7\":\n",
    "        unidade = \" SETE\"\n",
    "    if str_valor[-1] == \"8\":\n",
    "        unidade = \" OITO\"\n",
    "    if str_valor[-1] == \"9\":\n",
    "        unidade = \" NOVE\"\n",
    "        \n",
    "elif len(str_valor) == 1:\n",
    "    if str_valor[-1] == \"1\":\n",
    "        unidade = \" UM\"\n",
    "    if str_valor[-1] == \"2\":\n",
    "        unidade = \" DOIS\"\n",
    "    if str_valor[-1] == \"3\":\n",
    "        unidade = \" TRÊS\"\n",
    "    if str_valor[-1] == \"4\":\n",
    "        unidade = \" QUATRO\"\n",
    "    if str_valor[-1] == \"5\":\n",
    "        unidade = \" CINCO\"\n",
    "    if str_valor[-1] == \"6\":\n",
    "        unidade = \" SEIS\"\n",
    "    if str_valor[-1] == \"7\":\n",
    "        unidade = \" SETE\"\n",
    "    if str_valor[-1] == \"8\":\n",
    "        unidade = \" OITO\"\n",
    "    if str_valor[-1] == \"9\":\n",
    "        unidade = \" NOVE\"\n",
    "print(milhar + centena + dezena + unidade + \" REAIS\")"
   ]
  },
  {
   "cell_type": "markdown",
   "id": "6a7b11b9",
   "metadata": {
    "deletable": false,
    "editable": false,
    "tags": []
   },
   "source": [
    "7. $\\dagger$ Seus colegas da Biologia criaram uma bacteria que come lixo, consumindo cerca de metade de seu peso em lixo todos os dias (assume-se que uma bactéria pesa cerca de $10^{-11}$ gramas). Seus colegas tem apenas $5$ dessas bactérias, mas elas se dividem em duas todos os dias. Necessita-se montar uma tabela que apresente, a partir do primeiro dia - quando existem apenas $5$ bactérias - até dois meses depois, quantas bactérias existem até o momento e quanto lixo elas comeram naquele dia."
   ]
  },
  {
   "cell_type": "code",
   "execution_count": 1,
   "id": "8577cf2a",
   "metadata": {
    "collapsed": true,
    "deletable": false,
    "tags": []
   },
   "outputs": [
    {
     "name": "stdout",
     "output_type": "stream",
     "text": [
      "--------------------------------------------------------------------------------------\n",
      "| Dia:  0 | Numero de bacterias:                   5 | Consumo em gramas: 2.5000E-11|\n",
      "| Dia:  1 | Numero de bacterias:                  10 | Consumo em gramas: 5.0000E-11|\n",
      "| Dia:  2 | Numero de bacterias:                  20 | Consumo em gramas: 1.0000E-10|\n",
      "| Dia:  3 | Numero de bacterias:                  40 | Consumo em gramas: 2.0000E-10|\n",
      "| Dia:  4 | Numero de bacterias:                  80 | Consumo em gramas: 4.0000E-10|\n",
      "| Dia:  5 | Numero de bacterias:                 160 | Consumo em gramas: 8.0000E-10|\n",
      "| Dia:  6 | Numero de bacterias:                 320 | Consumo em gramas: 1.6000E-09|\n",
      "| Dia:  7 | Numero de bacterias:                 640 | Consumo em gramas: 3.2000E-09|\n",
      "| Dia:  8 | Numero de bacterias:                1280 | Consumo em gramas: 6.4000E-09|\n",
      "| Dia:  9 | Numero de bacterias:                2560 | Consumo em gramas: 1.2800E-08|\n",
      "| Dia: 10 | Numero de bacterias:                5120 | Consumo em gramas: 2.5600E-08|\n",
      "| Dia: 11 | Numero de bacterias:               10240 | Consumo em gramas: 5.1200E-08|\n",
      "| Dia: 12 | Numero de bacterias:               20480 | Consumo em gramas: 1.0240E-07|\n",
      "| Dia: 13 | Numero de bacterias:               40960 | Consumo em gramas: 2.0480E-07|\n",
      "| Dia: 14 | Numero de bacterias:               81920 | Consumo em gramas: 4.0960E-07|\n",
      "| Dia: 15 | Numero de bacterias:              163840 | Consumo em gramas: 8.1920E-07|\n",
      "| Dia: 16 | Numero de bacterias:              327680 | Consumo em gramas: 1.6380E-06|\n",
      "| Dia: 17 | Numero de bacterias:              655360 | Consumo em gramas: 3.2760E-06|\n",
      "| Dia: 18 | Numero de bacterias:             1310720 | Consumo em gramas: 6.5530E-06|\n",
      "| Dia: 19 | Numero de bacterias:             2621440 | Consumo em gramas: 1.3100E-05|\n",
      "| Dia: 20 | Numero de bacterias:             5242880 | Consumo em gramas: 2.6210E-05|\n",
      "| Dia: 21 | Numero de bacterias:            10485760 | Consumo em gramas: 5.2420E-05|\n",
      "| Dia: 22 | Numero de bacterias:            20971520 | Consumo em gramas: 1.0486E-04|\n",
      "| Dia: 23 | Numero de bacterias:            41943040 | Consumo em gramas: 2.0972E-04|\n",
      "| Dia: 24 | Numero de bacterias:            83886080 | Consumo em gramas: 4.1944E-04|\n",
      "| Dia: 25 | Numero de bacterias:           167772160 | Consumo em gramas: 8.3888E-04|\n",
      "| Dia: 26 | Numero de bacterias:           335544320 | Consumo em gramas: 1.6772E-03|\n",
      "| Dia: 27 | Numero de bacterias:           671088640 | Consumo em gramas: 3.3553E-03|\n",
      "| Dia: 28 | Numero de bacterias:          1342177280 | Consumo em gramas: 6.7106E-03|\n",
      "| Dia: 29 | Numero de bacterias:          2684354560 | Consumo em gramas: 1.3427E-02|\n",
      "| Dia: 30 | Numero de bacterias:          5368709120 | Consumo em gramas: 2.6845E-02|\n",
      "| Dia: 31 | Numero de bacterias:         10737418240 | Consumo em gramas: 5.3689E-02|\n",
      "| Dia: 32 | Numero de bacterias:         21474836480 | Consumo em gramas: 1.0732E-01|\n",
      "| Dia: 33 | Numero de bacterias:         42949672960 | Consumo em gramas: 2.1474E-01|\n",
      "| Dia: 34 | Numero de bacterias:         85899345920 | Consumo em gramas: 4.2947E-01|\n",
      "| Dia: 35 | Numero de bacterias:        171798691840 | Consumo em gramas: 8.5895E-01|\n",
      "| Dia: 36 | Numero de bacterias:        343597383680 | Consumo em gramas: 1.7177E+00|\n",
      "| Dia: 37 | Numero de bacterias:        687194767360 | Consumo em gramas: 3.4354E+00|\n",
      "| Dia: 38 | Numero de bacterias:       1374389534720 | Consumo em gramas: 6.8718E+00|\n",
      "| Dia: 39 | Numero de bacterias:       2748779069440 | Consumo em gramas: 1.3740E+01|\n",
      "| Dia: 40 | Numero de bacterias:       5497558138880 | Consumo em gramas: 2.7489E+01|\n",
      "| Dia: 41 | Numero de bacterias:      10995116277760 | Consumo em gramas: 5.4978E+01|\n",
      "| Dia: 42 | Numero de bacterias:      21990232555520 | Consumo em gramas: 1.0992E+02|\n",
      "| Dia: 43 | Numero de bacterias:      43980465111040 | Consumo em gramas: 2.1993E+02|\n",
      "| Dia: 44 | Numero de bacterias:      87960930222080 | Consumo em gramas: 4.3987E+02|\n",
      "| Dia: 45 | Numero de bacterias:     175921860444160 | Consumo em gramas: 8.7963E+02|\n",
      "| Dia: 46 | Numero de bacterias:     351843720888320 | Consumo em gramas: 1.7599E+03|\n",
      "| Dia: 47 | Numero de bacterias:     703687441776640 | Consumo em gramas: 3.5187E+03|\n",
      "| Dia: 48 | Numero de bacterias:    1407374883553280 | Consumo em gramas: 7.0364E+03|\n",
      "| Dia: 49 | Numero de bacterias:    2814749767106560 | Consumo em gramas: 1.4075E+04|\n",
      "| Dia: 50 | Numero de bacterias:    5629499534213120 | Consumo em gramas: 2.8140E+04|\n",
      "| Dia: 51 | Numero de bacterias:   11258999068426240 | Consumo em gramas: 5.6290E+04|\n",
      "| Dia: 52 | Numero de bacterias:   22517998136852480 | Consumo em gramas: 1.1250E+05|\n",
      "| Dia: 53 | Numero de bacterias:   45035996273704960 | Consumo em gramas: 2.2510E+05|\n",
      "| Dia: 54 | Numero de bacterias:   90071992547409920 | Consumo em gramas: 4.5030E+05|\n",
      "| Dia: 55 | Numero de bacterias:  180143985094819840 | Consumo em gramas: 9.0079E+05|\n",
      "| Dia: 56 | Numero de bacterias:  360287970189639680 | Consumo em gramas: 1.8010E+06|\n",
      "| Dia: 57 | Numero de bacterias:  720575940379279360 | Consumo em gramas: 3.6020E+06|\n",
      "| Dia: 58 | Numero de bacterias: 1441151880758558720 | Consumo em gramas: 7.2059E+06|\n",
      "| Dia: 59 | Numero de bacterias: 2882303761517117440 | Consumo em gramas: 1.4412E+07|\n",
      "| Dia: 60 | Numero de bacterias: 5764607523034234880 | Consumo em gramas: 2.8824E+07|\n",
      "--------------------------------------------------------------------------------------\n"
     ]
    }
   ],
   "source": [
    "peso = 10 ** -11\n",
    "consumo = peso / 2\n",
    "bacterias = 5\n",
    "\n",
    "print('--------------------------------------------------------------------------------------')\n",
    "for i in range(0, 61):\n",
    "    consumo = bacterias * peso/2\n",
    "    \n",
    "    fstr = f'{consumo:E}'\n",
    "    pstr = fstr[:5]\n",
    "    final = pstr + fstr[-5:]\n",
    "    \n",
    "    print(f'| Dia: {i:2} | Numero de bacterias: {bacterias:19} | Consumo em gramas: {final}|')\n",
    "    bacterias *= 2\n",
    "print('--------------------------------------------------------------------------------------')\n"
   ]
  },
  {
   "cell_type": "markdown",
   "id": "b455da9a",
   "metadata": {
    "deletable": false,
    "editable": false,
    "tags": []
   },
   "source": [
    "8. $\\dagger$ Altere o exercício $7$ supondo que as bactérias vivem apenas $5$ dias, logo deve-se descontar as bactérias mortas do total diário."
   ]
  },
  {
   "cell_type": "code",
   "execution_count": 1,
   "id": "a057af85",
   "metadata": {
    "collapsed": true,
    "deletable": false,
    "tags": []
   },
   "outputs": [
    {
     "name": "stdout",
     "output_type": "stream",
     "text": [
      "--------------------------------------------------------------------------------------\n",
      "| Dia:  1 | Numero de bacterias:                   5 | Consumo em gramas: 2.5000E-11|\n",
      "| Dia:  2 | Numero de bacterias:                  10 | Consumo em gramas: 5.0000E-11|\n",
      "| Dia:  3 | Numero de bacterias:                  20 | Consumo em gramas: 1.0000E-10|\n",
      "| Dia:  4 | Numero de bacterias:                  40 | Consumo em gramas: 2.0000E-10|\n",
      "| Dia:  5 | Numero de bacterias:                  80 | Consumo em gramas: 4.0000E-10|\n",
      "| Dia:  6 | Numero de bacterias:                 155 | Consumo em gramas: 7.7500E-10|\n",
      "| Dia:  7 | Numero de bacterias:                 300 | Consumo em gramas: 1.5000E-09|\n",
      "| Dia:  8 | Numero de bacterias:                 580 | Consumo em gramas: 2.9000E-09|\n",
      "| Dia:  9 | Numero de bacterias:                1120 | Consumo em gramas: 5.6000E-09|\n",
      "| Dia: 10 | Numero de bacterias:                2160 | Consumo em gramas: 1.0800E-08|\n",
      "| Dia: 11 | Numero de bacterias:                4165 | Consumo em gramas: 2.0820E-08|\n",
      "| Dia: 12 | Numero de bacterias:                8030 | Consumo em gramas: 4.0150E-08|\n",
      "| Dia: 13 | Numero de bacterias:               15480 | Consumo em gramas: 7.7400E-08|\n",
      "| Dia: 14 | Numero de bacterias:               29840 | Consumo em gramas: 1.4920E-07|\n",
      "| Dia: 15 | Numero de bacterias:               57520 | Consumo em gramas: 2.8760E-07|\n",
      "| Dia: 16 | Numero de bacterias:              110875 | Consumo em gramas: 5.5430E-07|\n",
      "| Dia: 17 | Numero de bacterias:              213720 | Consumo em gramas: 1.0680E-06|\n",
      "| Dia: 18 | Numero de bacterias:              411960 | Consumo em gramas: 2.0590E-06|\n",
      "| Dia: 19 | Numero de bacterias:              794080 | Consumo em gramas: 3.9700E-06|\n",
      "| Dia: 20 | Numero de bacterias:             1530640 | Consumo em gramas: 7.6530E-06|\n",
      "| Dia: 21 | Numero de bacterias:             2950405 | Consumo em gramas: 1.4752E-05|\n",
      "| Dia: 22 | Numero de bacterias:             5687090 | Consumo em gramas: 2.8435E-05|\n",
      "| Dia: 23 | Numero de bacterias:            10962220 | Consumo em gramas: 5.4810E-05|\n",
      "| Dia: 24 | Numero de bacterias:            21130360 | Consumo em gramas: 1.0568E-04|\n",
      "| Dia: 25 | Numero de bacterias:            40730080 | Consumo em gramas: 2.0364E-04|\n",
      "| Dia: 26 | Numero de bacterias:            78509755 | Consumo em gramas: 3.9258E-04|\n",
      "| Dia: 27 | Numero de bacterias:           151332420 | Consumo em gramas: 7.5661E-04|\n",
      "| Dia: 28 | Numero de bacterias:           291702620 | Consumo em gramas: 1.4583E-03|\n",
      "| Dia: 29 | Numero de bacterias:           562274880 | Consumo em gramas: 2.8114E-03|\n",
      "| Dia: 30 | Numero de bacterias:          1083819680 | Consumo em gramas: 5.4198E-03|\n",
      "| Dia: 31 | Numero de bacterias:          2089129605 | Consumo em gramas: 1.0445E-02|\n",
      "| Dia: 32 | Numero de bacterias:          4026926790 | Consumo em gramas: 2.0133E-02|\n",
      "| Dia: 33 | Numero de bacterias:          7762150960 | Consumo em gramas: 3.8815E-02|\n",
      "| Dia: 34 | Numero de bacterias:         14962027040 | Consumo em gramas: 7.4814E-02|\n",
      "| Dia: 35 | Numero de bacterias:         28840234400 | Consumo em gramas: 1.4422E-01|\n",
      "| Dia: 36 | Numero de bacterias:         55591339195 | Consumo em gramas: 2.7797E-01|\n",
      "| Dia: 37 | Numero de bacterias:        107155751600 | Consumo em gramas: 5.3578E-01|\n",
      "| Dia: 38 | Numero de bacterias:        206549352240 | Consumo em gramas: 1.0327E+00|\n",
      "| Dia: 39 | Numero de bacterias:        398136677440 | Consumo em gramas: 1.9903E+00|\n",
      "| Dia: 40 | Numero de bacterias:        767433120480 | Consumo em gramas: 3.8376E+00|\n",
      "| Dia: 41 | Numero de bacterias:       1479274901765 | Consumo em gramas: 7.3965E+00|\n",
      "| Dia: 42 | Numero de bacterias:       2851394051930 | Consumo em gramas: 1.4257E+01|\n",
      "| Dia: 43 | Numero de bacterias:       5496238751620 | Consumo em gramas: 2.7489E+01|\n",
      "| Dia: 44 | Numero de bacterias:      10594340825800 | Consumo em gramas: 5.2970E+01|\n",
      "| Dia: 45 | Numero de bacterias:      20421248531120 | Consumo em gramas: 1.0212E+02|\n",
      "| Dia: 46 | Numero de bacterias:      39363222160475 | Consumo em gramas: 1.9681E+02|\n",
      "| Dia: 47 | Numero de bacterias:      75875050269020 | Consumo em gramas: 3.7933E+02|\n",
      "| Dia: 48 | Numero de bacterias:     146253861786420 | Consumo em gramas: 7.3123E+02|\n",
      "| Dia: 49 | Numero de bacterias:     281913382747040 | Consumo em gramas: 1.4097E+03|\n",
      "| Dia: 50 | Numero de bacterias:     543405516962960 | Consumo em gramas: 2.7178E+03|\n",
      "| Dia: 51 | Numero de bacterias:    1047447811765445 | Consumo em gramas: 5.2379E+03|\n",
      "| Dia: 52 | Numero de bacterias:    2019020573261870 | Consumo em gramas: 1.0090E+04|\n",
      "| Dia: 53 | Numero de bacterias:    3891787284737320 | Consumo em gramas: 1.9454E+04|\n",
      "| Dia: 54 | Numero de bacterias:    7501661186727600 | Consumo em gramas: 3.7501E+04|\n",
      "| Dia: 55 | Numero de bacterias:   14459916856492240 | Consumo em gramas: 7.2298E+04|\n",
      "| Dia: 56 | Numero de bacterias:   27872385901219035 | Consumo em gramas: 1.3939E+05|\n",
      "| Dia: 57 | Numero de bacterias:   53725751229176200 | Consumo em gramas: 2.6868E+05|\n",
      "| Dia: 58 | Numero de bacterias:  103559715173615080 | Consumo em gramas: 5.1776E+05|\n",
      "| Dia: 59 | Numero de bacterias:  199617769160502560 | Consumo em gramas: 9.9808E+05|\n",
      "| Dia: 60 | Numero de bacterias:  384775621464512880 | Consumo em gramas: 1.9238E+06|\n",
      "| Dia: 61 | Numero de bacterias:  741678857027806725 | Consumo em gramas: 3.7084E+06|\n",
      "--------------------------------------------------------------------------------------\n"
     ]
    }
   ],
   "source": [
    "peso = 10 ** -11\n",
    "consumo = peso / 2\n",
    "bacterias = 5\n",
    "\n",
    "print('--------------------------------------------------------------------------------------')\n",
    "t0 = 5\n",
    "t1 = 10\n",
    "t2 = 20\n",
    "t3 = 40\n",
    "t4 = 80\n",
    "\n",
    "for i in range(0, 61):    \n",
    "    \n",
    "    if i < 5:\n",
    "        bacterias = 5 * 2**(i)\n",
    "    elif i >= 5:\n",
    "        bacterias = 2 * t4 - t0\n",
    "        t0 = t1\n",
    "        t1 = t2\n",
    "        t2 = t3\n",
    "        t3 = t4\n",
    "        t4 = bacterias \n",
    "    \n",
    "    \n",
    "    consumo = bacterias * peso/2\n",
    "    \n",
    "    fstr = f'{consumo:E}'\n",
    "    pstr = fstr[:5]\n",
    "    final = pstr + fstr[-5:]\n",
    "    \n",
    "    print(f'| Dia: {i+1:2} | Numero de bacterias: {bacterias:19} | Consumo em gramas: {final}|')\n",
    "\n",
    "print('--------------------------------------------------------------------------------------')"
   ]
  },
  {
   "cell_type": "markdown",
   "id": "95a61bbb",
   "metadata": {
    "deletable": false,
    "editable": false,
    "tags": []
   },
   "source": [
    "9. $\\dagger$ Altere o exercício $8$ de maneira que o mesmo passe a exibir as quantidades de lixo consumidas usando as unidades de peso adequadas. Considere microgramas ($10^{-6}$), miligramas ($10^{-3}$), gramas, quilogramas ou toneladas. Escolha sempre a maior unidade onde o peso seja maior que um. Exemplo, ao invés de exibir $0.0037$ gramas deve-se exibir $3.7$ miligramas e não $3700$ microgramas."
   ]
  },
  {
   "cell_type": "code",
   "execution_count": 12,
   "id": "742827be",
   "metadata": {
    "collapsed": true,
    "deletable": false,
    "tags": []
   },
   "outputs": [
    {
     "name": "stdout",
     "output_type": "stream",
     "text": [
      "*----------------------------------------------------------------------------------------*\n",
      "| Dia:  1 | Numero de bacterias: 5                   | Consumo em Microgramas: 0.0000    |\n",
      "| Dia:  2 | Numero de bacterias: 10                  | Consumo em Microgramas: 0.0000    |\n",
      "| Dia:  3 | Numero de bacterias: 20                  | Consumo em Microgramas: 0.0001    |\n",
      "| Dia:  4 | Numero de bacterias: 40                  | Consumo em Microgramas: 0.0002    |\n",
      "| Dia:  5 | Numero de bacterias: 80                  | Consumo em Microgramas: 0.0004    |\n",
      "| Dia:  6 | Numero de bacterias: 155                 | Consumo em Microgramas: 0.0008    |\n",
      "| Dia:  7 | Numero de bacterias: 300                 | Consumo em Microgramas: 0.0015    |\n",
      "| Dia:  8 | Numero de bacterias: 580                 | Consumo em Microgramas: 0.0029    |\n",
      "| Dia:  9 | Numero de bacterias: 1120                | Consumo em Microgramas: 0.0056    |\n",
      "| Dia: 10 | Numero de bacterias: 2160                | Consumo em Microgramas: 0.0108    |\n",
      "| Dia: 11 | Numero de bacterias: 4165                | Consumo em Microgramas: 0.0208    |\n",
      "| Dia: 12 | Numero de bacterias: 8030                | Consumo em Microgramas: 0.0401    |\n",
      "| Dia: 13 | Numero de bacterias: 15480               | Consumo em Microgramas: 0.0774    |\n",
      "| Dia: 14 | Numero de bacterias: 29840               | Consumo em Microgramas: 0.1492    |\n",
      "| Dia: 15 | Numero de bacterias: 57520               | Consumo em Microgramas: 0.2876    |\n",
      "| Dia: 16 | Numero de bacterias: 110875              | Consumo em Microgramas: 0.5544    |\n",
      "| Dia: 17 | Numero de bacterias: 213720              | Consumo em Microgramas: 1.0686    |\n",
      "| Dia: 18 | Numero de bacterias: 411960              | Consumo em Microgramas: 2.0598    |\n",
      "| Dia: 19 | Numero de bacterias: 794080              | Consumo em Microgramas: 3.9704    |\n",
      "| Dia: 20 | Numero de bacterias: 1530640             | Consumo em Microgramas: 7.6532    |\n",
      "| Dia: 21 | Numero de bacterias: 2950405             | Consumo em Microgramas: 14.7520   |\n",
      "| Dia: 22 | Numero de bacterias: 5687090             | Consumo em Microgramas: 28.4354   |\n",
      "| Dia: 23 | Numero de bacterias: 10962220            | Consumo em Microgramas: 54.8111   |\n",
      "| Dia: 24 | Numero de bacterias: 21130360            | Consumo em Microgramas: 105.6518  |\n",
      "| Dia: 25 | Numero de bacterias: 40730080            | Consumo em Microgramas: 203.6504  |\n",
      "| Dia: 26 | Numero de bacterias: 78509755            | Consumo em Microgramas: 392.5488  |\n",
      "| Dia: 27 | Numero de bacterias: 151332420           | Consumo em Microgramas: 756.6621  |\n",
      "| Dia: 28 | Numero de bacterias: 291702620           | Consumo em Miligramas : 1.4585    |\n",
      "| Dia: 29 | Numero de bacterias: 562274880           | Consumo em Miligramas : 2.8114    |\n",
      "| Dia: 30 | Numero de bacterias: 1083819680          | Consumo em Miligramas : 5.4191    |\n",
      "| Dia: 31 | Numero de bacterias: 2089129605          | Consumo em Miligramas : 10.4456   |\n",
      "| Dia: 32 | Numero de bacterias: 4026926790          | Consumo em Miligramas : 20.1346   |\n",
      "| Dia: 33 | Numero de bacterias: 7762150960          | Consumo em Miligramas : 38.8108   |\n",
      "| Dia: 34 | Numero de bacterias: 14962027040         | Consumo em Miligramas : 74.8101   |\n",
      "| Dia: 35 | Numero de bacterias: 28840234400         | Consumo em Miligramas : 144.2012  |\n",
      "| Dia: 36 | Numero de bacterias: 55591339195         | Consumo em Miligramas : 277.9567  |\n",
      "| Dia: 37 | Numero de bacterias: 107155751600        | Consumo em Miligramas : 535.7788  |\n",
      "| Dia: 38 | Numero de bacterias: 206549352240        | Consumo em Gramas     : 1.0327    |\n",
      "| Dia: 39 | Numero de bacterias: 398136677440        | Consumo em Gramas     : 1.9907    |\n",
      "| Dia: 40 | Numero de bacterias: 767433120480        | Consumo em Gramas     : 3.8372    |\n",
      "| Dia: 41 | Numero de bacterias: 1479274901765       | Consumo em Gramas     : 7.3964    |\n",
      "| Dia: 42 | Numero de bacterias: 2851394051930       | Consumo em Gramas     : 14.2570   |\n",
      "| Dia: 43 | Numero de bacterias: 5496238751620       | Consumo em Gramas     : 27.4812   |\n",
      "| Dia: 44 | Numero de bacterias: 10594340825800      | Consumo em Gramas     : 52.9717   |\n",
      "| Dia: 45 | Numero de bacterias: 20421248531120      | Consumo em Gramas     : 102.1062  |\n",
      "| Dia: 46 | Numero de bacterias: 39363222160475      | Consumo em Gramas     : 196.8161  |\n",
      "| Dia: 47 | Numero de bacterias: 75875050269020      | Consumo em Gramas     : 379.3753  |\n",
      "| Dia: 48 | Numero de bacterias: 146253861786420     | Consumo em Gramas     : 731.2693  |\n",
      "| Dia: 49 | Numero de bacterias: 281913382747040     | Consumo em Quilogramas: 1.4096    |\n",
      "| Dia: 50 | Numero de bacterias: 543405516962960     | Consumo em Quilogramas: 2.7170    |\n",
      "| Dia: 51 | Numero de bacterias: 1047447811765445    | Consumo em Quilogramas: 5.2372    |\n",
      "| Dia: 52 | Numero de bacterias: 2019020573261870    | Consumo em Quilogramas: 10.0951   |\n",
      "| Dia: 53 | Numero de bacterias: 3891787284737320    | Consumo em Quilogramas: 19.4589   |\n",
      "| Dia: 54 | Numero de bacterias: 7501661186727600    | Consumo em Quilogramas: 37.5083   |\n",
      "| Dia: 55 | Numero de bacterias: 14459916856492240   | Consumo em Quilogramas: 72.2996   |\n",
      "| Dia: 56 | Numero de bacterias: 27872385901219035   | Consumo em Quilogramas: 139.3619  |\n",
      "| Dia: 57 | Numero de bacterias: 53725751229176200   | Consumo em Quilogramas: 268.6288  |\n",
      "| Dia: 58 | Numero de bacterias: 103559715173615080  | Consumo em Quilogramas: 517.7986  |\n",
      "| Dia: 59 | Numero de bacterias: 199617769160502560  | Consumo em Quilogramas: 998.0888  |\n",
      "| Dia: 60 | Numero de bacterias: 384775621464512880  | Consumo em Toneladas  : 1.9239    |\n",
      "| Dia: 61 | Numero de bacterias: 741678857027806725  | Consumo em Toneladas  : 3.7084    |\n",
      "*----------------------------------------------------------------------------------------*\n"
     ]
    }
   ],
   "source": [
    "def ajeita_pesos(peso):\n",
    "    \n",
    "    def trata_numeros(consumo):\n",
    "        fstr = f'{consumo:.4f}'\n",
    "        return fstr\n",
    "    \n",
    "    #toneladas\n",
    "    if peso/1000000 >= 1:\n",
    "        return 'Toneladas', trata_numeros(peso/1000000)\n",
    "    #Kg\n",
    "    elif peso/1000 >= 1:\n",
    "        return 'Quilogramas', trata_numeros(peso/1000)\n",
    "    #Gramas\n",
    "    elif peso/1 >= 1:\n",
    "        return 'Gramas', trata_numeros(peso/1)\n",
    "    #Miligramas\n",
    "    elif peso/0.001 >= 1:\n",
    "        return 'Miligramas', trata_numeros(peso/0.001)\n",
    "    #Microgramas\n",
    "    else:\n",
    "        return 'Microgramas', trata_numeros(peso/0.000001)\n",
    "    \n",
    "peso = 10 ** -11\n",
    "consumo = peso / 2\n",
    "bacterias = 5\n",
    "\n",
    "print('*----------------------------------------------------------------------------------------*')\n",
    "\n",
    "t0 = 5\n",
    "t1 = 10\n",
    "t2 = 20\n",
    "t3 = 40\n",
    "t4 = 80\n",
    "\n",
    "for i in range(0, 61):\n",
    "    \n",
    "    if i < 5:\n",
    "        bacterias = 5 * 2**(i)\n",
    "    elif i >= 5:\n",
    "        bacterias = 2 * t4 - t0\n",
    "        t0 = t1\n",
    "        t1 = t2\n",
    "        t2 = t3\n",
    "        t3 = t4\n",
    "        t4 = bacterias \n",
    "        \n",
    "    consumo = bacterias * peso/2\n",
    "    \n",
    "    unidade, peso_final = ajeita_pesos(consumo) \n",
    "    \n",
    "    print(f'| Dia: {i+1:2} | Numero de bacterias: {bacterias:<19} | Consumo em {unidade:<11}: {peso_final:<10}|')\n",
    "\n",
    "print('*----------------------------------------------------------------------------------------*')"
   ]
  },
  {
   "cell_type": "markdown",
   "id": "b8c92444",
   "metadata": {
    "deletable": false,
    "editable": false,
    "tags": []
   },
   "source": [
    "10. Escreva um programa que solicita ao usuário que digite uma frase contendo palavras separadas por um único espaço em branco. Em seguida o programa exibe na tela quantas palavras a frase contém, o tamanho da maior palavra da frase e a maior palavra escrita de traz para frente."
   ]
  },
  {
   "cell_type": "code",
   "execution_count": null,
   "id": "2efccfb1",
   "metadata": {
    "deletable": false,
    "tags": []
   },
   "outputs": [],
   "source": []
  },
  {
   "cell_type": "code",
   "execution_count": 53,
   "id": "67b62ca8",
   "metadata": {},
   "outputs": [
    {
     "name": "stdout",
     "output_type": "stream",
     "text": [
      "Digite sua frase: socorram me subi no onibus em marrocos\n",
      "O número de palavras é: 7\n",
      "O tamanho da maior palavra é: 8 letras\n",
      "A maior palavra na frase escrita ao contrário é: socorram\n"
     ]
    }
   ],
   "source": [
    "frase = input(\"Digite sua frase: \")\n",
    "\n",
    "frase += \" \"\n",
    "cont_palavras = 0\n",
    "tamanho_maior_palavra = 0\n",
    "analise_tamanho_palavras = 0\n",
    "palavra_analisada = \"\"\n",
    "\n",
    "\n",
    "for letra in frase:\n",
    "    analise_tamanho_palavras += 1\n",
    "    palavra_analisada += f'{letra}' \n",
    "    if letra == ' ':\n",
    "        if analise_tamanho_palavras > tamanho_maior_palavra:\n",
    "            tamanho_maior_palavra = analise_tamanho_palavras - 1\n",
    "            maior_palavra = palavra_analisada[:tamanho_maior_palavra]\n",
    "        analise_tamanho_palavras = 0\n",
    "        palavra_analisada = \"\"\n",
    "        cont_palavras += 1\n",
    "\n",
    "print(f\"O número de palavras é: {cont_palavras}\")\n",
    "print(f\"O tamanho da maior palavra é: {tamanho_maior_palavra} letras\")\n",
    "print(f\"A maior palavra na frase escrita ao contrário é: {maior_palavra[::-1]}\")"
   ]
  },
  {
   "cell_type": "markdown",
   "id": "2fc4c11d",
   "metadata": {
    "deletable": false,
    "editable": false,
    "tags": []
   },
   "source": [
    "11. Escreva uma função codificadora para a [cifra de Cesar](https://pt.wikipedia.org/wiki/Cifra_de_César): a função recebe como primeiro argumento uma string com uma frase composta apenas de caracteres e espaços e como segundo argumento um número $n \\in [1;15]$. A função deve retornar a string codificada substituindo cada caracter pelo caracter ```n``` posições além no alfabeto. Por exemplo, se ```n == 2```, substituir todas as ocorrências de 'a' por 'c', todas as ocorrências de 'b' por 'd' e assim por diante. Escreva a função e um exemplo de uso."
   ]
  },
  {
   "cell_type": "code",
   "execution_count": 100,
   "id": "1431c5d9",
   "metadata": {
    "deletable": false,
    "tags": []
   },
   "outputs": [
    {
     "name": "stdout",
     "output_type": "stream",
     "text": [
      "orníyrêmgmnmzryuàémonáqnmqnmuvêíjévnmqàmóávôréêà\n"
     ]
    }
   ],
   "source": [
    "def codificador(frase, n):\n",
    "    frase = frase.lower()\n",
    "    alfabeto = 'abcdefghijklmnopqrstuvwxyzáàãâéêíóôú '\n",
    "    frase_modificada = ''\n",
    "    for letra in frase:\n",
    "        contador = 0\n",
    "        while True:\n",
    "            if letra == alfabeto[contador]:\n",
    "                if contador + n + 1 > len(alfabeto): \n",
    "                    frase_modificada += alfabeto[contador + n - len(alfabeto)]\n",
    "                    break\n",
    "                else:\n",
    "                    frase_modificada += alfabeto[contador+n]\n",
    "                    break\n",
    "            contador += 1\n",
    "            \n",
    "        \n",
    "    \n",
    "    return frase_modificada\n",
    "\n",
    "frase = 'Beatles é a melhor banda da história do universo'\n",
    "print(codificador(frase, 13))"
   ]
  },
  {
   "cell_type": "markdown",
   "id": "d888596b",
   "metadata": {
    "deletable": false,
    "editable": false,
    "tags": []
   },
   "source": [
    "12. Escreva uma função capaz de retornar a decodificação de uma string codificada pela função do exercício 11. Escreva a função e um exemplo de uso."
   ]
  },
  {
   "cell_type": "code",
   "execution_count": 101,
   "id": "d98efad3",
   "metadata": {
    "deletable": false,
    "tags": []
   },
   "outputs": [
    {
     "name": "stdout",
     "output_type": "stream",
     "text": [
      "nqmêxqélflmlyqxtáâlnmzpmlpmltuéêiâumlpálízuóqâéá\n",
      "mpléwpâkeklkxpwszãkmlyolkolkstâéhãtlkozkêytípãâz\n",
      "lokâvoãjdjkjwovryàjlkxnkjnkjrsãâgàskjnyjéxsêoàãy\n",
      "knjãunàicijivnuqxáikjwmjimjiqràãfárjimxiâwrénáàx\n",
      "jmiàtmáhbhihumtpwzhjivlihlihpqáàezqihlwhãvqâmzáw\n",
      "ilháslzgaghgtlsovygihukhgkhgopzádyphgkvgàupãlyzv\n",
      "hkgzrkyf fgfskrnuxfhgtjgfjgfnoyzcxogfjufátoàkxyu\n",
      "gjfyqjxeúeferjqmtwegfsifeifemnxybwnfeitezsnájwxt\n",
      "fiexpiwdôdedqiplsvdferhedhedlmwxavmedhsdyrmzivws\n",
      "ehdwohvcócdcphokrucedqgdcgdcklvw uldcgrcxqlyhuvr\n",
      "dgcvngubíbcbognjqtbdcpfcbfcbjkuvútkcbfqbwpkxgtuq\n",
      "cfbumftaêabanfmipsacboebaebaijtuôsjbaepavojwfstp\n",
      "beatles é a melhor banda da história do universo\n",
      "ad skdrúâú úldkgnqúa mc úc úghrsíqh úcnútmhudqrn\n",
      " cúrjcqôãôúôkcjfmpô úlbúôbúôfgqrêpgúôbmôslgtcpqm\n"
     ]
    }
   ],
   "source": [
    "def decodificar(frase):\n",
    "    frase = frase.lower()\n",
    "    alfabeto = 'abcdefghijklmnopqrstuvwxyzáàãâéêíóôú '\n",
    "    \n",
    "    for n in range(1, 16):\n",
    "        frase_modificada = ''\n",
    "        for letra in frase:\n",
    "            contador = 0\n",
    "            while True:\n",
    "                if letra == alfabeto[contador]:\n",
    "                    if contador - n < 0: \n",
    "                        frase_modificada += alfabeto[(len(alfabeto))-n+contador]\n",
    "                        break\n",
    "                    else:\n",
    "                        frase_modificada += alfabeto[contador-n]\n",
    "                        break\n",
    "                contador += 1\n",
    "        print(frase_modificada)\n",
    "    \n",
    "frase = 'orníyrêmgmnmzryuàémonáqnmqnmuvêíjévnmqàmóávôréêà'\n",
    "decodificar(frase)"
   ]
  }
 ],
 "metadata": {
  "kernelspec": {
   "display_name": "Python 3 (ipykernel)",
   "language": "python",
   "name": "python3"
  },
  "language_info": {
   "codemirror_mode": {
    "name": "ipython",
    "version": 3
   },
   "file_extension": ".py",
   "mimetype": "text/x-python",
   "name": "python",
   "nbconvert_exporter": "python",
   "pygments_lexer": "ipython3",
   "version": "3.9.6"
  }
 },
 "nbformat": 4,
 "nbformat_minor": 5
}
