{
 "cells": [
  {
   "cell_type": "markdown",
   "id": "e2491e9b-28de-40db-9b25-cfdb81d46ccb",
   "metadata": {
    "deletable": false,
    "editable": false,
    "tags": []
   },
   "source": [
    "# [Prof. Dalvan Griebler](mailto:dalvan.griebler@pucrs.br)\n",
    "\n",
    "## Programação Orientada a Dados (POD) - Turma 10 (POD_98H04-06)\n",
    "\n",
    "**Atualizado**: 03/09/2021\n",
    "\n",
    "**Descrição**: Trabalho em Grupo: operadores e estruturas sintáticas para programação orientada a dados\n",
    "\n",
    "**Referência**: Adaptação da lista de exercícios do Prof. Felipe Meneguzzi (PUCRS).\n",
    "\n",
    "**Copyright &copy;**: Este documento está sob a licensa da Criative Commons [BY-NC-ND 4.0](https://creativecommons.org/licenses/by-nc-nd/4.0/legalcode)"
   ]
  },
  {
   "cell_type": "markdown",
   "id": "2af7a409-c3f1-46ba-974a-8bcbc3ac632f",
   "metadata": {
    "deletable": false,
    "editable": false,
    "tags": []
   },
   "source": [
    "**_Obs: só use funções e rotinas que foram autorizadas. Caso contrário, a solução será considerada errada!_**"
   ]
  },
  {
   "cell_type": "markdown",
   "id": "43237a37-4909-4c52-ad21-bda0b30867a0",
   "metadata": {
    "deletable": false,
    "editable": false,
    "tags": []
   },
   "source": [
    "## Trabalho realizado por:"
   ]
  },
  {
   "cell_type": "code",
   "execution_count": null,
   "id": "5393c5f0-2eb2-4c3b-9930-7d7ff62309e9",
   "metadata": {
    "deletable": false,
    "tags": []
   },
   "outputs": [],
   "source": []
  },
  {
   "cell_type": "markdown",
   "id": "117391f6-c1a7-4e3c-8340-625caed0fd1b",
   "metadata": {
    "deletable": false,
    "editable": false,
    "tags": []
   },
   "source": [
    "1. Conhecendo-se um valor em reais, deve-se determinar a menor quantidade de notas de 100, 50, 10, 5 e 1 a serem usadas para pagar este valor."
   ]
  },
  {
   "cell_type": "code",
   "execution_count": null,
   "id": "5e6b0fff-fe1d-46e6-bcea-267c970e2bb9",
   "metadata": {
    "deletable": false,
    "tags": []
   },
   "outputs": [],
   "source": []
  },
  {
   "cell_type": "markdown",
   "id": "bdf5aebe-fef2-4687-96cd-e168e5c6b4fb",
   "metadata": {
    "deletable": false,
    "editable": false,
    "tags": []
   },
   "source": [
    "2. O índice de massa corporal de uma pessoa pode ser calculado dividindo-se seu peso (em kgs) pelo quadrado da altura (em métros). Escreva um programa que faz este cálculo a partir do peso e altura informados e informe a situação do usuário em relação a seu peso (abaixo, ideal, acima etc).\n",
    "\n",
    "IMC    | Classificação\n",
    ":----: | :-------------\n",
    "abaixo de 18.5 | abaixo do peso\n",
    "entre 18.6 e 24.9 | Peso ideal\n",
    "entre 25.0 e 29.9 | Sobrepeso\n",
    "entre 30.0 e 34.9 | Obesidade grau I\n",
    "entre 35.0 e 39.9 | Obesidade grau II (severa)\n",
    "acima de 40.0     | Obesidade grau III (mórbida)\n",
    " "
   ]
  },
  {
   "cell_type": "code",
   "execution_count": null,
   "id": "f251bced-2d1f-48d7-93b8-0ef6d2fab6a8",
   "metadata": {
    "deletable": false,
    "tags": []
   },
   "outputs": [],
   "source": []
  },
  {
   "cell_type": "markdown",
   "id": "80fdcee0-c1f5-4478-a039-f402a0168cb3",
   "metadata": {
    "deletable": false,
    "editable": false,
    "tags": []
   },
   "source": [
    "3. Dado que se informam $3$ valores inteiros, verificar se eles formam os lados de um triangulo retângulo."
   ]
  },
  {
   "cell_type": "code",
   "execution_count": null,
   "id": "54e7813c-0592-449a-a0c3-a894bdf6e4fb",
   "metadata": {
    "deletable": false,
    "tags": []
   },
   "outputs": [],
   "source": []
  },
  {
   "cell_type": "markdown",
   "id": "5e137e7a-f8de-4fbf-a3cf-6617fd359b87",
   "metadata": {
    "deletable": false,
    "editable": false,
    "tags": []
   },
   "source": [
    "4. Dado que é fornecida uma quantidade de valores positivos não determinada antecipadamente (a sequencia é encerrada pelo valor $-1$), a cada valor informado deve-se fornecer a media dos valores informados até então."
   ]
  },
  {
   "cell_type": "code",
   "execution_count": null,
   "id": "ee90d6fb-2ba8-4c36-931e-87384aff2bc0",
   "metadata": {
    "deletable": false,
    "tags": []
   },
   "outputs": [],
   "source": []
  },
  {
   "cell_type": "markdown",
   "id": "862973f2-69fa-4ace-9ddc-153b46dd18cd",
   "metadata": {
    "deletable": false,
    "editable": false,
    "tags": []
   },
   "source": [
    "5. Qualquer número natural de quatro algarismos pode ser dividido em duas dezenas formadas pelos seus dois primeiros e dois últimos dígitos.\n",
    "\n",
    "Exemplos:\n",
    "\n",
    "- $1297$: $12$ e $97$.\n",
    "- $5314$: $53$ e $14$.\n",
    "\n",
    "    - Escreva um programa que imprime todos os milhares ($4$ algarismos) cuja raiz quadrada seja a soma das dezenas formadas pela divisão acima.\n",
    "\n",
    "> Exemplo: raiz de $9801 = 99 = 98 + 01$. \n",
    "\n",
    "> Portanto $9801$ é um dos números a ser impresso.\n",
    "\n",
    "_Obs: Neste exercício, você pode usar a função `math.sqrt()` para calcular a raíz ao importar a biblioteca matemática padrão do python no topo da célula de código `import math`._"
   ]
  },
  {
   "cell_type": "code",
   "execution_count": null,
   "id": "16b5647f-7965-4538-a1c3-271f83ee3b14",
   "metadata": {
    "deletable": false,
    "tags": []
   },
   "outputs": [],
   "source": []
  },
  {
   "cell_type": "markdown",
   "id": "1d0bff54-9f5a-4038-bbb5-dd6d1a2c1651",
   "metadata": {
    "deletable": false,
    "editable": false,
    "tags": []
   },
   "source": [
    "6. Escreva um programa que solicita um valor inteiro em reais ($r \\in [1;1000]$) para o usuário e o escreve por extenso.\n",
    "\n",
    "Exemplo: R\\$ 519.00 para: Quinhentos e dezenove reais."
   ]
  },
  {
   "cell_type": "code",
   "execution_count": 3,
   "id": "a4c3f627-03a1-4518-a456-0194403bbda4",
   "metadata": {
    "deletable": false,
    "tags": []
   },
   "outputs": [
    {
     "name": "stdout",
     "output_type": "stream",
     "text": [
      "DIGITE O VALOR: R$143\n",
      "CENTO E  QUARENTA E TRÊS REAIS\n"
     ]
    }
   ],
   "source": [
    "valor = int(input(\"DIGITE O VALOR: R$\"))\n",
    "unidade = \"\"\n",
    "dezena = \"\"\n",
    "centena = \"\"\n",
    "milhar = \"\"\n",
    "str_valor = str(valor)\n",
    "\n",
    "if len(str_valor) == 4:\n",
    "    if str_valor[-3] == \"0\" and str_valor[-2] == \"0\" and str_valor[-1] == \"0\": #e os 3 últimos forem 0\n",
    "        milhar = \"MIL\"\n",
    "    else:\n",
    "        milhar = \"MIL E \"\n",
    "\n",
    "if len(str_valor) >= 3:\n",
    "    if str_valor[-3] == \"1\" and str_valor[-2] == \"0\" and str_valor[-1] == \"0\":\n",
    "        centena = \"CEM\"\n",
    "    elif str_valor[-3] == \"1\":\n",
    "        centena = \"CENTO E \"\n",
    "    elif str_valor[-3] == \"2\" and str_valor[-2] and str_valor[-1] == \"0\":\n",
    "        centena = \"DUZENTOS\"\n",
    "    elif str_valor[-3] == \"2\":\n",
    "        centena = \"DUZENTOS E \"\n",
    "    elif str_valor[-3] == \"3\" and str_valor[-2] and str_valor[-1] == \"0\":\n",
    "        centena = \"TREZENTOS E\"\n",
    "    elif str_valor[-3] == \"3\":\n",
    "        centena = \"TREZENTOS E \"\n",
    "    elif str_valor[-3] == \"4\" and str_valor[-2] and str_valor[-1] == \"0\":\n",
    "        centena = \"QUATROCENTOS\"\n",
    "    elif str_valor[-3] == \"4\":\n",
    "        centena = \"QUATROCENTOS E \"\n",
    "    elif str_valor[-3] == \"5\" and str_valor[-2] and str_valor[-1] == \"0\":\n",
    "        centena = \"QUINHENTOS\"\n",
    "    elif str_valor[-3] == \"5\":\n",
    "        centena = \"QUINHENTOS E \"\n",
    "    elif str_valor[-3] == \"6\" and str_valor[-2] and str_valor[-1] == \"0\":\n",
    "        centena = \"SEISCENTOS\"\n",
    "    elif str_valor[-3] == \"6\":\n",
    "        centena = \"SEISCENTOS E \"\n",
    "    elif str_valor[-3] == \"7\" and str_valor[-2] and str_valor[-1] == \"0\":\n",
    "        centena = \"SETECENTOS\"\n",
    "    elif str_valor[-3] == \"7\":\n",
    "        centena = \"SETECENTOS E \"\n",
    "    elif str_valor[-3] == \"8\" and str_valor[-2] and str_valor[-1] == \"0\":\n",
    "        centena = \"OITOCENTOS\"\n",
    "    elif str_valor[-3] == \"8\":\n",
    "        centena = \"OITOCENTOS E \"\n",
    "    elif str_valor[-3] == \"9\" and str_valor[-2] and str_valor[-1] == \"0\":\n",
    "        centena = \"NOVECENTOS\"\n",
    "    elif str_valor[-3] == \"9\":\n",
    "        centena = \"NOVECENTOS E \"\n",
    "        \n",
    "if len(str_valor) >= 2:\n",
    "    if str_valor[-2] == \"1\":\n",
    "        if str_valor[-1] == \"0\":\n",
    "            dezena = \"DEZ\"\n",
    "        elif str_valor[-1] == \"1\":\n",
    "            dezena = \"ONZE\"\n",
    "        elif str_valor[-1] == \"2\":\n",
    "            dezena = \"DOZE\"\n",
    "        elif str_valor[-1] == \"3\":\n",
    "            dezena = \"TREZE\"\n",
    "        elif str_valor[-1] == \"4\":\n",
    "            dezena = \"QUATORZE\"\n",
    "        elif str_valor[-1] == \"5\":\n",
    "            dezena = \"QUINZE\"\n",
    "        elif str_valor[-1] == \"6\":\n",
    "            dezena = \"DEZESSEIS\"\n",
    "        elif str_valor[-1] == \"7\":\n",
    "            dezena = \"DEZESSETE\"\n",
    "        elif str_valor[-1] == \"8\":\n",
    "            dezena = \"DEZOITO\"\n",
    "        elif str_valor[-1] == \"9\":\n",
    "            dezena = \"DEZENOVE\"\n",
    "    else:\n",
    "        if str_valor[-2] == \"2\" and str_valor[-1] == \"0\":\n",
    "            dezena = \"VINTE\"\n",
    "        elif str_valor[-2] == \"2\":\n",
    "            dezena = \" VINTE E\"\n",
    "        elif str_valor[-2] == \"3\" and str_valor[-1] == \"0\":\n",
    "            dezena = \"TRINTA\"\n",
    "        elif str_valor[-2] == \"3\":\n",
    "            dezena = \" TRINTA E\"\n",
    "        elif str_valor[-2] == \"4\" and str_valor[-1] == \"0\":\n",
    "            dezena = \"QUARENTA\"\n",
    "        elif str_valor[-2] == \"4\":\n",
    "            dezena = \" QUARENTA E\"\n",
    "        elif str_valor[-2] == \"5\" and str_valor[-1] == \"0\":\n",
    "            dezena = \"CINQUENTA\"\n",
    "        elif str_valor[-2] == \"5\":\n",
    "            dezena = \" CINQUENTA E\"\n",
    "        elif str_valor[-2] == \"6\" and str_valor[-1] == \"0\":\n",
    "            dezena = \"SESSENTA\"\n",
    "        elif str_valor[-2] == \"6\":\n",
    "            dezena = \" SESSENTA E\"\n",
    "        elif str_valor[-2] == \"7\" and str_valor[-1] == \"0\":\n",
    "            dezena = \"SETENTA\"\n",
    "        elif str_valor[-2] == \"7\":\n",
    "            dezena = \" SETENTA E\"\n",
    "        elif str_valor[-2] == \"8\" and str_valor[-1] == \"0\":\n",
    "            dezena = \"OITENTA\"\n",
    "        elif str_valor[-2] == \"8\":\n",
    "            dezena = \" OITENTA E\"\n",
    "        elif str_valor[-2] == \"9\" and str_valor[-1] == \"0\":\n",
    "            dezena = \"NOVENTA\"\n",
    "        elif str_valor[-2] == \"9\":\n",
    "            dezena = \" NOVENTA E\"\n",
    "if len(str_valor) > 1 and str_valor[-2] != '1':\n",
    "    if str_valor[-1] == \"1\":\n",
    "        unidade = \" UM\"\n",
    "    if str_valor[-1] == \"2\":\n",
    "        unidade = \" DOIS\"\n",
    "    if str_valor[-1] == \"3\":\n",
    "        unidade = \" TRÊS\"\n",
    "    if str_valor[-1] == \"4\":\n",
    "        unidade = \" QUATRO\"\n",
    "    if str_valor[-1] == \"5\":\n",
    "        unidade = \" CINCO\"\n",
    "    if str_valor[-1] == \"6\":\n",
    "        unidade = \" SEIS\"\n",
    "    if str_valor[-1] == \"7\":\n",
    "        unidade = \" SETE\"\n",
    "    if str_valor[-1] == \"8\":\n",
    "        unidade = \" OITO\"\n",
    "    if str_valor[-1] == \"9\":\n",
    "        unidade = \" NOVE\"\n",
    "        \n",
    "elif len(str_valor) == 1:\n",
    "    if str_valor[-1] == \"1\":\n",
    "        unidade = \" UM\"\n",
    "    if str_valor[-1] == \"2\":\n",
    "        unidade = \" DOIS\"\n",
    "    if str_valor[-1] == \"3\":\n",
    "        unidade = \" TRÊS\"\n",
    "    if str_valor[-1] == \"4\":\n",
    "        unidade = \" QUATRO\"\n",
    "    if str_valor[-1] == \"5\":\n",
    "        unidade = \" CINCO\"\n",
    "    if str_valor[-1] == \"6\":\n",
    "        unidade = \" SEIS\"\n",
    "    if str_valor[-1] == \"7\":\n",
    "        unidade = \" SETE\"\n",
    "    if str_valor[-1] == \"8\":\n",
    "        unidade = \" OITO\"\n",
    "    if str_valor[-1] == \"9\":\n",
    "        unidade = \" NOVE\"\n",
    "print(milhar + centena + dezena + unidade + \" REAIS\")"
   ]
  },
  {
   "cell_type": "markdown",
   "id": "6c8ed996-2eff-4ddf-8439-1ed55091a333",
   "metadata": {
    "deletable": false,
    "editable": false,
    "tags": []
   },
   "source": [
    "7. $\\dagger$ Seus colegas da Biologia criaram uma bacteria que come lixo, consumindo cerca de metade de seu peso em lixo todos os dias (assume-se que uma bactéria pesa cerca de $10^{-11}$ gramas). Seus colegas tem apenas $5$ dessas bactérias, mas elas se dividem em duas todos os dias. Necessita-se montar uma tabela que apresente, a partir do primeiro dia - quando existem apenas $5$ bactérias - até dois meses depois, quantas bactérias existem até o momento e quanto lixo elas comeram naquele dia."
   ]
  },
  {
   "cell_type": "code",
   "execution_count": null,
   "id": "3dda300a-7495-4c93-ba98-e9fa51395efa",
   "metadata": {
    "deletable": false,
    "tags": []
   },
   "outputs": [],
   "source": []
  },
  {
   "cell_type": "markdown",
   "id": "d15aa5e2-441f-4ddd-a89e-83ee2559599f",
   "metadata": {
    "deletable": false,
    "editable": false,
    "tags": []
   },
   "source": [
    "8. $\\dagger$ Altere o exercício $7$ supondo que as bactérias vivem apenas $5$ dias, logo deve-se descontar as bactérias mortas do total diário."
   ]
  },
  {
   "cell_type": "code",
   "execution_count": null,
   "id": "0f165021-6282-48d9-a83f-a9f517c487e7",
   "metadata": {
    "deletable": false,
    "tags": []
   },
   "outputs": [],
   "source": []
  },
  {
   "cell_type": "markdown",
   "id": "11fecbed-39b9-498b-acbd-d2234f3e8cc5",
   "metadata": {
    "deletable": false,
    "editable": false,
    "tags": []
   },
   "source": [
    "9. $\\dagger$ Altere o exercício $8$ de maneira que o mesmo passe a exibir as quantidades de lixo consumidas usando as unidades de peso adequadas. Considere microgramas ($10^{-6}$), miligramas ($10^{-3}$), gramas, quilogramas ou toneladas. Escolha sempre a maior unidade onde o peso seja maior que um. Exemplo, ao invés de exibir $0.0037$ gramas deve-se exibir $3.7$ miligramas e não $3700$ microgramas."
   ]
  },
  {
   "cell_type": "code",
   "execution_count": null,
   "id": "3ae1f08a-644b-4a37-bcd4-7d671f80470a",
   "metadata": {
    "deletable": false,
    "tags": []
   },
   "outputs": [],
   "source": []
  },
  {
   "cell_type": "markdown",
   "id": "d1cdf88a-262a-4b08-95cc-4505f12c3391",
   "metadata": {
    "deletable": false,
    "editable": false,
    "tags": []
   },
   "source": [
    "10. Escreva um programa que solicita ao usuário que digite uma frase contendo palavras separadas por um único espaço em branco. Em seguida o programa exibe na tela quantas palavras a frase contém, o tamanho da maior palavra da frase e a maior palavra escrita de traz para frente."
   ]
  },
  {
   "cell_type": "code",
   "execution_count": null,
   "id": "cde6af82-90af-446a-9082-9ecbb2ce7ca7",
   "metadata": {
    "deletable": false,
    "tags": []
   },
   "outputs": [],
   "source": []
  },
  {
   "cell_type": "markdown",
   "id": "a1942c26-1d0d-4824-93da-78f3940df8ac",
   "metadata": {
    "deletable": false,
    "editable": false,
    "tags": []
   },
   "source": [
    "11. Escreva uma função codificadora para a [cifra de Cesar](https://pt.wikipedia.org/wiki/Cifra_de_César): a função recebe como primeiro argumento uma string com uma frase composta apenas de caracteres e espaços e como segundo argumento um número $n \\in [1;15]$. A função deve retornar a string codificada substituindo cada caracter pelo caracter ```n``` posições além no alfabeto. Por exemplo, se ```n == 2```, substituir todas as ocorrências de 'a' por 'c', todas as ocorrências de 'b' por 'd' e assim por diante. Escreva a função e um exemplo de uso."
   ]
  },
  {
   "cell_type": "code",
   "execution_count": null,
   "id": "f88df5b4-46d0-4ca2-9e14-2a4542434b72",
   "metadata": {
    "deletable": false,
    "tags": []
   },
   "outputs": [],
   "source": []
  },
  {
   "cell_type": "markdown",
   "id": "eec33a6c-4f04-4836-846e-21f30c67b405",
   "metadata": {
    "deletable": false,
    "editable": false,
    "tags": []
   },
   "source": [
    "12. Escreva uma função capaz de retornar a decodificação de uma string codificada pela função do exercício 11. Escreva a função e um exemplo de uso."
   ]
  },
  {
   "cell_type": "code",
   "execution_count": null,
   "id": "409ec52c-b1e6-46d4-b195-fbec0db3eb39",
   "metadata": {
    "deletable": false,
    "tags": []
   },
   "outputs": [],
   "source": []
  }
 ],
 "metadata": {
  "kernelspec": {
   "display_name": "Python 3",
   "language": "python",
   "name": "python3"
  },
  "language_info": {
   "codemirror_mode": {
    "name": "ipython",
    "version": 3
   },
   "file_extension": ".py",
   "mimetype": "text/x-python",
   "name": "python",
   "nbconvert_exporter": "python",
   "pygments_lexer": "ipython3",
   "version": "3.9.6"
  }
 },
 "nbformat": 4,
 "nbformat_minor": 5
}
