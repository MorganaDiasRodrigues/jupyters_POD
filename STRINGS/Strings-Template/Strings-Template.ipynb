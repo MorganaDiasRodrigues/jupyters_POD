{
 "cells": [
  {
   "cell_type": "markdown",
   "id": "b204828f-8e97-4214-8cc0-3276e7a6360f",
   "metadata": {
    "deletable": false,
    "editable": false,
    "tags": []
   },
   "source": [
    "# [Prof. Dalvan Griebler](mailto:dalvan.griebler@pucrs.br)\n",
    "\n",
    "## Programação Orientada a Dados (POD) - Turma 10 (POD_98H04-06)\n",
    "\n",
    "**Atualizado**: 22/08/2021\n",
    "\n",
    "**Descrição**: Material de apoio as aulas sobre Python para POD\n",
    "\n",
    "**Copyright &copy;**: Este documento está sob a licensa da Criative Commons [BY-NC-ND 4.0](https://creativecommons.org/licenses/by-nc-nd/4.0/legalcode)"
   ]
  },
  {
   "cell_type": "markdown",
   "id": "902d0536-4ef8-451e-bb4e-a08412aee8f9",
   "metadata": {
    "deletable": false,
    "editable": false,
    "tags": []
   },
   "source": [
    "# Strings em Python"
   ]
  },
  {
   "cell_type": "markdown",
   "id": "f0b1fbfd-3016-4d57-b3fe-bdec47691ee8",
   "metadata": {
    "deletable": false,
    "editable": false,
    "tags": []
   },
   "source": [
    "## Representação de Strings\n",
    "\n",
    "Podemos usar aspas simples ou duplas"
   ]
  },
  {
   "cell_type": "code",
   "execution_count": null,
   "id": "c1013d5c-196a-4eec-95b5-f2737e7625d8",
   "metadata": {
    "deletable": false,
    "editable": false,
    "tags": []
   },
   "outputs": [],
   "source": [
    "print('Aula de POD!')\n",
    "print(\"Aula de POD!\")"
   ]
  },
  {
   "cell_type": "markdown",
   "id": "44454474-599a-4b4f-8f8a-3f948008902c",
   "metadata": {
    "deletable": false,
    "editable": false,
    "tags": []
   },
   "source": [
    "Podemos também ter mais de uma linha"
   ]
  },
  {
   "cell_type": "code",
   "execution_count": null,
   "id": "8b9dff86-8178-49da-b4c8-8b4cfed4a604",
   "metadata": {
    "deletable": false,
    "editable": false,
    "tags": []
   },
   "outputs": [],
   "source": [
    "POD = \"\"\" Aula\n",
    "de\n",
    "POD!\n",
    "\"\"\"\n",
    "print(POD)"
   ]
  },
  {
   "cell_type": "markdown",
   "id": "c3285d7c-2db9-4960-9135-9adbbec6094a",
   "metadata": {
    "deletable": false,
    "editable": false,
    "tags": []
   },
   "source": [
    "Decobrindo qual é o tipo da variável `POD`"
   ]
  },
  {
   "cell_type": "code",
   "execution_count": null,
   "id": "2b7a09a3-5a36-4ea9-83e9-2fc7cd8b5062",
   "metadata": {
    "deletable": false,
    "editable": false,
    "tags": []
   },
   "outputs": [],
   "source": [
    "print(type(POD))"
   ]
  },
  {
   "cell_type": "markdown",
   "id": "d55701a5-ce74-43ac-ab0d-0500b1b48d95",
   "metadata": {
    "deletable": false,
    "editable": false,
    "tags": []
   },
   "source": [
    "Podemos também deletar o objeto se quisermos."
   ]
  },
  {
   "cell_type": "code",
   "execution_count": null,
   "id": "ccc355e5-38fa-4854-b561-9e134cfbde14",
   "metadata": {
    "deletable": false,
    "editable": false,
    "tags": []
   },
   "outputs": [],
   "source": [
    "del POD\n",
    "print(POD)"
   ]
  },
  {
   "cell_type": "markdown",
   "id": "a9f55dd6-9c23-44b5-a390-d4db98d1eaf3",
   "metadata": {
    "deletable": false,
    "editable": false,
    "tags": []
   },
   "source": [
    "## Operações com Strings"
   ]
  },
  {
   "cell_type": "markdown",
   "id": "fa6d92cc-2a3c-4c41-9e83-ba1aea3a4cd1",
   "metadata": {
    "deletable": false,
    "editable": false,
    "tags": []
   },
   "source": [
    "### Concatenação"
   ]
  },
  {
   "cell_type": "code",
   "execution_count": null,
   "id": "dc89d12a-3409-44de-9a08-1cd932927a1f",
   "metadata": {},
   "outputs": [],
   "source": []
  },
  {
   "cell_type": "markdown",
   "id": "4e4ceb4a-4b78-42f7-b067-f3d409bd7dc6",
   "metadata": {
    "deletable": false,
    "editable": false,
    "tags": []
   },
   "source": [
    "### Obter o comprimeito de String"
   ]
  },
  {
   "cell_type": "code",
   "execution_count": null,
   "id": "5b1f555b-46a5-415f-bb3c-783babc4a1c5",
   "metadata": {},
   "outputs": [],
   "source": []
  },
  {
   "cell_type": "markdown",
   "id": "1641849a-bd0d-40c1-8c34-a98234b9a3fe",
   "metadata": {
    "deletable": false,
    "editable": false,
    "tags": []
   },
   "source": [
    "### Acessar caracter specífico"
   ]
  },
  {
   "cell_type": "code",
   "execution_count": null,
   "id": "5412ac79-19db-4fd5-b458-13e1dd47228e",
   "metadata": {},
   "outputs": [],
   "source": []
  },
  {
   "cell_type": "markdown",
   "id": "3d303612-30c4-42c5-a3f0-886c4a3066c9",
   "metadata": {
    "deletable": false,
    "editable": false,
    "tags": []
   },
   "source": [
    "### Acessar um subconjunto de caracteres"
   ]
  },
  {
   "cell_type": "code",
   "execution_count": null,
   "id": "c4dec408-0988-4140-a18d-d74a26d69ad9",
   "metadata": {},
   "outputs": [],
   "source": []
  },
  {
   "cell_type": "markdown",
   "id": "45a1900a-85c8-474b-b4d3-c3bdb8f717b2",
   "metadata": {
    "deletable": false,
    "editable": false,
    "tags": []
   },
   "source": [
    "### Replicação/Repetição"
   ]
  },
  {
   "cell_type": "code",
   "execution_count": null,
   "id": "c95f6a67-87c6-4b25-a2f4-7a3aba73bbf0",
   "metadata": {},
   "outputs": [],
   "source": []
  },
  {
   "cell_type": "markdown",
   "id": "e6e2bf25-a501-4cd7-aff9-6abc0ad86fa8",
   "metadata": {
    "deletable": false,
    "editable": false,
    "tags": []
   },
   "source": [
    "### Particionar"
   ]
  },
  {
   "cell_type": "code",
   "execution_count": null,
   "id": "710a80f1-44c2-4e17-aa2b-c368af704ab9",
   "metadata": {},
   "outputs": [],
   "source": []
  },
  {
   "cell_type": "markdown",
   "id": "09e7c3c5-531a-4f51-a5ea-b87c15691f47",
   "metadata": {
    "deletable": false,
    "editable": false,
    "tags": []
   },
   "source": [
    "### Contar Ocorrências"
   ]
  },
  {
   "cell_type": "code",
   "execution_count": null,
   "id": "92c6f3a0-84a0-4d3d-a762-cd73409ff5ab",
   "metadata": {},
   "outputs": [],
   "source": []
  },
  {
   "cell_type": "markdown",
   "id": "d9493c85-8d56-4151-8405-db4f3abe62cc",
   "metadata": {
    "deletable": false,
    "editable": false,
    "tags": []
   },
   "source": [
    "### Substituição"
   ]
  },
  {
   "cell_type": "code",
   "execution_count": null,
   "id": "6a90ae96-79c1-47e6-90a4-964fab189df6",
   "metadata": {},
   "outputs": [],
   "source": []
  },
  {
   "cell_type": "markdown",
   "id": "abdeff3c-a51f-4bc1-a280-43f9796eaf84",
   "metadata": {
    "deletable": false,
    "editable": false,
    "tags": []
   },
   "source": [
    "### Encontrar uma Substring"
   ]
  },
  {
   "cell_type": "code",
   "execution_count": null,
   "id": "f3034819-27b8-43a4-8ed4-ec97fca89435",
   "metadata": {},
   "outputs": [],
   "source": []
  },
  {
   "cell_type": "markdown",
   "id": "3002a866-b5e5-4846-832f-aa4d54301785",
   "metadata": {
    "deletable": false,
    "editable": false,
    "tags": []
   },
   "source": [
    "### Conversão de outros tipos para String"
   ]
  },
  {
   "cell_type": "code",
   "execution_count": null,
   "id": "7aa36b87-a8a2-4d24-a0c7-0927e43b0445",
   "metadata": {},
   "outputs": [],
   "source": []
  },
  {
   "cell_type": "markdown",
   "id": "9ba77159-4b26-4118-9464-15e3eb79a950",
   "metadata": {
    "deletable": false,
    "editable": false,
    "tags": []
   },
   "source": [
    "### Comparação de strings"
   ]
  },
  {
   "cell_type": "code",
   "execution_count": null,
   "id": "eead3e9c-9b57-4a72-b278-bdd2bf59e732",
   "metadata": {},
   "outputs": [],
   "source": []
  },
  {
   "cell_type": "markdown",
   "id": "b3b9489f-5acd-472d-9cd0-bac7bfa2c39d",
   "metadata": {
    "deletable": false,
    "editable": false,
    "tags": []
   },
   "source": [
    "### Formatação"
   ]
  },
  {
   "cell_type": "code",
   "execution_count": null,
   "id": "60664c3c-1184-4c68-8234-45e2312e068c",
   "metadata": {},
   "outputs": [],
   "source": []
  },
  {
   "cell_type": "markdown",
   "id": "94772f67-e106-4a62-bf28-fed83e514be6",
   "metadata": {
    "deletable": false,
    "editable": false,
    "tags": []
   },
   "source": [
    "### Algumas dicas úteis"
   ]
  },
  {
   "cell_type": "code",
   "execution_count": null,
   "id": "71af8f9c-056a-43d6-88df-8e2dc9f3fbbc",
   "metadata": {},
   "outputs": [],
   "source": []
  },
  {
   "cell_type": "markdown",
   "id": "d4187776-ad6a-4d6a-8559-aac12dc43e55",
   "metadata": {
    "deletable": false,
    "editable": false,
    "tags": []
   },
   "source": [
    "# Exercícios de Fixação"
   ]
  },
  {
   "cell_type": "markdown",
   "id": "8e7987f2-6237-4ee8-80b0-fce8a842bf69",
   "metadata": {
    "deletable": false,
    "editable": false,
    "tags": []
   },
   "source": [
    "1. Converta a separação em vírgula por espaços em branco da string:\n",
    "   `\"dia,mês,ano,horas,total,nomes,semanas\"`"
   ]
  },
  {
   "cell_type": "code",
   "execution_count": null,
   "id": "5e62d037-ca9a-4258-8abd-9c0dd1abc2f9",
   "metadata": {},
   "outputs": [],
   "source": []
  },
  {
   "cell_type": "markdown",
   "id": "81e9abcb-2507-4b79-aa85-e3896b1c0404",
   "metadata": {
    "deletable": false,
    "editable": false,
    "tags": []
   },
   "source": [
    "2. Leia duas strings a serem informadas pelo usuário no terminal para\n",
    "    - Concatenar elas e mostrar na tela o resultado\n",
    "    - Mostrar na tela a string com todas as letras em maiúsculas\n",
    "    - Mostre na tela se a palavra \"Olá\" está contida nas strings informadas pelo usuário"
   ]
  },
  {
   "cell_type": "code",
   "execution_count": null,
   "id": "5f6e9383-6bc4-4a9a-a687-750c3352ccdd",
   "metadata": {},
   "outputs": [],
   "source": []
  }
 ],
 "metadata": {
  "kernelspec": {
   "display_name": "Python 3",
   "language": "python",
   "name": "python3"
  },
  "language_info": {
   "codemirror_mode": {
    "name": "ipython",
    "version": 3
   },
   "file_extension": ".py",
   "mimetype": "text/x-python",
   "name": "python",
   "nbconvert_exporter": "python",
   "pygments_lexer": "ipython3",
   "version": "3.6.9"
  }
 },
 "nbformat": 4,
 "nbformat_minor": 5
}
