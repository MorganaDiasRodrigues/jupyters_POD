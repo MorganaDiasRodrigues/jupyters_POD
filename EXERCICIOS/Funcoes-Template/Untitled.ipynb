{
 "cells": [
  {
   "cell_type": "code",
   "execution_count": 1,
   "id": "a35d6229",
   "metadata": {},
   "outputs": [
    {
     "name": "stdout",
     "output_type": "stream",
     "text": [
      "A\n",
      "B\n",
      "C\n",
      "D\n",
      "E\n",
      "CF\n",
      "CDadosFDados\n",
      "CG\n",
      "CDadosGDados\n"
     ]
    }
   ],
   "source": [
    "class A:\n",
    "    def __str__(self):\n",
    "        return 'A'\n",
    "    def informacao(self):\n",
    "        print('A')\n",
    "class B:\n",
    "    def __str__(self):\n",
    "        return 'B'\n",
    "class C:\n",
    "    def __str__(self):\n",
    "        return 'C'\n",
    "    def dados(self):\n",
    "        return 'CDados'\n",
    "class D:\n",
    "    def __str__(self):\n",
    "        return 'D'\n",
    "    def informacao(self):\n",
    "        print('D')\n",
    "class E:\n",
    "    def __str__(self):\n",
    "        return 'E'\n",
    "    def informacao(self):\n",
    "        print('E')\n",
    "\n",
    "class F(C, D, E):\n",
    "    def __str__(self):\n",
    "        return super().__str__() + 'F'\n",
    "    def dados(self):\n",
    "        return super().dados() + 'FDados'\n",
    "    def informacao(self):\n",
    "        print('F' + self.dados())\n",
    "\n",
    "class G(C, D, E):\n",
    "    def __str__(self):\n",
    "        return super().__str__() + 'G'\n",
    "    def dados(self):\n",
    "        return super().dados() + 'GDados'\n",
    "\n",
    "    \n",
    "a = A()\n",
    "b = B()\n",
    "c = C()\n",
    "d = D()\n",
    "e = E()\n",
    "f = F()\n",
    "g = G()\n",
    "print(a)\n",
    "print(b)\n",
    "print(c)\n",
    "print(d)\n",
    "print(e)\n",
    "print(f)\n",
    "print(f.dados())\n",
    "print(g)\n",
    "print(g.dados())\n"
   ]
  },
  {
   "cell_type": "code",
   "execution_count": null,
   "id": "4b9d911e",
   "metadata": {},
   "outputs": [],
   "source": []
  }
 ],
 "metadata": {
  "kernelspec": {
   "display_name": "Python 3",
   "language": "python",
   "name": "python3"
  },
  "language_info": {
   "codemirror_mode": {
    "name": "ipython",
    "version": 3
   },
   "file_extension": ".py",
   "mimetype": "text/x-python",
   "name": "python",
   "nbconvert_exporter": "python",
   "pygments_lexer": "ipython3",
   "version": "3.9.6"
  }
 },
 "nbformat": 4,
 "nbformat_minor": 5
}
