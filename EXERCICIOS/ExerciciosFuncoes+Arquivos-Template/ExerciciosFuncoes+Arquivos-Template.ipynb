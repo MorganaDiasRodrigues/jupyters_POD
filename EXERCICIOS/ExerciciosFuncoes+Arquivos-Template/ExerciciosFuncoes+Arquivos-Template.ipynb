{
 "cells": [
  {
   "cell_type": "markdown",
   "id": "8949b32f-f075-4cfe-a1c9-aa7fbebf145c",
   "metadata": {
    "deletable": false,
    "editable": false,
    "tags": []
   },
   "source": [
    "# [Prof. Dalvan Griebler](mailto:dalvan.griebler@pucrs.br)\n",
    "\n",
    "## Programação Orientada a Dados (POD) - Turma 10 (POD_98H04-06)\n",
    "\n",
    "**Atualizado**: 28/08/2021\n",
    "\n",
    "**Descrição**: Exercícios sobre Funções com Arquivos em Python para POD. \n",
    "\n",
    "**Referência**: Adaptação da lista de exercícios do Prof. Felipe Meneguzzi (PUCRS).\n",
    "\n",
    "**Copyright &copy;**: Este documento está sob a licensa da Criative Commons [BY-NC-ND 4.0](https://creativecommons.org/licenses/by-nc-nd/4.0/legalcode)"
   ]
  },
  {
   "cell_type": "markdown",
   "id": "5db77a6a-0822-4223-8743-888cdaa988f5",
   "metadata": {},
   "source": [
    "#### **Exercícios resolvidos por:**"
   ]
  },
  {
   "cell_type": "markdown",
   "id": "09c7fb9d-d8b5-4f42-8b65-50deaaf52b88",
   "metadata": {},
   "source": []
  },
  {
   "cell_type": "markdown",
   "id": "e8ad1bae-e9e6-40a7-a3b9-0983e02cb611",
   "metadata": {},
   "source": [
    "**1- Implemente a função `mdc`, que recebe por parâmetro dois inteiros $m$ e $n$ e deve retornar o Máximo Divisor Comum (MDC) entre os dois números.**"
   ]
  },
  {
   "cell_type": "code",
   "execution_count": null,
   "id": "211dab14-7a3c-4d49-9b48-e39b84db34e0",
   "metadata": {},
   "outputs": [],
   "source": [
    "def mdc(m,n):\n",
    "    pass"
   ]
  },
  {
   "cell_type": "markdown",
   "id": "b961271c-1bc0-4665-b5c2-910a1856762c",
   "metadata": {},
   "source": [
    "Teste da Função `mdc`"
   ]
  },
  {
   "cell_type": "code",
   "execution_count": null,
   "id": "980f1cbf-b22d-453c-8f85-bd282d73cff3",
   "metadata": {},
   "outputs": [],
   "source": [
    "print(\"MDC de 2 e 3 é \",mdc(2,3))\n",
    "print(\"MDC de 10 e 15 é \",mdc(10,15))\n",
    "print(\"MDC de 13 e 17 é \",mdc(13,17))"
   ]
  },
  {
   "cell_type": "markdown",
   "id": "74710da8-c1cc-4f46-b689-024c28a2de66",
   "metadata": {},
   "source": [
    "**Exemplo de Saída Esperada**\n",
    "```\n",
    "MDC de 2 e 3 é  1\n",
    "MDC de 10 e 15 é  5\n",
    "MDC de 13 e 17 é  1\n",
    "```"
   ]
  },
  {
   "cell_type": "markdown",
   "id": "371773bc-7482-4980-afaa-a14180d89ba0",
   "metadata": {},
   "source": [
    "**2- Implemente a função `fat` para calcular o fatorial de um número $n$ informado por parâmetro.**"
   ]
  },
  {
   "cell_type": "code",
   "execution_count": null,
   "id": "e1c6a78f-266a-41dc-80a8-6692085ce915",
   "metadata": {},
   "outputs": [],
   "source": [
    "def fat(n):\n",
    "    pass"
   ]
  },
  {
   "cell_type": "markdown",
   "id": "e7751426-e9a6-480b-80bc-6b847f333932",
   "metadata": {},
   "source": [
    "Teste da função `fat`"
   ]
  },
  {
   "cell_type": "code",
   "execution_count": null,
   "id": "5628c251-1b63-4451-b8a6-da0e284346c2",
   "metadata": {},
   "outputs": [],
   "source": [
    "print(\"Fatorial de 2 é \",fat(2))\n",
    "print(\"Fatorial de 5 é \",fat(5))\n",
    "print(\"Fatorial de 50 é \",fat(50))"
   ]
  },
  {
   "cell_type": "markdown",
   "id": "493cb859-db38-4e3b-82a9-bc7c6b56cb95",
   "metadata": {},
   "source": [
    "**Exemplo de Saída Esperada**\n",
    "```\n",
    "Fatorial de 2 é  2\n",
    "Fatorial de 5 é  120\n",
    "Fatorial de 50 é  30414093201713378043612608166064768844377641568960512000000000000\n",
    "```"
   ]
  },
  {
   "cell_type": "markdown",
   "id": "2adee0b8-60a2-4fb9-9b95-012fc7183406",
   "metadata": {},
   "source": [
    "**3- Implemente a função `cosseno` para aproximar o valor do cosseno de um ângulo. O cosseno de um ângulo pode ser aproximado por $\\cos⁡(x) \\approx 1-\\frac{x^2}{2!}+\\frac{x^4}{4!}-\\frac{x^6}{6!}+\\dots$ A função deve receber por parâmetro o valor do ângulo e o número de termos a serem usados na aproximação. Use a função de fatorial `fat` desenvolvida no Exercicio $2$ para implementar a função `calculaTermo` de cálculo dos termos.**"
   ]
  },
  {
   "cell_type": "code",
   "execution_count": null,
   "id": "b4087bce-0a76-4583-83f3-f026d813b92e",
   "metadata": {},
   "outputs": [],
   "source": [
    "def calculaTermo(angulo,nroDoTermo):\n",
    "    pass\n",
    "    \n",
    "def cosseno(angulo,qtdadeTermos):\n",
    "    pass"
   ]
  },
  {
   "cell_type": "markdown",
   "id": "75e49710-4ab2-4d30-b547-71ea66c87c2c",
   "metadata": {},
   "source": [
    "Teste da função `cosseno`"
   ]
  },
  {
   "cell_type": "code",
   "execution_count": null,
   "id": "02560e45-3ab5-4396-9655-055e998fb65e",
   "metadata": {},
   "outputs": [],
   "source": [
    "print(\"Cosseno de 0 em 10 termos é\",cosseno(0,10))\n",
    "print(\"Cosseno de 3 em 10 termos é\",cosseno(3,10))\n",
    "print(\"Cosseno de 3 em 100 termos é\",cosseno(3,100))\n",
    "print(\"Cosseno de 5 em 100 termos é\",cosseno(5,100))\n",
    "import math\n",
    "print(\"Cosseno de pi em 10 termos é\",cosseno(math.pi,10))"
   ]
  },
  {
   "cell_type": "markdown",
   "id": "755cd42b-42c2-4203-9fbe-30d77830094d",
   "metadata": {},
   "source": [
    "**Exemplo de Saída Esperada**\n",
    "```\n",
    "Cosseno de 0 em 10 termos é 1.0\n",
    "Cosseno de 3 em 10 termos é -0.9899924980061545\n",
    "Cosseno de 3 em 100 termos é -0.9899924966004455\n",
    "Cosseno de 5 em 100 termos é 0.28366218546322675\n",
    "Cosseno de pi em 10 termos é -1.0000000035290801\n",
    "```"
   ]
  },
  {
   "cell_type": "markdown",
   "id": "40b532e1-19ab-4ce7-b026-ebefb5599e5d",
   "metadata": {},
   "source": [
    "**4- Implemente a função `raiz`, que deve aproximar a raiz quadrada de um número pelo algoritmo de Heron. Para aproximar a raiz de um número $N$ use a seguinte formula em cada passo de aproximação: $$k=\\frac{k+\\frac{N}{k}}{2}$$**"
   ]
  },
  {
   "cell_type": "code",
   "execution_count": null,
   "id": "bb281aff-09cb-48d2-aec6-cb2cfd0e83bb",
   "metadata": {},
   "outputs": [],
   "source": [
    "def raiz(n):\n",
    "    pass"
   ]
  },
  {
   "cell_type": "markdown",
   "id": "611e0e1b-1028-40b0-82d9-2c2bfbef48b1",
   "metadata": {},
   "source": [
    "Teste da função `raiz`"
   ]
  },
  {
   "cell_type": "code",
   "execution_count": null,
   "id": "321324e1-451c-4585-9047-41661bc7a358",
   "metadata": {},
   "outputs": [],
   "source": [
    "print(\"A raiz aproximada de 16 é\",raiz(16))\n",
    "print(\"A raiz aproximada de 9 é\",raiz(9))\n",
    "print(\"A raiz aproximada de 81 é\",raiz(81))\n",
    "print(\"A raiz aproximada de 30 é\",raiz(30))"
   ]
  },
  {
   "cell_type": "markdown",
   "id": "c40522bd-b423-4e5d-87d4-e42b4d9bb832",
   "metadata": {},
   "source": [
    "**Exemplo de Saída Esperada**\n",
    "```\n",
    "A raiz aproximada de 16 é 4.0000001858445895\n",
    "A raiz aproximada de 9 é 3.000015360039322\n",
    "A raiz aproximada de 81 é 9.000000000004924\n",
    "A raiz aproximada de 30 é 5.477225575302472\n",
    "```"
   ]
  },
  {
   "cell_type": "markdown",
   "id": "7d570874-5661-42fb-9287-e4defd96dfd8",
   "metadata": {},
   "source": [
    "**5- Dado um arquivo (`clientes.txt`) que possui nomes de clientes de uma companhia telefônica, um por linha, os quais também estão antecedidos do CPF do cliente (11 digitos) e separados do mesmo por uma \",\". Escreva um programa onde o usuário digita um CPF e o programa, consultando o arquivo, imprime na tela o nome do cliente correspondente.** "
   ]
  },
  {
   "cell_type": "code",
   "execution_count": null,
   "id": "e52b4501-1688-4ffc-b981-3273fce14974",
   "metadata": {},
   "outputs": [],
   "source": []
  },
  {
   "cell_type": "markdown",
   "id": "180e1c88-8a99-4e4f-91b2-1360f01197bf",
   "metadata": {},
   "source": [
    "**Exemplo de Saída Esperada**\n",
    "```\n",
    "Qual o CPF do cliente?  12345678900\n",
    "Nome do cliente:  Gabriel\n",
    "```"
   ]
  },
  {
   "cell_type": "markdown",
   "id": "5b661898-a766-4caf-ad6c-ee43a1155ace",
   "metadata": {},
   "source": [
    "**6- Implemente a função `cria1000Ligacoes`, que sorteia pares de números inteiros (número do cliente, custo de uma ligação). O número do cliente serve para selecionar o CPF de um cliente no arquivo `clientes.txt` (pela ordem) e o segundo valor corresponde ao gasto do cliente no mês corrente (um valor de 1 a 100). Esta função deve gerar um arquivo (chamado ```ligacoes.txt```) com informações de pelo menos 1000 ligações de clientes ocorridas no último mês.** \n",
    "\n",
    "_Obs: Nesta questão você pode importar o módulo ```random``` do Python para [gerar números aleatórios](https://docs.python.org/3.6/library/random.html#random.randint)_"
   ]
  },
  {
   "cell_type": "code",
   "execution_count": null,
   "id": "dafb7daa-237f-4dbd-ba88-13944771c3bc",
   "metadata": {},
   "outputs": [],
   "source": [
    "import random\n",
    "def cria1000Ligacoes():\n",
    "    pass"
   ]
  },
  {
   "cell_type": "markdown",
   "id": "2c8434de-fa67-47e6-8882-cec6a2184c08",
   "metadata": {},
   "source": [
    "Teste da função `cria1000Ligacoes()`"
   ]
  },
  {
   "cell_type": "code",
   "execution_count": null,
   "id": "36702eb4-b358-468f-815e-31c97590d5ac",
   "metadata": {},
   "outputs": [],
   "source": [
    "random.seed(2)\n",
    "cria1000Ligacoes()\n",
    "f = open(\"ligacoes.txt\",\"r\")\n",
    "lines = 10\n",
    "for line in f:\n",
    "    print(line)\n",
    "    lines -=1\n",
    "    if lines == 0: break"
   ]
  },
  {
   "cell_type": "markdown",
   "id": "94ef296e-27ad-4f6a-a167-f2b6cbfd880a",
   "metadata": {},
   "source": [
    "**Exemplo de Saída Esperada**\n",
    "```\n",
    "Arquivo de custos criado\n",
    "12345678901, 12\n",
    "\n",
    "12345678902, 47\n",
    "\n",
    "12345678903, 95\n",
    "\n",
    "12345678905, 33\n",
    "\n",
    "12345678900, 28\n",
    "\n",
    "12345678900, 5\n",
    "\n",
    "12345678900, 88\n",
    "\n",
    "12345678903, 56\n",
    "\n",
    "12345678907, 93\n",
    "\n",
    "12345678909, 48\n",
    "```"
   ]
  },
  {
   "cell_type": "markdown",
   "id": "4e7336da-f5cb-4390-96a3-d6bc49a4fc9f",
   "metadata": {},
   "source": [
    "**7- Implemente a função `somaLicacoes` que recebe o CPF como parâmetro e compute o valor gasto por um usuário ao longo do mês consultando o arquivo gerado no Exercício $6$ (`ligacoes.txt`). Teste a função como um programa que pergunta ao usuário o CPF de um cliente da companhia Telefonica e, consultando os arquivos `clientes.txt` e `ligacoes.txt`, imprima o nome do cliente e o valor gasto pelo mesmo no ultimo mês.**"
   ]
  },
  {
   "cell_type": "code",
   "execution_count": null,
   "id": "3ffb9e76-4a81-4f99-bf87-19fb0241481a",
   "metadata": {},
   "outputs": [],
   "source": [
    "def somaLigacoes(cpf):\n",
    "    pass\n",
    "\n",
    "# teste a função aqui"
   ]
  },
  {
   "cell_type": "markdown",
   "id": "7f7690e6-7a7f-480e-97df-2b80a1064841",
   "metadata": {},
   "source": [
    "**Exemplo de Saída Esperada**\n",
    "```\n",
    "Digite o CPF do cliente:  12345678901\n",
    "Adriano  :  4821\n",
    "```"
   ]
  }
 ],
 "metadata": {
  "kernelspec": {
   "display_name": "Python 3",
   "language": "python",
   "name": "python3"
  },
  "language_info": {
   "codemirror_mode": {
    "name": "ipython",
    "version": 3
   },
   "file_extension": ".py",
   "mimetype": "text/x-python",
   "name": "python",
   "nbconvert_exporter": "python",
   "pygments_lexer": "ipython3",
   "version": "3.6.9"
  }
 },
 "nbformat": 4,
 "nbformat_minor": 5
}
