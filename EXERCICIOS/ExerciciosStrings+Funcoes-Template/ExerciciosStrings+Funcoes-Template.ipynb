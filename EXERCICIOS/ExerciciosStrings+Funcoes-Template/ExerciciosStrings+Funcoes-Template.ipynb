{
 "cells": [
  {
   "cell_type": "markdown",
   "id": "5a32646e-c2f3-4dec-a1f1-ab6fe838a011",
   "metadata": {
    "deletable": false,
    "editable": false,
    "tags": []
   },
   "source": [
    "# [Prof. Dalvan Griebler](mailto:dalvan.griebler@pucrs.br)\n",
    "\n",
    "## Programação Orientada a Dados (POD) - Turma 10 (POD_98H04-06)\n",
    "\n",
    "**Atualizado**: 28/08/2021\n",
    "\n",
    "**Descrição**: Exercícios sobre Strings com Funções em Python para POD. \n",
    "\n",
    "**Referência**: Adaptação da lista de exercícios do Prof. Felipe Meneguzzi (PUCRS).\n",
    "\n",
    "**Copyright &copy;**: Este documento está sob a licensa da Criative Commons [BY-NC-ND 4.0](https://creativecommons.org/licenses/by-nc-nd/4.0/legalcode)"
   ]
  },
  {
   "cell_type": "markdown",
   "id": "03403b73-76e6-41b6-9e60-5d40051306b1",
   "metadata": {},
   "source": [
    "#### **Exercícios resolvidos por:**"
   ]
  },
  {
   "cell_type": "markdown",
   "id": "e7b23c0d-dda3-4c66-b297-810e574d2e72",
   "metadata": {},
   "source": []
  },
  {
   "cell_type": "markdown",
   "id": "4b501c93-7f3f-4a49-93ec-2f63388cedb9",
   "metadata": {},
   "source": [
    "### Crie funções sempre que possível para pode exercitar esta funcionalidade da linguagem de programação Python"
   ]
  },
  {
   "cell_type": "markdown",
   "id": "503f0f43-1ad5-41a1-afcb-95672f8215b1",
   "metadata": {},
   "source": [
    "**1- Escreva um programa que solicita ao usuário que digite uma frase contendo palavras separadas por um único espaço em branco. Em seguida o programa deve entrar em um laço onde solicita ao usuário que digite um caracter a sua escolha e imprime quantas vezes aquele caracter aparece na frase. O laço se encerra quando o usuário digita o caracter ```@```**"
   ]
  },
  {
   "cell_type": "code",
   "execution_count": null,
   "id": "65db0fef-e7c6-41fe-b601-8683463ec4f8",
   "metadata": {},
   "outputs": [],
   "source": []
  },
  {
   "cell_type": "markdown",
   "id": "121ac44f-1a6a-4b74-a6e9-516c6a29a9f2",
   "metadata": {
    "deletable": false,
    "editable": false,
    "tags": []
   },
   "source": [
    "**Exemplo de Saída Esperada**\n",
    "```\n",
    "Digite uma frase:  Esta é uma frase de Teste!\n",
    "Digite um caracter (ou @ para parar):   \n",
    "O caracter   aparece na frase 5 vezes\n",
    "Digite um caracter (ou @ para parar):  !\n",
    "O caracter ! aparece na frase 1 vezes\n",
    "Digite um caracter (ou @ para parar):  4\n",
    "O caracter 4 aparece na frase 0 vezes\n",
    "Digite um caracter (ou @ para parar):  a\n",
    "O caracter a aparece na frase 3 vezes\n",
    "Digite um caracter (ou @ para parar):  b\n",
    "O caracter b aparece na frase 0 vezes\n",
    "Digite um caracter (ou @ para parar):  o\n",
    "O caracter o aparece na frase 0 vezes\n",
    "Digite um caracter (ou @ para parar):  @\n",
    "```"
   ]
  },
  {
   "cell_type": "markdown",
   "id": "79966617-14b7-47bd-9f43-198a889adbb4",
   "metadata": {},
   "source": [
    "**2- Escreva um programa que solicita ao usuário que digite uma frase contendo palavras separadas por um único espaço em branco. Em seguida o programa exibe na tela quantas palavras a frase contém. É possível reusar alguma estrutura do exercício 1 neste exercício?**"
   ]
  },
  {
   "cell_type": "code",
   "execution_count": null,
   "id": "49141dd7-554f-4962-a61f-50c6103e88d4",
   "metadata": {},
   "outputs": [],
   "source": []
  },
  {
   "cell_type": "markdown",
   "id": "c37aafcb-c316-447c-b9b1-5a828cfe9036",
   "metadata": {},
   "source": [
    "**Exemplo de Saída Esperada**\n",
    "```\n",
    "Digite uma frase:  Esta é uma frase de teste!\n",
    "A frase tem  6 palavras\n",
    "```"
   ]
  },
  {
   "cell_type": "markdown",
   "id": "cb9a42fe-0221-4956-a4e7-09f628d6d5a1",
   "metadata": {},
   "source": [
    "**3- Altere o exercício 2 para que imprima também o tamanho da maior palavra da frase.**"
   ]
  },
  {
   "cell_type": "code",
   "execution_count": null,
   "id": "7d808a96-475e-485f-a75d-13819c71bfc7",
   "metadata": {},
   "outputs": [],
   "source": []
  },
  {
   "cell_type": "markdown",
   "id": "f2b9ea42-0935-4f3b-9525-bd0b04a894e8",
   "metadata": {},
   "source": [
    "**Exemplo de Saída Esperada**\n",
    "```\n",
    "Digite uma frase:  Esta é uma frase de teste!\n",
    "Esta é uma frase de teste!\n",
    "Esta\n",
    "é\n",
    "uma\n",
    "frase\n",
    "de\n",
    "teste!\n",
    "A frase tem  6 palavras\n",
    "A maior palavra tem  6 letras\n",
    "```"
   ]
  },
  {
   "cell_type": "markdown",
   "id": "fd0739d7-b04d-4075-9da0-a83e68fff80b",
   "metadata": {},
   "source": [
    "**4- Altere o exercício 3 para que imprima novamente a frase, porém, com a maior palavra escrita de traz para frente.**"
   ]
  },
  {
   "cell_type": "code",
   "execution_count": null,
   "id": "7a7424a1-b579-4b83-b314-6ab0fa33e6e6",
   "metadata": {},
   "outputs": [],
   "source": []
  },
  {
   "cell_type": "markdown",
   "id": "32c3fca1-4374-4542-8406-25d6ab67040d",
   "metadata": {},
   "source": [
    "**Exemplo de Saída Esperada**\n",
    "```\n",
    "Digite uma frase:  Esta é uma frase de teste!\n",
    " Esta é uma frase de !etset\n",
    "```"
   ]
  },
  {
   "cell_type": "markdown",
   "id": "d8e5d2fb-5dc6-4c15-9cee-480b7152b263",
   "metadata": {},
   "source": [
    "**5- Escreva uma função chamada ```isIn``` que recebe duas strings por parâmetro e retorna ```True``` se uma das strings esta contida na outra ou ```False``` caso contrário.**"
   ]
  },
  {
   "cell_type": "code",
   "execution_count": null,
   "id": "dbaf9bdf-5422-40ad-b2bf-729a32cf641d",
   "metadata": {},
   "outputs": [],
   "source": []
  },
  {
   "cell_type": "markdown",
   "id": "b2b29754-50c1-4004-8676-173abd43cd65",
   "metadata": {},
   "source": [
    "Código de teste"
   ]
  },
  {
   "cell_type": "code",
   "execution_count": null,
   "id": "7a7792b0-1e0d-41ed-863b-233b2c7e62b0",
   "metadata": {},
   "outputs": [],
   "source": [
    "s1 = \"ana\"\n",
    "s2 = \"bananas\"\n",
    "print(s1,\"está em \"+s2+\"?\",isIn(s1,s2))"
   ]
  },
  {
   "cell_type": "markdown",
   "id": "7d356694-aaeb-477b-9e9c-7256eab33ed0",
   "metadata": {},
   "source": [
    "**Exemplo de Saída Esperada**\n",
    "```\n",
    "ana está em bananas? True\n",
    "```"
   ]
  },
  {
   "cell_type": "markdown",
   "id": "a21b6e34-e6bf-452e-887a-2354f1ee6ff3",
   "metadata": {},
   "source": [
    "**6- Escreva uma função codificadora para a [cifra de Cesar](https://pt.wikipedia.org/wiki/Cifra_de_César): a função recebe como primeiro argumento uma string com uma frase composta apenas de caracteres e espaços e como segundo argumento um número $n \\in [1;15]$. A função deve retornar a string codificada substituindo cada caracter pelo caracter ```n``` posições além no alfabeto. Por exemplo, se ```n == 2```, substituir todas as ocorrências de 'a' por 'c', todas as ocorrências de 'b' por 'd' e assim por diante. Escreva a função e um exemplo de uso.**"
   ]
  },
  {
   "cell_type": "code",
   "execution_count": null,
   "id": "89376971-24ef-499e-b582-e422eeb360bf",
   "metadata": {},
   "outputs": [],
   "source": []
  },
  {
   "cell_type": "markdown",
   "id": "a8344402-458a-4eb2-8ab6-80ce702ab353",
   "metadata": {},
   "source": [
    "**Exemplo de Saída Esperada**\n",
    "```\n",
    "Digite uma palavra em maiúscula:  PROGRAMMING\n",
    "Digite o deslocamento:  28\n",
    "Frase codificada:  RTQITCOOKPI\n",
    "```"
   ]
  },
  {
   "cell_type": "markdown",
   "id": "3df45ab5-3a4d-4952-86b9-47be791022c7",
   "metadata": {},
   "source": [
    "**7- Escreva uma função capaz de retornar a decodificação de uma string codificada pela função do exercício 6. Escreva a função e um exemplo de uso.**"
   ]
  },
  {
   "cell_type": "code",
   "execution_count": null,
   "id": "d511eccd-4072-473b-8597-682535481875",
   "metadata": {},
   "outputs": [],
   "source": []
  },
  {
   "cell_type": "markdown",
   "id": "c993946f-a35d-4c95-a259-849c03ea1c53",
   "metadata": {},
   "source": [
    "**Exemplo de Saída Esperada**\n",
    "```\n",
    "Digite uma palavra codificada em maiúscula:  RTQITCOOKPI\n",
    "Digite o deslocamento:  2\n",
    "Frase decodificada:  PROGRAMMING\n",
    "```"
   ]
  },
  {
   "cell_type": "markdown",
   "id": "70c1b3f3-725f-422b-a341-0dd2f158d9bb",
   "metadata": {},
   "source": [
    "**8- Escreva um programa que solicita um valor inteiro em reais ($r \\in [1;1000]$) para o usuário e o escreve por extenso.**\n",
    "\n",
    "Exemplo: R\\$ 519.00 para: Quinhentos e dezenove reais."
   ]
  },
  {
   "cell_type": "code",
   "execution_count": null,
   "id": "2b6b6853-5544-4bb9-9da7-7d6801f84140",
   "metadata": {},
   "outputs": [],
   "source": []
  },
  {
   "cell_type": "markdown",
   "id": "4f3c9e28-f432-4489-8e6c-44aaa230baba",
   "metadata": {},
   "source": [
    "**Exemplo de Saída Esperada**\n",
    "```\n",
    "Digite um valor em reais:  350.40\n",
    "Valor por extenso:  trezentos e cinquenta reais e quarenta centavos\n",
    "```"
   ]
  }
 ],
 "metadata": {
  "kernelspec": {
   "display_name": "Python 3",
   "language": "python",
   "name": "python3"
  },
  "language_info": {
   "codemirror_mode": {
    "name": "ipython",
    "version": 3
   },
   "file_extension": ".py",
   "mimetype": "text/x-python",
   "name": "python",
   "nbconvert_exporter": "python",
   "pygments_lexer": "ipython3",
   "version": "3.6.9"
  }
 },
 "nbformat": 4,
 "nbformat_minor": 5
}
