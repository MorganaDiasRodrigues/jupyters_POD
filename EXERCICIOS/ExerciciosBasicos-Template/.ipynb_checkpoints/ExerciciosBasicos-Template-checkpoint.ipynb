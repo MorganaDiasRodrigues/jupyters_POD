{
 "cells": [
  {
   "cell_type": "markdown",
   "id": "5d7b12af-f053-4fe9-a67b-88cc324f4a01",
   "metadata": {
    "deletable": false,
    "editable": false,
    "tags": []
   },
   "source": [
    "# [Prof. Dalvan Griebler](mailto:dalvan.griebler@pucrs.br)\n",
    "\n",
    "## Programação Orientada a Dados (POD) - Turma 10 (POD_98H04-06)\n",
    "\n",
    "**Atualizado**: 28/08/2021\n",
    "\n",
    "**Descrição**: Exercícios básicos sobre Python para POD. \n",
    "\n",
    "**Referência**: Adaptação da lista de exercícios do Prof. Felipe Meneguzzi (PUCRS).\n",
    "\n",
    "**Copyright &copy;**: Este documento está sob a licensa da Criative Commons [BY-NC-ND 4.0](https://creativecommons.org/licenses/by-nc-nd/4.0/legalcode)"
   ]
  },
  {
   "cell_type": "markdown",
   "id": "12bebaa4-f296-4e6d-bb08-56fdc83ff3fc",
   "metadata": {},
   "source": [
    "#### **Exercícios resolvidos por:**"
   ]
  },
  {
   "cell_type": "markdown",
   "id": "d99cf45a-0937-4b8d-8232-20d05a767049",
   "metadata": {},
   "source": [
    "Prof. Dalvan Griebler"
   ]
  },
  {
   "cell_type": "code",
   "execution_count": 1,
   "id": "137bae93",
   "metadata": {},
   "outputs": [],
   "source": [
    "import math"
   ]
  },
  {
   "cell_type": "markdown",
   "id": "758e2ecd-2462-4de5-a63b-e4fb39828177",
   "metadata": {},
   "source": [
    "**1- Informar números inteiros de $x$ e $y$, calcular o valor da expressão $((x^4+2x)/(y^2+2x))-10$ com divisão inteira.**"
   ]
  },
  {
   "cell_type": "code",
   "execution_count": 2,
   "id": "cb1a7c8f-82f2-4325-bc36-ac1b0907b589",
   "metadata": {},
   "outputs": [
    {
     "name": "stdout",
     "output_type": "stream",
     "text": [
      "DIGITE O VALOR DE X: 10\n",
      "DIGITE O VALOR DE Y: 10\n",
      "73\n",
      "73\n"
     ]
    }
   ],
   "source": [
    "x = int(input(\"DIGITE O VALOR DE X: \"))\n",
    "y = int(input(\"DIGITE O VALOR DE Y: \"))\n",
    "calculo = ((x*x*x*x + 2*x)/(y*y + 2*x)) - 10\n",
    "calculo2 = ((pow(x, 4)+ 2*x)/(pow(y,2) + 2*x)) - 10\n",
    "print(int(calculo))\n",
    "print(int(calculo2))"
   ]
  },
  {
   "cell_type": "markdown",
   "id": "77b95ccc-fc80-44f1-af7e-4cad6fa2dc64",
   "metadata": {},
   "source": [
    "**Exemplo de Saída Esperada**\n",
    "```\n",
    "Qual o valor de x?  10\n",
    "Qual o valor de y?  10\n",
    "Resultado:  73\n",
    "```"
   ]
  },
  {
   "cell_type": "markdown",
   "id": "1d5b5998-ce7e-4077-8810-30319d4d75f9",
   "metadata": {},
   "source": [
    "**2- Dispondo-se de um valor em Farenheit, deseja-se saber o valor em graus Celsius.  \n",
    "Dica: $C=\\frac{5}{9}\\left(F-32\\right)$**"
   ]
  },
  {
   "cell_type": "code",
   "execution_count": 3,
   "id": "231da77a-65d0-48dc-a31d-2797b49c70d5",
   "metadata": {},
   "outputs": [
    {
     "name": "stdout",
     "output_type": "stream",
     "text": [
      "Escolha um valor em Farenheit: 10\n",
      "-12.222222222222223\n"
     ]
    }
   ],
   "source": [
    "F = float(input(\"Escolha um valor em Farenheit: \"))\n",
    "C = 5/9*(F - 32)\n",
    "print(C)"
   ]
  },
  {
   "cell_type": "markdown",
   "id": "be58251d-96e1-4e21-a309-20b70243d10f",
   "metadata": {},
   "source": [
    "**Exemplo de Saída Esperada**\n",
    "```\n",
    "Escolha um valor em Farenheit: 300\n",
    "148.88888888888889\n",
    "```"
   ]
  },
  {
   "cell_type": "markdown",
   "id": "f796f75f-eb87-49e4-a310-2455eeee63d2",
   "metadata": {},
   "source": [
    "**3- Em um determinado condomínio de empresas todos os terrenos são retangulares e só é permitido construir galpões retangulares sobre os mesmos. Para que uma construção possa ser autorizada, entretanto é necessário que pelo menos $20\\%$ da área do terreno permaneça livre. Dado as dimensões do lado do terreno e dos lados do galpão (em metros) calcule o percentual de área livre do terreno.**"
   ]
  },
  {
   "cell_type": "code",
   "execution_count": 4,
   "id": "d6e2ba33-82d7-473f-bd1e-24ef6d6116fb",
   "metadata": {},
   "outputs": [
    {
     "name": "stdout",
     "output_type": "stream",
     "text": [
      "LADO 1 DO TERRENO: 1\n",
      "LADO 2 DO TERRENO: 1\n",
      "LADO 1 DO GALPÃO: 1\n",
      "LADO 2 DO GALPÃO: 1\n",
      "TERRENO:  1  METROS\n",
      "GALPÃO:  1  METROS\n",
      "ÁREA LIVRE:  0  METROS\n",
      "ÁREA LIVRE EM %:  0.0 %\n"
     ]
    }
   ],
   "source": [
    "terreno_l1 = int(input(\"LADO 1 DO TERRENO: \"))\n",
    "terreno_l2 = int(input(\"LADO 2 DO TERRENO: \"))\n",
    "galpao_l1 = int(input(\"LADO 1 DO GALPÃO: \"))\n",
    "galpao_l2 = int(input(\"LADO 2 DO GALPÃO: \"))\n",
    "terreno = terreno_l1 * terreno_l2\n",
    "galpao = galpao_l1 * galpao_l2\n",
    "livre = (terreno - galpao)\n",
    "porcentagem_livre = livre*100/terreno\n",
    "print(\"TERRENO: \", terreno, \" METROS\")\n",
    "print(\"GALPÃO: \", galpao, \" METROS\")\n",
    "print(\"ÁREA LIVRE: \", livre, \" METROS\")\n",
    "print(\"ÁREA LIVRE EM %: \", porcentagem_livre, \"%\")"
   ]
  },
  {
   "cell_type": "markdown",
   "id": "c3061ed2-5c01-4a25-a425-9000964bbd56",
   "metadata": {},
   "source": [
    "**Exemplo de Saída Esperada**\n",
    "```\n",
    "Digite o valor de um dos lados do terreno:  30\n",
    "Digite o valor do outro lado do terreno:  600\n",
    "Digite o valor de um dos lados do galpão:  12\n",
    "Digite o valor do outro lado do galpão:  8\n",
    "O terreno tem  18000  metros quadrados de área.\n",
    "O galpão tem  96  metros quadrados de área.\n",
    "O terreno tem  99.46666666666667 % de área livre.\n",
    "```"
   ]
  },
  {
   "cell_type": "markdown",
   "id": "5a1d62d1-4109-4fc8-bacb-1e0de1488218",
   "metadata": {},
   "source": [
    "**4- Altere a solução do problema anterior considerando que agora são silos de armazenamento de grãos (base redonda) sobre terrenos que correspondem à um triangulo retângulo.**\n",
    "\n",
    "_Obs: Neste exercício, você pode usar `math.pi` para obter o valor de ${\\pi}$ ao importar a biblioteca matemática padrão do python no topo da célula de código `import math`._\n",
    "\n",
    "Dica: $ac = {\\pi}r^2$"
   ]
  },
  {
   "cell_type": "code",
   "execution_count": 7,
   "id": "a3a9fd1e-5a5e-4122-93da-aa9aab51fb19",
   "metadata": {},
   "outputs": [
    {
     "name": "stdout",
     "output_type": "stream",
     "text": [
      "BASE DO TERRENO: 40\n",
      "ALTURA DO TERRENO: 300\n",
      "RAIO DO SILO: 5\n",
      "TERRENO:  6000.0  METROS\n",
      "SILO:  78.53981633974483  METROS\n",
      "ÁREA LIVRE:  5921.460183660255  METROS\n",
      "ÁREA LIVRE EM %:  98.69100306100425 %\n"
     ]
    }
   ],
   "source": [
    "terreno_b = int(input(\"BASE DO TERRENO: \"))\n",
    "terreno_h = int(input(\"ALTURA DO TERRENO: \"))\n",
    "silo_raio = int(input(\"RAIO DO SILO: \"))\n",
    "terreno = (terreno_b*terreno_h)/2\n",
    "silo = math.pi*(pow(silo_raio, 2))\n",
    "livre = (terreno - silo)\n",
    "porcentagem_livre = livre*100/terreno\n",
    "print(\"TERRENO: \", terreno, \" METROS\")\n",
    "print(\"SILO: \", silo, \" METROS\")\n",
    "print(\"ÁREA LIVRE: \", livre, \" METROS\")\n",
    "print(\"ÁREA LIVRE EM %: \", porcentagem_livre, \"%\")"
   ]
  },
  {
   "cell_type": "markdown",
   "id": "10532e0d-1363-4272-8f5c-2e9a813f7476",
   "metadata": {},
   "source": [
    "**Exemplo de Saída Esperada**\n",
    "```\n",
    "Digite o valor da base do terreno:  40\n",
    "Digite o valor da altura do terreno:  300\n",
    "Digite o raio do silo:  5\n",
    "O terreno tem  6000.0  metros quadrados de área.\n",
    "O silo ocupa  78.53981633974483  metros quadrados de área.\n",
    "5921.460183660255\n",
    "O terreno tem  98.69100306100425 % de área livre.\n",
    "```"
   ]
  },
  {
   "cell_type": "markdown",
   "id": "7182b5f7-3e8b-48cd-9c06-4a6284191d22",
   "metadata": {},
   "source": [
    "**5- Sabendo-se que horas são agora, precisa-se saber quantos segundos já se passaram desde que o dia começou.**"
   ]
  },
  {
   "cell_type": "code",
   "execution_count": 8,
   "id": "c45479fa-6230-4621-9e3a-5bc76e487141",
   "metadata": {},
   "outputs": [
    {
     "name": "stdout",
     "output_type": "stream",
     "text": [
      "DIGITE A HORA (FORMATO 24H): 11\n",
      "DIGITE OS MINUTOS: 20\n",
      "SEGUNDOS PASSADOS:  40800\n"
     ]
    }
   ],
   "source": [
    "hora = int(input(\"DIGITE A HORA (FORMATO 24H): \"))\n",
    "minutos = int(input(\"DIGITE OS MINUTOS: \"))\n",
    "segundos_passados = (hora * 60 * 60) + (minutos * 60)\n",
    "print(\"SEGUNDOS PASSADOS: \", segundos_passados)"
   ]
  },
  {
   "cell_type": "markdown",
   "id": "a870988c-bd12-41f2-a8b7-2cc91286d165",
   "metadata": {},
   "source": [
    "**Exemplo de Saída Esperada**\n",
    "```\n",
    "Informe a Hora (de 1 a 23):  11\n",
    "Informe os Minutos: 20\n",
    "Ja se passaram 40800 segundos desde que o dia começou.\n",
    "```"
   ]
  },
  {
   "cell_type": "markdown",
   "id": "f4052878-525e-4cf5-8f90-4ca7192a4be3",
   "metadata": {},
   "source": [
    "**6- Conhecendo-se um valor em reais, deve-se determinar a menor quantidade de notas de 100, 50, 10, 5 e 1 a serem usadas para pagar este valor.**"
   ]
  },
  {
   "cell_type": "code",
   "execution_count": null,
   "id": "2a623723-966b-442a-928e-01d96222b2fa",
   "metadata": {},
   "outputs": [],
   "source": [
    "\n"
   ]
  },
  {
   "cell_type": "markdown",
   "id": "1fb580a5-4d28-4b86-920d-aa74de484231",
   "metadata": {},
   "source": [
    "**Exemplo de Saída Esperada**\n",
    "```\n",
    "Digite o valor a ser pago:  468\n",
    "Quantidade de notas para pagar R$ 468\n",
    "Notas de 100: 4\n",
    "Notas de 50: 1\n",
    "Notas de 10: 1\n",
    "Notas de 5: 1\n",
    "Notas de 1: 3\n",
    "```"
   ]
  },
  {
   "cell_type": "markdown",
   "id": "78c3b9dd-5335-4cb7-9e71-61124ab8cf43",
   "metadata": {},
   "source": [
    "**7- Se você está a uma altura $h$ (em metros) acima do nível do mar, a distância $d$ (em metros) até o horizonte é dada pela formula $d = \\sqrt{h^2+2rh}$, onde $r$ é o raio da Terra (cerca de $6378150$ metros). Sabendo a altura $h$, precisa-se saber a distância do horizonte.**\n",
    "\n",
    "_Obs: Neste exercício, você pode usar a função `math.sqrt()` para calcular a raíz ao importar a biblioteca matemática padrão do python no topo da célula de código `import math`._"
   ]
  },
  {
   "cell_type": "code",
   "execution_count": null,
   "id": "c9aaaa83-39eb-4d14-a3bc-bbd61a372030",
   "metadata": {},
   "outputs": [],
   "source": []
  },
  {
   "cell_type": "markdown",
   "id": "8a83ab81-7bf1-413c-ad61-9a31e27c8c5c",
   "metadata": {},
   "source": [
    "**Exemplo de Saída Esperada**\n",
    "```\n",
    "Digite a altura:  300\n",
    "Distância até o horizonte:  61862.589664513725  metros\n",
    "```"
   ]
  },
  {
   "cell_type": "markdown",
   "id": "e2176094-4796-4da4-af90-0325a04522e4",
   "metadata": {},
   "source": [
    "**8- Sabendo que na lua uma pessoa tem aproximadamente $16\\%$ do peso que tem na terra e em júpiter uma pessoa pesa $265\\%$ a mais que na terra, conhecendo-se o peso de uma pessoa na terra deseja-se saber seu peso na lua e em júpiter.**"
   ]
  },
  {
   "cell_type": "code",
   "execution_count": null,
   "id": "61c6afaa-f8ba-4fdc-aa97-d4c7dff66ebd",
   "metadata": {},
   "outputs": [],
   "source": []
  },
  {
   "cell_type": "markdown",
   "id": "60eb5a74-491d-489e-834b-762247bdc04d",
   "metadata": {},
   "source": [
    "**Exemplo de Saída Esperada**\n",
    "```\n",
    "Digite o peso (em kg):  100\n",
    "Peso na lua:  16.0 kg\n",
    "Peso em júpiter:  265.0 kg\n",
    "```"
   ]
  },
  {
   "cell_type": "markdown",
   "id": "c01adf72-f5aa-4eb6-84ec-f48a44d948f1",
   "metadata": {},
   "source": [
    "**9- Escreva um programa que recebe dois pontos no plano $P_1=(x_1,y_1)$  e $P_2=(x_2,y_2)$ e calcula (pesquise as formulas necessárias):**\n",
    "\n",
    "1. A distância entre os dois pontos\n",
    "2. Os parâmetros $a$ e $b$ da reta $y=ax+b$ que une estes dois pontos\n",
    "\n",
    "_Obs: Neste exercício, você pode usar a função `math.sqrt()` para calcular a raíz ao importar a biblioteca matemática padrão do python no topo da célula de código `import math`._\n"
   ]
  },
  {
   "cell_type": "code",
   "execution_count": null,
   "id": "fb399b6f-5cfe-4566-8424-ba73e3c3e3a3",
   "metadata": {},
   "outputs": [],
   "source": []
  },
  {
   "cell_type": "markdown",
   "id": "bbf5b47d-f929-4f6f-a4a1-b6acca47ec3c",
   "metadata": {},
   "source": [
    "**10- O índice de massa corporal de uma pessoa pode ser calculado dividindo-se seu peso (em kgs) pelo quadrado da altura (em métros). Escreva um programa que faz este cálculo a partir do peso e altura informados e depois confira sua situação na tabela abaixo:**\n",
    "\n",
    "IMC    | Classificação\n",
    ":----: | :-------------\n",
    "abaixo de 18.5 | abaixo do peso\n",
    "entre 18.6 e 24.9 | Peso ideal\n",
    "entre 25.0 e 29.9 | Sobrepeso\n",
    "entre 30.0 e 34.9 | Obesidade grau I\n",
    "entre 35.0 e 39.9 | Obesidade grau II (severa)\n",
    "acima de 40.0     | Obesidade grau III (mórbida)"
   ]
  },
  {
   "cell_type": "code",
   "execution_count": null,
   "id": "5e4a05c6-d7e9-434e-9e11-3f7086f47e7b",
   "metadata": {},
   "outputs": [],
   "source": []
  },
  {
   "cell_type": "markdown",
   "id": "34b3dcff-c024-462f-a5da-744fa757d541",
   "metadata": {},
   "source": [
    "**Exemplo de Saída Esperada**\n",
    "```\n",
    "Digite o seu o peso em kg:  100\n",
    "Digite sua altura em Métros: 1.80\n",
    "Índice de massa corporal (BMI): 30.864197530864196\n",
    "```"
   ]
  }
 ],
 "metadata": {
  "kernelspec": {
   "display_name": "Python 3",
   "language": "python",
   "name": "python3"
  },
  "language_info": {
   "codemirror_mode": {
    "name": "ipython",
    "version": 3
   },
   "file_extension": ".py",
   "mimetype": "text/x-python",
   "name": "python",
   "nbconvert_exporter": "python",
   "pygments_lexer": "ipython3",
   "version": "3.9.6"
  }
 },
 "nbformat": 4,
 "nbformat_minor": 5
}
