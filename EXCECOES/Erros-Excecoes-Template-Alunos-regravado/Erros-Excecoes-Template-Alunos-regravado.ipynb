{
 "cells": [
  {
   "cell_type": "markdown",
   "id": "2bb1da21-7dc1-4341-ae4e-60ae6906e88e",
   "metadata": {},
   "source": [
    "# [Prof. Dalvan Griebler](mailto:dalvan.griebler@pucrs.br)\n",
    "\n",
    "## Programação Orientada a Dados (POD) - Turma 10 (POD_98H04-06)\n",
    "\n",
    "**Atualizado**: 09/09/2021\n",
    "\n",
    "**Descrição**: Material de apoio as aulas sobre Python para POD\n",
    "\n",
    "**Copyright &copy;**: Este documento está sob a licensa da Criative Commons [BY-NC-ND 4.0](https://creativecommons.org/licenses/by-nc-nd/4.0/legalcode)"
   ]
  },
  {
   "cell_type": "markdown",
   "id": "4ac9a416-ce7d-498d-b3ab-1a46667b05d9",
   "metadata": {},
   "source": [
    "# Erros e Exceções em Python"
   ]
  },
  {
   "cell_type": "markdown",
   "id": "1c852690-9fbb-4f02-80ca-62a5784ce265",
   "metadata": {},
   "source": [
    "## Erros Básicos"
   ]
  },
  {
   "cell_type": "code",
   "execution_count": 6,
   "id": "d668ba64",
   "metadata": {},
   "outputs": [
    {
     "ename": "SyntaxError",
     "evalue": "invalid syntax (<ipython-input-6-297c16e60bd1>, line 3)",
     "output_type": "error",
     "traceback": [
      "\u001b[0;36m  File \u001b[0;32m\"<ipython-input-6-297c16e60bd1>\"\u001b[0;36m, line \u001b[0;32m3\u001b[0m\n\u001b[0;31m    if a = b:\u001b[0m\n\u001b[0m         ^\u001b[0m\n\u001b[0;31mSyntaxError\u001b[0m\u001b[0;31m:\u001b[0m invalid syntax\n"
     ]
    }
   ],
   "source": [
    "a=10\n",
    "b=20\n",
    "if a = b:\n",
    "    print(\"São iguais\")"
   ]
  },
  {
   "cell_type": "code",
   "execution_count": 8,
   "id": "38143586",
   "metadata": {},
   "outputs": [
    {
     "ename": "TypeError",
     "evalue": "unsupported operand type(s) for +: 'int' and 'str'",
     "output_type": "error",
     "traceback": [
      "\u001b[0;31m---------------------------------------------------------------------------\u001b[0m",
      "\u001b[0;31mTypeError\u001b[0m                                 Traceback (most recent call last)",
      "\u001b[0;32m<ipython-input-8-f0737159b8ff>\u001b[0m in \u001b[0;36m<module>\u001b[0;34m\u001b[0m\n\u001b[0;32m----> 1\u001b[0;31m \u001b[0ma\u001b[0m\u001b[0;34m=\u001b[0m\u001b[0;36m1\u001b[0m\u001b[0;34m+\u001b[0m\u001b[0;34m\"1\"\u001b[0m\u001b[0;34m\u001b[0m\u001b[0;34m\u001b[0m\u001b[0m\n\u001b[0m",
      "\u001b[0;31mTypeError\u001b[0m: unsupported operand type(s) for +: 'int' and 'str'"
     ]
    }
   ],
   "source": [
    "a=1+\"1\""
   ]
  },
  {
   "cell_type": "code",
   "execution_count": 10,
   "id": "b1d9b9ff",
   "metadata": {},
   "outputs": [
    {
     "ename": "ValueError",
     "evalue": "invalid literal for int() with base 10: 'abc'",
     "output_type": "error",
     "traceback": [
      "\u001b[0;31m---------------------------------------------------------------------------\u001b[0m",
      "\u001b[0;31mValueError\u001b[0m                                Traceback (most recent call last)",
      "\u001b[0;32m<ipython-input-10-c5944583045c>\u001b[0m in \u001b[0;36m<module>\u001b[0;34m\u001b[0m\n\u001b[0;32m----> 1\u001b[0;31m \u001b[0ma\u001b[0m\u001b[0;34m=\u001b[0m\u001b[0mint\u001b[0m\u001b[0;34m(\u001b[0m\u001b[0;34m\"abc\"\u001b[0m\u001b[0;34m)\u001b[0m\u001b[0;34m\u001b[0m\u001b[0;34m\u001b[0m\u001b[0m\n\u001b[0m",
      "\u001b[0;31mValueError\u001b[0m: invalid literal for int() with base 10: 'abc'"
     ]
    }
   ],
   "source": [
    "a=int(\"abc\")"
   ]
  },
  {
   "cell_type": "code",
   "execution_count": 12,
   "id": "3fd89fa4",
   "metadata": {},
   "outputs": [
    {
     "ename": "NameError",
     "evalue": "name 'hoje' is not defined",
     "output_type": "error",
     "traceback": [
      "\u001b[0;31m---------------------------------------------------------------------------\u001b[0m",
      "\u001b[0;31mNameError\u001b[0m                                 Traceback (most recent call last)",
      "\u001b[0;32m<ipython-input-12-9cbdaf7d8498>\u001b[0m in \u001b[0;36m<module>\u001b[0;34m\u001b[0m\n\u001b[0;32m----> 1\u001b[0;31m \u001b[0mprint\u001b[0m\u001b[0;34m(\u001b[0m\u001b[0mhoje\u001b[0m\u001b[0;34m)\u001b[0m\u001b[0;34m\u001b[0m\u001b[0;34m\u001b[0m\u001b[0m\n\u001b[0m",
      "\u001b[0;31mNameError\u001b[0m: name 'hoje' is not defined"
     ]
    }
   ],
   "source": [
    "print(hoje)"
   ]
  },
  {
   "cell_type": "code",
   "execution_count": 13,
   "id": "9894dc9e",
   "metadata": {},
   "outputs": [
    {
     "ename": "ZeroDivisionError",
     "evalue": "division by zero",
     "output_type": "error",
     "traceback": [
      "\u001b[0;31m---------------------------------------------------------------------------\u001b[0m",
      "\u001b[0;31mZeroDivisionError\u001b[0m                         Traceback (most recent call last)",
      "\u001b[0;32m<ipython-input-13-fe01563e1bc6>\u001b[0m in \u001b[0;36m<module>\u001b[0;34m\u001b[0m\n\u001b[0;32m----> 1\u001b[0;31m \u001b[0mprint\u001b[0m\u001b[0;34m(\u001b[0m\u001b[0;36m10\u001b[0m\u001b[0;34m/\u001b[0m\u001b[0;36m0\u001b[0m\u001b[0;34m)\u001b[0m\u001b[0;34m\u001b[0m\u001b[0;34m\u001b[0m\u001b[0m\n\u001b[0m",
      "\u001b[0;31mZeroDivisionError\u001b[0m: division by zero"
     ]
    }
   ],
   "source": [
    "print(10/0)"
   ]
  },
  {
   "cell_type": "markdown",
   "id": "b290a900",
   "metadata": {},
   "source": [
    "## Assert"
   ]
  },
  {
   "cell_type": "code",
   "execution_count": 17,
   "id": "3f9f23dc",
   "metadata": {},
   "outputs": [
    {
     "ename": "AssertionError",
     "evalue": "Número não é positivo!",
     "output_type": "error",
     "traceback": [
      "\u001b[0;31m---------------------------------------------------------------------------\u001b[0m",
      "\u001b[0;31mAssertionError\u001b[0m                            Traceback (most recent call last)",
      "\u001b[0;32m<ipython-input-17-3f71f3cc69e4>\u001b[0m in \u001b[0;36m<module>\u001b[0;34m\u001b[0m\n\u001b[1;32m      1\u001b[0m \u001b[0mPOD\u001b[0m\u001b[0;34m=\u001b[0m\u001b[0;34m-\u001b[0m\u001b[0;36m1\u001b[0m\u001b[0;34m\u001b[0m\u001b[0;34m\u001b[0m\u001b[0m\n\u001b[0;32m----> 2\u001b[0;31m \u001b[0;32massert\u001b[0m \u001b[0mPOD\u001b[0m\u001b[0;34m>\u001b[0m\u001b[0;36m0\u001b[0m\u001b[0;34m,\u001b[0m \u001b[0;34m\"Número não é positivo!\"\u001b[0m\u001b[0;34m\u001b[0m\u001b[0;34m\u001b[0m\u001b[0m\n\u001b[0m\u001b[1;32m      3\u001b[0m \u001b[0mprint\u001b[0m\u001b[0;34m(\u001b[0m\u001b[0;34m\"Estou aqui!\"\u001b[0m\u001b[0;34m)\u001b[0m\u001b[0;34m\u001b[0m\u001b[0;34m\u001b[0m\u001b[0m\n",
      "\u001b[0;31mAssertionError\u001b[0m: Número não é positivo!"
     ]
    }
   ],
   "source": [
    "POD=-1\n",
    "assert POD>0, \"Número não é positivo!\"\n",
    "print(\"Estou aqui!\")"
   ]
  },
  {
   "cell_type": "markdown",
   "id": "697c91e6",
   "metadata": {},
   "source": [
    "## Tratamento de Exceções"
   ]
  },
  {
   "cell_type": "code",
   "execution_count": 19,
   "id": "df8e6286",
   "metadata": {},
   "outputs": [
    {
     "name": "stdout",
     "output_type": "stream",
     "text": [
      "['ArithmeticError', 'AssertionError', 'AttributeError', 'BaseException', 'BlockingIOError', 'BrokenPipeError', 'BufferError', 'BytesWarning', 'ChildProcessError', 'ConnectionAbortedError', 'ConnectionError', 'ConnectionRefusedError', 'ConnectionResetError', 'DeprecationWarning', 'EOFError', 'Ellipsis', 'EnvironmentError', 'Exception', 'False', 'FileExistsError', 'FileNotFoundError', 'FloatingPointError', 'FutureWarning', 'GeneratorExit', 'IOError', 'ImportError', 'ImportWarning', 'IndentationError', 'IndexError', 'InterruptedError', 'IsADirectoryError', 'KeyError', 'KeyboardInterrupt', 'LookupError', 'MemoryError', 'ModuleNotFoundError', 'NameError', 'None', 'NotADirectoryError', 'NotImplemented', 'NotImplementedError', 'OSError', 'OverflowError', 'PendingDeprecationWarning', 'PermissionError', 'ProcessLookupError', 'RecursionError', 'ReferenceError', 'ResourceWarning', 'RuntimeError', 'RuntimeWarning', 'StopAsyncIteration', 'StopIteration', 'SyntaxError', 'SyntaxWarning', 'SystemError', 'SystemExit', 'TabError', 'TimeoutError', 'True', 'TypeError', 'UnboundLocalError', 'UnicodeDecodeError', 'UnicodeEncodeError', 'UnicodeError', 'UnicodeTranslateError', 'UnicodeWarning', 'UserWarning', 'ValueError', 'Warning', 'ZeroDivisionError', '__IPYTHON__', '__build_class__', '__debug__', '__doc__', '__import__', '__loader__', '__name__', '__package__', '__spec__', 'abs', 'all', 'any', 'ascii', 'bin', 'bool', 'breakpoint', 'bytearray', 'bytes', 'callable', 'chr', 'classmethod', 'compile', 'complex', 'copyright', 'credits', 'delattr', 'dict', 'dir', 'display', 'divmod', 'enumerate', 'eval', 'exec', 'filter', 'float', 'format', 'frozenset', 'get_ipython', 'getattr', 'globals', 'hasattr', 'hash', 'help', 'hex', 'id', 'input', 'int', 'isinstance', 'issubclass', 'iter', 'len', 'license', 'list', 'locals', 'map', 'max', 'memoryview', 'min', 'next', 'object', 'oct', 'open', 'ord', 'pow', 'print', 'property', 'range', 'repr', 'reversed', 'round', 'set', 'setattr', 'slice', 'sorted', 'staticmethod', 'str', 'sum', 'super', 'tuple', 'type', 'vars', 'zip']\n"
     ]
    }
   ],
   "source": [
    "print(dir(locals()[\"__builtins__\"]))"
   ]
  },
  {
   "cell_type": "code",
   "execution_count": 22,
   "id": "41370668",
   "metadata": {},
   "outputs": [
    {
     "name": "stdout",
     "output_type": "stream",
     "text": [
      "Transformamos em Positivo!\n",
      "1\n"
     ]
    }
   ],
   "source": [
    "POD=-1\n",
    "try:\n",
    "    assert POD>0, \"Número não é positivo!\"\n",
    "    print(\"Estou aqui!\")\n",
    "except AssertionError:\n",
    "    POD=abs(POD)\n",
    "    print(\"Transformamos em Positivo!\")\n",
    "\n",
    "print(POD)"
   ]
  },
  {
   "cell_type": "code",
   "execution_count": 26,
   "id": "69a79deb",
   "metadata": {},
   "outputs": [
    {
     "name": "stdout",
     "output_type": "stream",
     "text": [
      "A Divisão não é Possivel!\n",
      "-1\n"
     ]
    }
   ],
   "source": [
    "def calcular(a,b):\n",
    "    return a/b\n",
    "\n",
    "res=-1\n",
    "\n",
    "try: \n",
    "    res=calcular(10/0)\n",
    "    \n",
    "except ZeroDivisionError:\n",
    "    print(\"A Divisão não é Possivel!\")\n",
    "except IndexError:\n",
    "    print(\"Indice não encontrado!\") \n",
    "except FileNotFoundError:\n",
    "    print(\"Arquivo não encontrado!\") \n",
    "except Exception:\n",
    "    print(\"Outra Exceção!\")\n",
    "\n",
    "print(res)"
   ]
  },
  {
   "cell_type": "code",
   "execution_count": 34,
   "id": "e87bd75d",
   "metadata": {},
   "outputs": [
    {
     "name": "stdout",
     "output_type": "stream",
     "text": [
      "Antes\n",
      "Depois\n",
      "10.0\n",
      "Executo sempre!\n"
     ]
    }
   ],
   "source": [
    "def calcular(a,b):\n",
    "    return a/b\n",
    "\n",
    "try: \n",
    "    print(\"Antes\")  \n",
    "    res=calcular(10,1)\n",
    "    print(\"Depois\")\n",
    "except ZeroDivisionError as e:\n",
    "    print(\"A Divisão não é Possivel!\")\n",
    "    print(e)\n",
    "else:\n",
    "    print(res)\n",
    "finally:\n",
    "    print(\"Executo sempre!\")"
   ]
  },
  {
   "cell_type": "code",
   "execution_count": 54,
   "id": "d5fbe12c",
   "metadata": {},
   "outputs": [
    {
     "name": "stdout",
     "output_type": "stream",
     "text": [
      "2\n",
      "type object 'MinhaClasse' has no attribute 'b'\n",
      "FIM\n"
     ]
    }
   ],
   "source": [
    "class MinhaClasse:\n",
    "    a = 2\n",
    "    print(a)\n",
    "    \n",
    "try:\n",
    "    C = MinhaClasse\n",
    "    print (C.b)\n",
    "except AttributeError as e:\n",
    "    print(e)\n",
    "    \n",
    "    \n",
    "print(\"FIM\")"
   ]
  },
  {
   "cell_type": "code",
   "execution_count": 55,
   "id": "540e9c07",
   "metadata": {},
   "outputs": [
    {
     "ename": "ZeroDivisionError",
     "evalue": "('Divisão por Zero não é permitida:', 10, '/', 0)",
     "output_type": "error",
     "traceback": [
      "\u001b[0;31m---------------------------------------------------------------------------\u001b[0m",
      "\u001b[0;31mZeroDivisionError\u001b[0m                         Traceback (most recent call last)",
      "\u001b[0;32m<ipython-input-55-1dc27af2a11d>\u001b[0m in \u001b[0;36m<module>\u001b[0;34m\u001b[0m\n\u001b[1;32m      4\u001b[0m     \u001b[0;32mreturn\u001b[0m \u001b[0ma\u001b[0m\u001b[0;34m/\u001b[0m\u001b[0mb\u001b[0m\u001b[0;34m\u001b[0m\u001b[0;34m\u001b[0m\u001b[0m\n\u001b[1;32m      5\u001b[0m \u001b[0;34m\u001b[0m\u001b[0m\n\u001b[0;32m----> 6\u001b[0;31m \u001b[0mprint\u001b[0m\u001b[0;34m(\u001b[0m\u001b[0mcalcular\u001b[0m\u001b[0;34m(\u001b[0m\u001b[0;36m10\u001b[0m\u001b[0;34m,\u001b[0m\u001b[0;36m0\u001b[0m\u001b[0;34m)\u001b[0m\u001b[0;34m)\u001b[0m\u001b[0;34m\u001b[0m\u001b[0;34m\u001b[0m\u001b[0m\n\u001b[0m",
      "\u001b[0;32m<ipython-input-55-1dc27af2a11d>\u001b[0m in \u001b[0;36mcalcular\u001b[0;34m(a, b)\u001b[0m\n\u001b[1;32m      1\u001b[0m \u001b[0;32mdef\u001b[0m \u001b[0mcalcular\u001b[0m\u001b[0;34m(\u001b[0m\u001b[0ma\u001b[0m\u001b[0;34m,\u001b[0m\u001b[0mb\u001b[0m\u001b[0;34m)\u001b[0m\u001b[0;34m:\u001b[0m\u001b[0;34m\u001b[0m\u001b[0;34m\u001b[0m\u001b[0m\n\u001b[1;32m      2\u001b[0m     \u001b[0;32mif\u001b[0m \u001b[0;34m(\u001b[0m\u001b[0ma\u001b[0m\u001b[0;34m==\u001b[0m\u001b[0;36m0\u001b[0m \u001b[0;32mor\u001b[0m \u001b[0mb\u001b[0m\u001b[0;34m==\u001b[0m\u001b[0;36m0\u001b[0m\u001b[0;34m)\u001b[0m\u001b[0;34m:\u001b[0m\u001b[0;34m\u001b[0m\u001b[0;34m\u001b[0m\u001b[0m\n\u001b[0;32m----> 3\u001b[0;31m         \u001b[0;32mraise\u001b[0m \u001b[0mZeroDivisionError\u001b[0m\u001b[0;34m(\u001b[0m\u001b[0;34m\"Divisão por Zero não é permitida:\"\u001b[0m\u001b[0;34m,\u001b[0m \u001b[0ma\u001b[0m\u001b[0;34m,\u001b[0m \u001b[0;34m\"/\"\u001b[0m\u001b[0;34m,\u001b[0m \u001b[0mb\u001b[0m\u001b[0;34m)\u001b[0m\u001b[0;34m\u001b[0m\u001b[0;34m\u001b[0m\u001b[0m\n\u001b[0m\u001b[1;32m      4\u001b[0m     \u001b[0;32mreturn\u001b[0m \u001b[0ma\u001b[0m\u001b[0;34m/\u001b[0m\u001b[0mb\u001b[0m\u001b[0;34m\u001b[0m\u001b[0;34m\u001b[0m\u001b[0m\n\u001b[1;32m      5\u001b[0m \u001b[0;34m\u001b[0m\u001b[0m\n",
      "\u001b[0;31mZeroDivisionError\u001b[0m: ('Divisão por Zero não é permitida:', 10, '/', 0)"
     ]
    }
   ],
   "source": [
    "def calcular(a,b):\n",
    "    if (a==0 or b==0):\n",
    "        raise ZeroDivisionError(\"Divisão por Zero não é permitida:\", a, \"/\", b)\n",
    "    return a/b\n",
    "\n",
    "print(calcular(10,0))"
   ]
  },
  {
   "cell_type": "code",
   "execution_count": 59,
   "id": "81dcb917",
   "metadata": {},
   "outputs": [
    {
     "name": "stdout",
     "output_type": "stream",
     "text": [
      "Antes\n",
      "A Divisão não é Possivel!\n",
      "('Divisão por Zero não é permitida:', 10, '/', 0)\n",
      "Executo sempre!\n"
     ]
    }
   ],
   "source": [
    "def calcular(a,b):\n",
    "    if (a==0 or b==0):\n",
    "        raise ZeroDivisionError(\"Divisão por Zero não é permitida:\", a, \"/\", b)\n",
    "    return a/b\n",
    "\n",
    "try: \n",
    "    print(\"Antes\")  \n",
    "    res=calcular(10,0)\n",
    "    print(\"Depois\")\n",
    "except ZeroDivisionError as e:\n",
    "    print(\"A Divisão não é Possivel!\")\n",
    "    print(e)\n",
    "except Exception as e:\n",
    "    print(e)\n",
    "else:\n",
    "    print(res)\n",
    "finally:\n",
    "    print(\"Executo sempre!\")"
   ]
  },
  {
   "cell_type": "markdown",
   "id": "ac1537b7",
   "metadata": {},
   "source": [
    "## Exceções Customizadas"
   ]
  },
  {
   "cell_type": "code",
   "execution_count": 64,
   "id": "6d80adf9",
   "metadata": {},
   "outputs": [
    {
     "name": "stdout",
     "output_type": "stream",
     "text": [
      "Obtendo nome\n",
      "Obtendo idade\n",
      "Caetano possui 19 anos\n",
      "Setando idade\n",
      "Esta idade não é válida: -1\n"
     ]
    }
   ],
   "source": [
    "class ErroIdadeInvalida(Exception):\n",
    "    \"\"\"Não é permitido uma idade menor que 0 e maior que 120\"\"\"\n",
    "    def __init__(self,valor):\n",
    "        self.valor=valor\n",
    "    def __str__(self):\n",
    "        return \"Esta idade não é válida: \" + str(self.valor)\n",
    "    \n",
    "    \n",
    "class Pessoa:\n",
    "    def __init__(self, nome, idade):\n",
    "        self.__nome = nome\n",
    "        self.__idade = idade\n",
    "    @property\n",
    "    def nome(self):\n",
    "        print(\"Obtendo nome\")\n",
    "        return self.__nome\n",
    "    #será nossa propriedade e o getter\n",
    "    @property\n",
    "    def idade(self):\n",
    "        print(\"Obtendo idade\")\n",
    "        return self.__idade\n",
    "    @idade.setter\n",
    "    def idade(self,nova_idade):\n",
    "        print(\"Setando idade\")\n",
    "        if isinstance(nova_idade,int) and (nova_idade > 0) and (nova_idade < 120):\n",
    "            self.__idade = nova_idade\n",
    "        else:\n",
    "            raise ErroIdadeInvalida(nova_idade) # raise está criando um novo objeto da classe\n",
    "    @idade.deleter\n",
    "    def idade(self):\n",
    "        print(\"Deleter idade\")\n",
    "        del self.__idade\n",
    "    \n",
    "    def __del__(self):\n",
    "        print(\"Chamando o destrutor da classe\")\n",
    "        del self.idade\n",
    "        del self.__nome\n",
    "    \n",
    "    def __str__(self):\n",
    "        return self.nome + \" possui \" + str(self.idade) + \" anos\"\n",
    "\n",
    "try:\n",
    "    P=Pessoa(\"Caetano\", 19)\n",
    "    print(P)\n",
    "    P.idade=-1\n",
    "    print(P)\n",
    "except ErroIdadeInvalida as e:\n",
    "    print(e)\n"
   ]
  },
  {
   "cell_type": "markdown",
   "id": "c588d0aa",
   "metadata": {},
   "source": [
    "## Exceções em cadeia"
   ]
  },
  {
   "cell_type": "code",
   "execution_count": 67,
   "id": "001588c3",
   "metadata": {},
   "outputs": [
    {
     "ename": "MinhaExcecaoDivisao",
     "evalue": "Minhas Exceção Customizada!",
     "output_type": "error",
     "traceback": [
      "\u001b[0;31m---------------------------------------------------------------------------\u001b[0m",
      "\u001b[0;31mZeroDivisionError\u001b[0m                         Traceback (most recent call last)",
      "\u001b[0;32m<ipython-input-67-06a0790bac1f>\u001b[0m in \u001b[0;36mcalcular\u001b[0;34m(a, b)\u001b[0m\n\u001b[1;32m      6\u001b[0m     \u001b[0;32mtry\u001b[0m\u001b[0;34m:\u001b[0m\u001b[0;34m\u001b[0m\u001b[0;34m\u001b[0m\u001b[0m\n\u001b[0;32m----> 7\u001b[0;31m         \u001b[0;32mreturn\u001b[0m \u001b[0ma\u001b[0m\u001b[0;34m/\u001b[0m\u001b[0mb\u001b[0m\u001b[0;34m\u001b[0m\u001b[0;34m\u001b[0m\u001b[0m\n\u001b[0m\u001b[1;32m      8\u001b[0m     \u001b[0;32mexcept\u001b[0m \u001b[0mException\u001b[0m \u001b[0;32mas\u001b[0m \u001b[0me\u001b[0m\u001b[0;34m:\u001b[0m\u001b[0;34m\u001b[0m\u001b[0;34m\u001b[0m\u001b[0m\n",
      "\u001b[0;31mZeroDivisionError\u001b[0m: division by zero",
      "\nThe above exception was the direct cause of the following exception:\n",
      "\u001b[0;31mMinhaExcecaoDivisao\u001b[0m                       Traceback (most recent call last)",
      "\u001b[0;32m<ipython-input-67-06a0790bac1f>\u001b[0m in \u001b[0;36m<module>\u001b[0;34m\u001b[0m\n\u001b[1;32m      9\u001b[0m         \u001b[0;32mraise\u001b[0m \u001b[0mMinhaExcecaoDivisao\u001b[0m \u001b[0;32mfrom\u001b[0m \u001b[0me\u001b[0m\u001b[0;34m\u001b[0m\u001b[0;34m\u001b[0m\u001b[0m\n\u001b[1;32m     10\u001b[0m \u001b[0;34m\u001b[0m\u001b[0m\n\u001b[0;32m---> 11\u001b[0;31m \u001b[0mprint\u001b[0m\u001b[0;34m(\u001b[0m\u001b[0mcalcular\u001b[0m\u001b[0;34m(\u001b[0m\u001b[0;36m6\u001b[0m\u001b[0;34m,\u001b[0m\u001b[0;36m0\u001b[0m\u001b[0;34m)\u001b[0m\u001b[0;34m)\u001b[0m\u001b[0;34m\u001b[0m\u001b[0;34m\u001b[0m\u001b[0m\n\u001b[0m",
      "\u001b[0;32m<ipython-input-67-06a0790bac1f>\u001b[0m in \u001b[0;36mcalcular\u001b[0;34m(a, b)\u001b[0m\n\u001b[1;32m      7\u001b[0m         \u001b[0;32mreturn\u001b[0m \u001b[0ma\u001b[0m\u001b[0;34m/\u001b[0m\u001b[0mb\u001b[0m\u001b[0;34m\u001b[0m\u001b[0;34m\u001b[0m\u001b[0m\n\u001b[1;32m      8\u001b[0m     \u001b[0;32mexcept\u001b[0m \u001b[0mException\u001b[0m \u001b[0;32mas\u001b[0m \u001b[0me\u001b[0m\u001b[0;34m:\u001b[0m\u001b[0;34m\u001b[0m\u001b[0;34m\u001b[0m\u001b[0m\n\u001b[0;32m----> 9\u001b[0;31m         \u001b[0;32mraise\u001b[0m \u001b[0mMinhaExcecaoDivisao\u001b[0m \u001b[0;32mfrom\u001b[0m \u001b[0me\u001b[0m\u001b[0;34m\u001b[0m\u001b[0;34m\u001b[0m\u001b[0m\n\u001b[0m\u001b[1;32m     10\u001b[0m \u001b[0;34m\u001b[0m\u001b[0m\n\u001b[1;32m     11\u001b[0m \u001b[0mprint\u001b[0m\u001b[0;34m(\u001b[0m\u001b[0mcalcular\u001b[0m\u001b[0;34m(\u001b[0m\u001b[0;36m6\u001b[0m\u001b[0;34m,\u001b[0m\u001b[0;36m0\u001b[0m\u001b[0;34m)\u001b[0m\u001b[0;34m)\u001b[0m\u001b[0;34m\u001b[0m\u001b[0;34m\u001b[0m\u001b[0m\n",
      "\u001b[0;31mMinhaExcecaoDivisao\u001b[0m: Minhas Exceção Customizada!"
     ]
    }
   ],
   "source": [
    "class MinhaExcecaoDivisao(Exception):\n",
    "    def __str__(self):\n",
    "        return \"Minhas Exceção Customizada!\"\n",
    "\n",
    "def calcular(a,b):\n",
    "    try:\n",
    "        return a/b\n",
    "    except Exception as e:\n",
    "        raise MinhaExcecaoDivisao from e\n",
    "        \n",
    "print(calcular(6,0))"
   ]
  },
  {
   "cell_type": "markdown",
   "id": "c69539da",
   "metadata": {},
   "source": [
    "# Exercício de Fixação: Conta Bancária (Cont-4)"
   ]
  },
  {
   "cell_type": "markdown",
   "id": "99803299",
   "metadata": {},
   "source": [
    "1. Adicionar tratamento de exceção na classe `ContaCorrente` implementada no exercício anterior, onde não é permitido o saque e depósito de valores negativos.\n",
    "    - Defina uma nova classe para tratamento de exceção chamada `ErroQuantidade`, que deve receber como parâmetro a conta e a mensagem de erro.\n",
    "    - Atualize também os métodos de depósito e saque na classe `ContaBancária`  e `ContaCorrente` para que lancem a exceção  `ErroQuantidade`  se o valor fornecido for negativo.\n",
    "    - Crie uma classe `ErroSaldo` para lidar com um possível saque abaixo ou acima do limite. É necessário mostrar a informação de qual conta gerou este erro.\n",
    "    - Use blocos `try` e `except` para realizar os testes"
   ]
  },
  {
   "cell_type": "code",
   "execution_count": null,
   "id": "9815cad0",
   "metadata": {},
   "outputs": [],
   "source": []
  }
 ],
 "metadata": {
  "kernelspec": {
   "display_name": "Python 3",
   "language": "python",
   "name": "python3"
  },
  "language_info": {
   "codemirror_mode": {
    "name": "ipython",
    "version": 3
   },
   "file_extension": ".py",
   "mimetype": "text/x-python",
   "name": "python",
   "nbconvert_exporter": "python",
   "pygments_lexer": "ipython3",
   "version": "3.8.8"
  }
 },
 "nbformat": 4,
 "nbformat_minor": 5
}
