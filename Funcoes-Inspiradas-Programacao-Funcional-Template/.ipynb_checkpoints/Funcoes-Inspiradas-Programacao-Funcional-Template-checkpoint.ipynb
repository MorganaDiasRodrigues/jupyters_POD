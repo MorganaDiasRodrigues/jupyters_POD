{
 "cells": [
  {
   "cell_type": "markdown",
   "id": "7a1b21ea",
   "metadata": {},
   "source": [
    "# [Prof. Dalvan Griebler](mailto:dalvan.griebler@pucrs.br)\n",
    "\n",
    "## Programação Orientada a Dados (POD) - Turma 10 (POD_98H04-06)\n",
    "\n",
    "**Atualizado**: 20/10/2021\n",
    "\n",
    "**Descrição**: Material de apoio as aulas sobre Python para POD\n",
    "\n",
    "**Copyright &copy;**: Este documento está sob a licensa da Criative Commons [BY-NC-ND 4.0](https://creativecommons.org/licenses/by-nc-nd/4.0/legalcode)"
   ]
  },
  {
   "cell_type": "markdown",
   "id": "923dd314",
   "metadata": {},
   "source": [
    "# Funções Inspiradas na Programação Funcional"
   ]
  },
  {
   "cell_type": "code",
   "execution_count": 6,
   "id": "a77ca9c3",
   "metadata": {},
   "outputs": [],
   "source": [
    "from itertools import *"
   ]
  },
  {
   "cell_type": "markdown",
   "id": "418b987c",
   "metadata": {},
   "source": [
    "## Zip"
   ]
  },
  {
   "cell_type": "code",
   "execution_count": 2,
   "id": "d65cd1c2",
   "metadata": {},
   "outputs": [
    {
     "name": "stdout",
     "output_type": "stream",
     "text": [
      "(('Morgana', '19'), ('Giu', '22'), ('Cibele', '39'))\n"
     ]
    }
   ],
   "source": [
    "nomes = ['Morgana', 'Giu', 'Cibele']\n",
    "idades = ['19', '22', '39']\n",
    "# a menor lista é considerada para montar as listas/tuplas\n",
    "\n",
    "t = tuple(zip(nomes, idades))\n",
    "print(t)"
   ]
  },
  {
   "cell_type": "code",
   "execution_count": 4,
   "id": "2f7614ce",
   "metadata": {},
   "outputs": [
    {
     "name": "stdout",
     "output_type": "stream",
     "text": [
      "Morgana possui 19 anos\n",
      "Giu possui 22 anos\n",
      "Cibele possui 39 anos\n"
     ]
    }
   ],
   "source": [
    "for nome, idade in zip(nomes, idades):\n",
    "    print(nome, \"possui\", idade, \"anos\")"
   ]
  },
  {
   "cell_type": "markdown",
   "id": "b00606ba",
   "metadata": {},
   "source": [
    "## Chain"
   ]
  },
  {
   "cell_type": "code",
   "execution_count": 8,
   "id": "56519e80",
   "metadata": {},
   "outputs": [
    {
     "name": "stdout",
     "output_type": "stream",
     "text": [
      "<class 'itertools.chain'>\n",
      "[1, 2, 3, 'd', 'c', 'j', (1, 3), (3, 3)]\n"
     ]
    }
   ],
   "source": [
    "var = chain([1,2,3], ['d', 'c', 'j'], [(1,3), (3,3)])\n",
    "print(type(var))\n",
    "print(list(var))"
   ]
  },
  {
   "cell_type": "code",
   "execution_count": 11,
   "id": "c5b23dd8",
   "metadata": {},
   "outputs": [
    {
     "name": "stdout",
     "output_type": "stream",
     "text": [
      "1\n",
      "2\n",
      "3\n",
      "d\n",
      "c\n",
      "j\n",
      "(1, 3)\n",
      "(3, 3)\n"
     ]
    }
   ],
   "source": [
    "for i in chain([1,2,3], ['d', 'c', 'j'], [(1,3), (3,3)]):\n",
    "    print(i)"
   ]
  },
  {
   "cell_type": "markdown",
   "id": "311cf54f",
   "metadata": {},
   "source": [
    "## Compress"
   ]
  },
  {
   "cell_type": "code",
   "execution_count": 12,
   "id": "e5d860e5",
   "metadata": {},
   "outputs": [
    {
     "name": "stdout",
     "output_type": "stream",
     "text": [
      "['Morgana', 'Cibele']\n"
     ]
    }
   ],
   "source": [
    "nomes = ['Morgana', 'Giu', 'Cibele']\n",
    "seletor = [True, False, True]\n",
    "res = compress(nomes, seletor)\n",
    "print(list(res))"
   ]
  },
  {
   "cell_type": "markdown",
   "id": "5bb2eaaf",
   "metadata": {},
   "source": [
    "## Dropwhile"
   ]
  },
  {
   "cell_type": "code",
   "execution_count": 14,
   "id": "b8e5b2ed",
   "metadata": {},
   "outputs": [
    {
     "name": "stdout",
     "output_type": "stream",
     "text": [
      "[4, 5, 6, 7, 8, 9, -1, -3]\n"
     ]
    }
   ],
   "source": [
    "L = [1,2,3,4,5,6,7,8,9,-1,-3]\n",
    "\n",
    "res = dropwhile(lambda x: 4 > x, L)\n",
    "print(list(res))"
   ]
  },
  {
   "cell_type": "markdown",
   "id": "9c667cbb",
   "metadata": {},
   "source": [
    "## Tee"
   ]
  },
  {
   "cell_type": "code",
   "execution_count": 16,
   "id": "0a0e2206",
   "metadata": {},
   "outputs": [
    {
     "name": "stdout",
     "output_type": "stream",
     "text": [
      "[<itertools._tee object at 0x0000017EF780F540>, <itertools._tee object at 0x0000017EF77E9F00>]\n",
      "[1, 2, 3, 4, 5, 6, 7, 8, 9, -1, -3]\n",
      "[1, 2, 3, 4, 5, 6, 7, 8, 9, -1, -3]\n"
     ]
    }
   ],
   "source": [
    "L = [1,2,3,4,5,6,7,8,9,-1,-3]\n",
    "iL=iter(L)\n",
    "\n",
    "res = tee(L,2)\n",
    "print(list(res))\n",
    "\n",
    "for i in res:\n",
    "    print(list(i))"
   ]
  },
  {
   "cell_type": "markdown",
   "id": "d022b254",
   "metadata": {},
   "source": [
    "## Accumulate"
   ]
  },
  {
   "cell_type": "code",
   "execution_count": 18,
   "id": "ec589553",
   "metadata": {},
   "outputs": [
    {
     "name": "stdout",
     "output_type": "stream",
     "text": [
      "[1, 3, 6, 10, 15]\n"
     ]
    }
   ],
   "source": [
    "L = [1,2,3,4,5]\n",
    "res = accumulate(L)\n",
    "print(list(res))"
   ]
  },
  {
   "cell_type": "code",
   "execution_count": 19,
   "id": "56ae4751",
   "metadata": {},
   "outputs": [
    {
     "name": "stdout",
     "output_type": "stream",
     "text": [
      "[1, 2, 6, 24, 120]\n"
     ]
    }
   ],
   "source": [
    "import operator as op\n",
    "L = [1,2,3,4,5]\n",
    "res = accumulate(L, op.mul)\n",
    "print(list(res))"
   ]
  },
  {
   "cell_type": "code",
   "execution_count": 20,
   "id": "6fdb0c5b",
   "metadata": {},
   "outputs": [
    {
     "name": "stdout",
     "output_type": "stream",
     "text": [
      "[1, 1, 1, 1, 1]\n"
     ]
    }
   ],
   "source": [
    "res = accumulate(L, min)\n",
    "print(list(res))"
   ]
  },
  {
   "cell_type": "markdown",
   "id": "8a942392",
   "metadata": {},
   "source": [
    "## Combinations"
   ]
  },
  {
   "cell_type": "code",
   "execution_count": 24,
   "id": "c84eba94",
   "metadata": {},
   "outputs": [
    {
     "name": "stdout",
     "output_type": "stream",
     "text": [
      "[('Morgana', 'Giu', 'Cibele')]\n"
     ]
    }
   ],
   "source": [
    "nomes = ['Morgana', 'Giu', 'Cibele']\n",
    "res = combinations(nomes, 3)\n",
    "print(list(res))"
   ]
  },
  {
   "cell_type": "code",
   "execution_count": null,
   "id": "234b0d28",
   "metadata": {},
   "outputs": [],
   "source": [
    "nomes = ['Morgana', 'Giu', 'Cibele']\n",
    "res = combinations_with_replacement(nomes, 3)\n",
    "print(list(res))"
   ]
  },
  {
   "cell_type": "markdown",
   "id": "5dcc47b1",
   "metadata": {},
   "source": [
    "## Count"
   ]
  },
  {
   "cell_type": "code",
   "execution_count": 25,
   "id": "435801fa",
   "metadata": {},
   "outputs": [
    {
     "name": "stdout",
     "output_type": "stream",
     "text": [
      "2\n",
      "4\n",
      "6\n",
      "8\n"
     ]
    }
   ],
   "source": [
    "sequencia = count(2,2)\n",
    "for i in sequencia:\n",
    "    if not i < 10: break\n",
    "    print(i)"
   ]
  },
  {
   "cell_type": "code",
   "execution_count": 30,
   "id": "a380f10d",
   "metadata": {
    "scrolled": true
   },
   "outputs": [
    {
     "name": "stdout",
     "output_type": "stream",
     "text": [
      "ss 1\n",
      "4\n",
      "7\n"
     ]
    }
   ],
   "source": [
    "sequencia = count(1,3)\n",
    "print('ss', next(sequencia))\n",
    "for i in sequencia:\n",
    "    if not i < 10: break\n",
    "    print(i)"
   ]
  },
  {
   "cell_type": "code",
   "execution_count": 31,
   "id": "c968e97f",
   "metadata": {},
   "outputs": [
    {
     "name": "stdout",
     "output_type": "stream",
     "text": [
      "5\n",
      "7\n",
      "9\n"
     ]
    }
   ],
   "source": [
    "sequencia = count(5,2)\n",
    "for i in sequencia:\n",
    "    if not i < 10: break\n",
    "    print(i)"
   ]
  },
  {
   "cell_type": "markdown",
   "id": "063d4305",
   "metadata": {},
   "source": [
    "## Cycle"
   ]
  },
  {
   "cell_type": "code",
   "execution_count": 33,
   "id": "34f6e901",
   "metadata": {},
   "outputs": [
    {
     "name": "stdout",
     "output_type": "stream",
     "text": [
      "ss Morgana\n",
      "Giu\n",
      "Cibele\n",
      "Morgana\n",
      "Giu\n",
      "Cibele\n",
      "Morgana\n",
      "Giu\n",
      "Cibele\n",
      "Morgana\n",
      "Giu\n"
     ]
    }
   ],
   "source": [
    "sequencia = cycle(['Morgana', 'Giu', 'Cibele'])\n",
    "print('ss', next(sequencia))\n",
    "c = 0\n",
    "for i in sequencia:\n",
    "    if not c < 10: break\n",
    "    print(i)\n",
    "    c += 1"
   ]
  },
  {
   "cell_type": "markdown",
   "id": "401a4c0e",
   "metadata": {},
   "source": [
    "## Groupby"
   ]
  },
  {
   "cell_type": "code",
   "execution_count": 36,
   "id": "86dad325",
   "metadata": {},
   "outputs": [
    {
     "name": "stdout",
     "output_type": "stream",
     "text": [
      "Dalvan [('Dalvan', 10)]\n",
      "Caetano [('Caetano', 11)]\n",
      "Dalvan [('Dalvan', 100)]\n",
      "Caetano [('Caetano', 111)]\n",
      "Roberto [('Roberto', 20)]\n"
     ]
    }
   ],
   "source": [
    "# problemas\n",
    "L = [('Dalvan', 10), ('Caetano', 11), ('Dalvan', 100), ('Caetano', 111), ('Roberto', 20)]\n",
    "\n",
    "for chave, g in groupby(L, lambda x: x[0]):\n",
    "    print(chave, list(g))"
   ]
  },
  {
   "cell_type": "markdown",
   "id": "549df82f",
   "metadata": {},
   "source": [
    "## Starmap"
   ]
  },
  {
   "cell_type": "code",
   "execution_count": 38,
   "id": "20063995",
   "metadata": {},
   "outputs": [
    {
     "name": "stdout",
     "output_type": "stream",
     "text": [
      "[11, 88, 1]\n"
     ]
    }
   ],
   "source": [
    "L = [(11, 12), (88,90), (1,2,3)]\n",
    "res = starmap(min, L)\n",
    "print(list(res))"
   ]
  },
  {
   "cell_type": "markdown",
   "id": "20820888",
   "metadata": {},
   "source": [
    "## Islice"
   ]
  },
  {
   "cell_type": "code",
   "execution_count": 42,
   "id": "5af2b0bf",
   "metadata": {},
   "outputs": [
    {
     "name": "stdout",
     "output_type": "stream",
     "text": [
      "['Giu', 'Cibele']\n"
     ]
    }
   ],
   "source": [
    "L = ['Morgana', 'Giu', 'Cibele']\n",
    "res = islice(nomes, 1,3)\n",
    "print(list(res))"
   ]
  },
  {
   "cell_type": "markdown",
   "id": "276c1868",
   "metadata": {},
   "source": [
    "# Outras função usadas em programação funcional\n",
    "https://docs.python.org/3/library/itertools.html"
   ]
  }
 ],
 "metadata": {
  "kernelspec": {
   "display_name": "Python 3",
   "language": "python",
   "name": "python3"
  },
  "language_info": {
   "codemirror_mode": {
    "name": "ipython",
    "version": 3
   },
   "file_extension": ".py",
   "mimetype": "text/x-python",
   "name": "python",
   "nbconvert_exporter": "python",
   "pygments_lexer": "ipython3",
   "version": "3.9.6"
  }
 },
 "nbformat": 4,
 "nbformat_minor": 5
}
