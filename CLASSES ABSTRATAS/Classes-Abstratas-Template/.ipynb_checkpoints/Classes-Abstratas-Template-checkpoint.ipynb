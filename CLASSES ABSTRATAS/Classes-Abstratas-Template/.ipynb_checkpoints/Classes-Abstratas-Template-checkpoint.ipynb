{
 "cells": [
  {
   "cell_type": "markdown",
   "id": "71504944",
   "metadata": {},
   "source": [
    "# [Prof. Dalvan Griebler](mailto:dalvan.griebler@pucrs.br)\n",
    "\n",
    "## Programação Orientada a Dados (POD) - Turma 10 (POD_98H04-06)\n",
    "\n",
    "**Atualizado**: 15/09/2021\n",
    "\n",
    "**Descrição**: Material de apoio as aulas sobre Python para POD\n",
    "\n",
    "**Copyright &copy;**: Este documento está sob a licensa da Criative Commons [BY-NC-ND 4.0](https://creativecommons.org/licenses/by-nc-nd/4.0/legalcode)"
   ]
  },
  {
   "cell_type": "markdown",
   "id": "6f27215b",
   "metadata": {},
   "source": [
    "# Classes Abstratas em Python"
   ]
  },
  {
   "cell_type": "code",
   "execution_count": 4,
   "id": "dfaae971",
   "metadata": {},
   "outputs": [
    {
     "name": "stdout",
     "output_type": "stream",
     "text": [
      "ABC\n"
     ]
    }
   ],
   "source": [
    "from abc import ABCMeta\n",
    "\n",
    "class MinhaABC(metaclass=ABCMeta):\n",
    "    def __init__(self, nome):\n",
    "        self.nome = nome\n",
    "\n",
    "o=MinhaABC(\"ABC\")\n",
    "print(o.nome)\n",
    "del o, MinhaABC"
   ]
  },
  {
   "cell_type": "code",
   "execution_count": 15,
   "id": "099ca903",
   "metadata": {},
   "outputs": [
    {
     "name": "stdout",
     "output_type": "stream",
     "text": [
      "Getter\n",
      "Seu nome é Morgana\n",
      "Setter\n"
     ]
    }
   ],
   "source": [
    "from abc import ABCMeta, abstractmethod\n",
    "\n",
    "class MinhaABC(metaclass=ABCMeta):\n",
    "    def __init__(self, nome):\n",
    "        self._nome = nome\n",
    "    @property\n",
    "    @abstractmethod\n",
    "    def nome(self): pass\n",
    "    \n",
    "    @nome.setter\n",
    "    @abstractmethod    \n",
    "    def nome(self, valor): pass\n",
    "    \n",
    "    @abstractmethod    \n",
    "    def __str__(self): pass\n",
    "    \n",
    "    \n",
    "    \n",
    "class MinhaClasse(MinhaABC):\n",
    "    def __init__(self, valor):\n",
    "        super().__init__(valor)\n",
    "        \n",
    "    @property\n",
    "    def nome(self):\n",
    "        print(\"Getter\")\n",
    "        return self._nome\n",
    "    \n",
    "    @nome.setter\n",
    "    def nome(self, valor):\n",
    "        print(\"Setter\")\n",
    "        self._nome=valor\n",
    "    \n",
    "    def __str__(self):\n",
    "        return \"Seu nome é \" + self.nome\n",
    "    \n",
    "MC = MinhaClasse(\"Morgana\")\n",
    "print(MC)\n",
    "MC.nome=\"Giuliano\"\n",
    "del MC, MinhaClasse, MinhaABC"
   ]
  },
  {
   "cell_type": "markdown",
   "id": "0af6e07d",
   "metadata": {},
   "source": [
    "## Subclasses Virtuais"
   ]
  },
  {
   "cell_type": "code",
   "execution_count": 22,
   "id": "54eefff6",
   "metadata": {},
   "outputs": [
    {
     "name": "stdout",
     "output_type": "stream",
     "text": [
      "False\n",
      "False\n"
     ]
    }
   ],
   "source": [
    "from abc import ABCMeta\n",
    "class Pessoa(metaclass=ABCMeta):\n",
    "    def __init__(self, nome, idade):\n",
    "        self.nome = nome\n",
    "        self.idade = idade\n",
    "        \n",
    "    def aniversario(self):\n",
    "        self.idade += 1\n",
    "        \n",
    "class Empregado():\n",
    "    def __init__(self, nome, idade, cpf):\n",
    "        self.nome = nome\n",
    "        self.idade = idade\n",
    "        self.cpf = cpf\n",
    "        \n",
    "    def aniversario(self):\n",
    "        self.idade += 1\n",
    "\n",
    "P1 = Pessoa(\"Caetano\", 18)\n",
    "E1 = Empregado(\"Guilherme\", 20, 78)\n",
    "E1.aniversario()\n",
    "print(issubclass(Empregado, Pessoa))\n",
    "print(isinstance(E1, Pessoa))\n",
    "del P1, E1, Pessoa, Empregado"
   ]
  },
  {
   "cell_type": "code",
   "execution_count": 24,
   "id": "119f2d76",
   "metadata": {},
   "outputs": [
    {
     "name": "stdout",
     "output_type": "stream",
     "text": [
      "True\n",
      "True\n"
     ]
    }
   ],
   "source": [
    "from abc import ABCMeta\n",
    "class Pessoa(metaclass=ABCMeta):\n",
    "    def __init__(self, nome, idade):\n",
    "        self.nome = nome\n",
    "        self.idade = idade\n",
    "        \n",
    "    def aniversario(self):\n",
    "        self.idade += 1\n",
    "        \n",
    "class Empregado():\n",
    "    def __init__(self, nome, idade, cpf):\n",
    "        self.nome = nome\n",
    "        self.idade = idade\n",
    "        self.cpf = cpf\n",
    "        \n",
    "    def aniversario(self):\n",
    "        self.idade += 1\n",
    "        \n",
    "Pessoa.register(Empregado)\n",
    "P1 = Pessoa(\"Caetano\", 18)\n",
    "E1 = Empregado(\"Guilherme\", 20, 78)\n",
    "E1.aniversario()\n",
    "print(issubclass(Empregado, Pessoa))\n",
    "print(isinstance(E1, Pessoa))\n",
    "del P1, E1, Pessoa, Empregado"
   ]
  },
  {
   "cell_type": "markdown",
   "id": "81e4b445",
   "metadata": {},
   "source": [
    "## Classes Mistas"
   ]
  },
  {
   "cell_type": "code",
   "execution_count": 23,
   "id": "c6e04ee3",
   "metadata": {},
   "outputs": [
    {
     "name": "stdout",
     "output_type": "stream",
     "text": [
      "True\n",
      "True\n"
     ]
    }
   ],
   "source": []
  },
  {
   "cell_type": "markdown",
   "id": "40d5a426",
   "metadata": {},
   "source": [
    "# Exercício de Fixação: Conta Bancária (Cont-6)"
   ]
  },
  {
   "cell_type": "markdown",
   "id": "bf5f1148",
   "metadata": {},
   "source": [
    "O objetivo é implementar uma classe abstrata (ABC) na classe `ContaBancaria`, que tem sido uma classe concreta. Assim, a criação das contas vai se parecer da seguinte forma.\n",
    "```python\n",
    "conta1 = ContaCorrente(\"343\", \"Ceatano\", 20.50, 115.50)\n",
    "conta2 = ContaDeposito(\"355\", \"Morgana\", 53.45, 1.5)\n",
    "conta3 = ContaInvestimento(\"357\", \"Guilherme\", 82.55, \"Risco Alto\")\n",
    "```"
   ]
  },
  {
   "cell_type": "code",
   "execution_count": null,
   "id": "fadf32fd",
   "metadata": {},
   "outputs": [],
   "source": []
  }
 ],
 "metadata": {
  "kernelspec": {
   "display_name": "Python 3",
   "language": "python",
   "name": "python3"
  },
  "language_info": {
   "codemirror_mode": {
    "name": "ipython",
    "version": 3
   },
   "file_extension": ".py",
   "mimetype": "text/x-python",
   "name": "python",
   "nbconvert_exporter": "python",
   "pygments_lexer": "ipython3",
   "version": "3.9.6"
  }
 },
 "nbformat": 4,
 "nbformat_minor": 5
}
